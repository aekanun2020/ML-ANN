{
 "cells": [
  {
   "cell_type": "code",
   "execution_count": 1,
   "metadata": {
    "collapsed": true
   },
   "outputs": [],
   "source": [
    "from pyspark.sql import SparkSession"
   ]
  },
  {
   "cell_type": "code",
   "execution_count": 2,
   "metadata": {
    "collapsed": true
   },
   "outputs": [],
   "source": [
    "spark = SparkSession.builder \\\n",
    "   .appName(\"Neural Network Model\") \\\n",
    "   .config(\"spark.executor.memory\", \"3gb\") \\\n",
    "   .getOrCreate()\n",
    "   \n",
    "sc = spark.sparkContext"
   ]
  },
  {
   "cell_type": "code",
   "execution_count": 3,
   "metadata": {},
   "outputs": [
    {
     "data": {
      "text/html": [
       "\n",
       "        <div>\n",
       "            <p><b>SparkContext</b></p>\n",
       "\n",
       "            <p><a href=\"http://10.164.0.2:4040\">Spark UI</a></p>\n",
       "\n",
       "            <dl>\n",
       "              <dt>Version</dt>\n",
       "                <dd><code>v2.2.0</code></dd>\n",
       "              <dt>Master</dt>\n",
       "                <dd><code>spark://aekanun-spark-deeplearn:7077</code></dd>\n",
       "              <dt>AppName</dt>\n",
       "                <dd><code>PySparkShell</code></dd>\n",
       "            </dl>\n",
       "        </div>\n",
       "        "
      ],
      "text/plain": [
       "<SparkContext master=spark://aekanun-spark-deeplearn:7077 appName=PySparkShell>"
      ]
     },
     "execution_count": 3,
     "metadata": {},
     "output_type": "execute_result"
    }
   ],
   "source": [
    "sc"
   ]
  },
  {
   "cell_type": "markdown",
   "metadata": {},
   "source": [
    "### DataFrame - Generating a dataset"
   ]
  },
  {
   "cell_type": "code",
   "execution_count": 4,
   "metadata": {
    "collapsed": true
   },
   "outputs": [],
   "source": [
    "raw_df = spark.createDataFrame([('Male', 67, 150), # insert column values\n",
    "                            ('Female', 65, 135),\n",
    "                            ('Female', 68, 130),\n",
    "                            ('Male', 70, 160),\n",
    "                            ('Female', 70, 130),\n",
    "                            ('Male', 69, 174),\n",
    "                            ('Female', 65, 126),\n",
    "                            ('Male', 74, 188),\n",
    "                            ('Female', 60, 110),\n",
    "                            ('Female', 63, 125),\n",
    "                            ('Male', 70, 173),\n",
    "                            ('Male', 70, 145),\n",
    "                            ('Male', 68, 175),\n",
    "                            ('Female', 65, 123),\n",
    "                            ('Male', 71, 145),\n",
    "                            ('Male', 74, 160),\n",
    "                            ('Female', 64, 135),\n",
    "                            ('Male', 71, 175),\n",
    "                            ('Male', 67, 145),\n",
    "                            ('Female', 67, 130),\n",
    "                            ('Male', 70, 162),\n",
    "                            ('Female', 64, 107),\n",
    "                            ('Male', 70, 175),\n",
    "                            ('Female', 64, 130),\n",
    "                            ('Male', 66, 163),\n",
    "                            ('Female', 63, 137),\n",
    "                            ('Male', 65, 165),\n",
    "                            ('Female', 65, 130),\n",
    "                            ('Female', 64, 109)], \n",
    "                           ['gender', 'height','weight']) # insert header values"
   ]
  },
  {
   "cell_type": "code",
   "execution_count": 5,
   "metadata": {},
   "outputs": [
    {
     "name": "stdout",
     "output_type": "stream",
     "text": [
      "+------+------+------+\n",
      "|gender|height|weight|\n",
      "+------+------+------+\n",
      "|  Male|    67|   150|\n",
      "|Female|    65|   135|\n",
      "|Female|    68|   130|\n",
      "|  Male|    70|   160|\n",
      "|Female|    70|   130|\n",
      "+------+------+------+\n",
      "only showing top 5 rows\n",
      "\n"
     ]
    }
   ],
   "source": [
    "raw_df.show(5)"
   ]
  },
  {
   "cell_type": "markdown",
   "metadata": {},
   "source": [
    "### DataFrame - Converting categorical values to numerical ones"
   ]
  },
  {
   "cell_type": "code",
   "execution_count": 6,
   "metadata": {
    "collapsed": true
   },
   "outputs": [],
   "source": [
    "from pyspark.sql import functions"
   ]
  },
  {
   "cell_type": "code",
   "execution_count": 7,
   "metadata": {
    "collapsed": true
   },
   "outputs": [],
   "source": [
    "numerical_df = raw_df.withColumn('gender',\\\n",
    "                                 functions.when(raw_df['gender']=='Female',0).\\\n",
    "                                 otherwise(1))"
   ]
  },
  {
   "cell_type": "markdown",
   "metadata": {},
   "source": [
    "### DataFrame -  Sorting columns"
   ]
  },
  {
   "cell_type": "code",
   "execution_count": 8,
   "metadata": {
    "collapsed": true
   },
   "outputs": [],
   "source": [
    "orderedcolumns_df = numerical_df.select('height', 'weight', 'gender')"
   ]
  },
  {
   "cell_type": "code",
   "execution_count": 9,
   "metadata": {},
   "outputs": [
    {
     "name": "stdout",
     "output_type": "stream",
     "text": [
      "+------+------+------+\n",
      "|height|weight|gender|\n",
      "+------+------+------+\n",
      "|    67|   150|     1|\n",
      "|    65|   135|     0|\n",
      "|    68|   130|     0|\n",
      "|    70|   160|     1|\n",
      "|    70|   130|     0|\n",
      "+------+------+------+\n",
      "only showing top 5 rows\n",
      "\n"
     ]
    }
   ],
   "source": [
    "orderedcolumns_df.show(5)"
   ]
  },
  {
   "cell_type": "code",
   "execution_count": 10,
   "metadata": {
    "collapsed": true
   },
   "outputs": [],
   "source": [
    "import numpy as np"
   ]
  },
  {
   "cell_type": "code",
   "execution_count": 11,
   "metadata": {},
   "outputs": [
    {
     "data": {
      "text/plain": [
       "[Row(height=67, weight=150, gender=1),\n",
       " Row(height=65, weight=135, gender=0),\n",
       " Row(height=68, weight=130, gender=0),\n",
       " Row(height=70, weight=160, gender=1),\n",
       " Row(height=70, weight=130, gender=0),\n",
       " Row(height=69, weight=174, gender=1),\n",
       " Row(height=65, weight=126, gender=0),\n",
       " Row(height=74, weight=188, gender=1),\n",
       " Row(height=60, weight=110, gender=0),\n",
       " Row(height=63, weight=125, gender=0),\n",
       " Row(height=70, weight=173, gender=1),\n",
       " Row(height=70, weight=145, gender=1),\n",
       " Row(height=68, weight=175, gender=1),\n",
       " Row(height=65, weight=123, gender=0),\n",
       " Row(height=71, weight=145, gender=1),\n",
       " Row(height=74, weight=160, gender=1),\n",
       " Row(height=64, weight=135, gender=0),\n",
       " Row(height=71, weight=175, gender=1),\n",
       " Row(height=67, weight=145, gender=1),\n",
       " Row(height=67, weight=130, gender=0),\n",
       " Row(height=70, weight=162, gender=1),\n",
       " Row(height=64, weight=107, gender=0),\n",
       " Row(height=70, weight=175, gender=1),\n",
       " Row(height=64, weight=130, gender=0),\n",
       " Row(height=66, weight=163, gender=1),\n",
       " Row(height=63, weight=137, gender=0),\n",
       " Row(height=65, weight=165, gender=1),\n",
       " Row(height=65, weight=130, gender=0),\n",
       " Row(height=64, weight=109, gender=0)]"
      ]
     },
     "execution_count": 11,
     "metadata": {},
     "output_type": "execute_result"
    }
   ],
   "source": [
    "orderedcolumns_df.collect()"
   ]
  },
  {
   "cell_type": "markdown",
   "metadata": {},
   "source": [
    "## 1. Transform Spark’s DataFrame to Numpy’s Array."
   ]
  },
  {
   "cell_type": "code",
   "execution_count": 12,
   "metadata": {
    "collapsed": true
   },
   "outputs": [],
   "source": [
    "data_array = np.array(orderedcolumns_df.collect())"
   ]
  },
  {
   "cell_type": "code",
   "execution_count": 13,
   "metadata": {},
   "outputs": [
    {
     "data": {
      "text/plain": [
       "array([[ 67, 150,   1],\n",
       "       [ 65, 135,   0],\n",
       "       [ 68, 130,   0],\n",
       "       [ 70, 160,   1],\n",
       "       [ 70, 130,   0],\n",
       "       [ 69, 174,   1],\n",
       "       [ 65, 126,   0],\n",
       "       [ 74, 188,   1],\n",
       "       [ 60, 110,   0],\n",
       "       [ 63, 125,   0],\n",
       "       [ 70, 173,   1],\n",
       "       [ 70, 145,   1],\n",
       "       [ 68, 175,   1],\n",
       "       [ 65, 123,   0],\n",
       "       [ 71, 145,   1],\n",
       "       [ 74, 160,   1],\n",
       "       [ 64, 135,   0],\n",
       "       [ 71, 175,   1],\n",
       "       [ 67, 145,   1],\n",
       "       [ 67, 130,   0],\n",
       "       [ 70, 162,   1],\n",
       "       [ 64, 107,   0],\n",
       "       [ 70, 175,   1],\n",
       "       [ 64, 130,   0],\n",
       "       [ 66, 163,   1],\n",
       "       [ 63, 137,   0],\n",
       "       [ 65, 165,   1],\n",
       "       [ 65, 130,   0],\n",
       "       [ 64, 109,   0]])"
      ]
     },
     "execution_count": 13,
     "metadata": {},
     "output_type": "execute_result"
    }
   ],
   "source": [
    "data_array"
   ]
  },
  {
   "cell_type": "code",
   "execution_count": 14,
   "metadata": {},
   "outputs": [
    {
     "data": {
      "text/plain": [
       "(29, 3)"
      ]
     },
     "execution_count": 14,
     "metadata": {},
     "output_type": "execute_result"
    }
   ],
   "source": [
    "data_array.shape"
   ]
  },
  {
   "cell_type": "code",
   "execution_count": 15,
   "metadata": {},
   "outputs": [
    {
     "data": {
      "text/plain": [
       "array([ 67, 150,   1])"
      ]
     },
     "execution_count": 15,
     "metadata": {},
     "output_type": "execute_result"
    }
   ],
   "source": [
    "data_array[0]"
   ]
  },
  {
   "cell_type": "code",
   "execution_count": 16,
   "metadata": {},
   "outputs": [
    {
     "data": {
      "text/plain": [
       "array([ 64, 109,   0])"
      ]
     },
     "execution_count": 16,
     "metadata": {},
     "output_type": "execute_result"
    }
   ],
   "source": [
    "data_array[28]"
   ]
  },
  {
   "cell_type": "markdown",
   "metadata": {},
   "source": [
    "##### Visualizing the data using Numpy and Matplotlib"
   ]
  },
  {
   "cell_type": "code",
   "execution_count": 17,
   "metadata": {},
   "outputs": [
    {
     "data": {
      "text/plain": [
       "array([ 74, 188,   1])"
      ]
     },
     "execution_count": 17,
     "metadata": {},
     "output_type": "execute_result"
    }
   ],
   "source": [
    "data_array.max(axis=0)"
   ]
  },
  {
   "cell_type": "code",
   "execution_count": 18,
   "metadata": {},
   "outputs": [
    {
     "data": {
      "text/plain": [
       "array([ 60, 107,   0])"
      ]
     },
     "execution_count": 18,
     "metadata": {},
     "output_type": "execute_result"
    }
   ],
   "source": [
    "data_array.min(axis=0)"
   ]
  },
  {
   "cell_type": "code",
   "execution_count": 19,
   "metadata": {
    "collapsed": true
   },
   "outputs": [],
   "source": [
    "import matplotlib.pyplot as plt\n",
    "%matplotlib inline"
   ]
  },
  {
   "cell_type": "markdown",
   "metadata": {},
   "source": [
    "##### Define range of x and range of y."
   ]
  },
  {
   "cell_type": "code",
   "execution_count": 20,
   "metadata": {
    "collapsed": true
   },
   "outputs": [],
   "source": [
    "min_x = data_array.min(axis=0)[0]-10\n",
    "max_x = data_array.max(axis=0)[0]+10\n",
    "min_y = data_array.min(axis=0)[1]-10\n",
    "max_y = data_array.max(axis=0)[1]+10"
   ]
  },
  {
   "cell_type": "code",
   "execution_count": 21,
   "metadata": {},
   "outputs": [
    {
     "data": {
      "text/plain": [
       "(50, 84, 97, 198)"
      ]
     },
     "execution_count": 21,
     "metadata": {},
     "output_type": "execute_result"
    }
   ],
   "source": [
    "min_x, max_x, min_y, max_y"
   ]
  },
  {
   "cell_type": "code",
   "execution_count": 22,
   "metadata": {},
   "outputs": [
    {
     "data": {
      "image/png": "[encoded data removed]",
      "text/plain": [
       "<matplotlib.figure.Figure at 0x7f69b73e45f8>"
      ]
     },
     "metadata": {},
     "output_type": "display_data"
    }
   ],
   "source": [
    "# formatting the plot grid, scales, and figure size\n",
    "plt.figure(figsize=(9, 4), dpi= 75)\n",
    "plt.axis([min_x,max_x,min_y,max_y])\n",
    "plt.grid()\n",
    "for i in range(len(data_array)):\n",
    "    value = data_array[i]\n",
    "    # assign labels values to specific matrix elements\n",
    "    gender = value[2]\n",
    "    height = value[0]\n",
    "    weight = value[1]\n",
    "    \n",
    "    # filter data points by gender\n",
    "    a = plt.scatter(height[gender==0],weight[gender==0], \\\n",
    "                    marker = 'x', c= 'b', label = 'Female')\n",
    "    b = plt.scatter(height[gender==1],weight[gender==1], \\\n",
    "                    marker = 'o', c= 'b', label = 'Male')\n",
    "    \n",
    "    # plot values, title, legend, x and y axis\n",
    "    plt.title('Weight vs Height by Gender')\n",
    "    plt.xlabel('Height (in)')\n",
    "    plt.ylabel('Weight (lbs)')\n",
    "    plt.legend(handles=[a,b])"
   ]
  },
  {
   "cell_type": "markdown",
   "metadata": {},
   "source": [
    "### 2. Making Standardization of x"
   ]
  },
  {
   "cell_type": "code",
   "execution_count": 23,
   "metadata": {},
   "outputs": [
    {
     "data": {
      "text/plain": [
       "numpy.ndarray"
      ]
     },
     "execution_count": 23,
     "metadata": {},
     "output_type": "execute_result"
    }
   ],
   "source": [
    "type(data_array)"
   ]
  },
  {
   "cell_type": "code",
   "execution_count": 24,
   "metadata": {},
   "outputs": [
    {
     "data": {
      "text/plain": [
       "array([[ 67, 150,   1],\n",
       "       [ 65, 135,   0],\n",
       "       [ 68, 130,   0],\n",
       "       [ 70, 160,   1],\n",
       "       [ 70, 130,   0],\n",
       "       [ 69, 174,   1],\n",
       "       [ 65, 126,   0],\n",
       "       [ 74, 188,   1],\n",
       "       [ 60, 110,   0],\n",
       "       [ 63, 125,   0],\n",
       "       [ 70, 173,   1],\n",
       "       [ 70, 145,   1],\n",
       "       [ 68, 175,   1],\n",
       "       [ 65, 123,   0],\n",
       "       [ 71, 145,   1],\n",
       "       [ 74, 160,   1],\n",
       "       [ 64, 135,   0],\n",
       "       [ 71, 175,   1],\n",
       "       [ 67, 145,   1],\n",
       "       [ 67, 130,   0],\n",
       "       [ 70, 162,   1],\n",
       "       [ 64, 107,   0],\n",
       "       [ 70, 175,   1],\n",
       "       [ 64, 130,   0],\n",
       "       [ 66, 163,   1],\n",
       "       [ 63, 137,   0],\n",
       "       [ 65, 165,   1],\n",
       "       [ 65, 130,   0],\n",
       "       [ 64, 109,   0]])"
      ]
     },
     "execution_count": 24,
     "metadata": {},
     "output_type": "execute_result"
    }
   ],
   "source": [
    "data_array"
   ]
  },
  {
   "cell_type": "markdown",
   "metadata": {},
   "source": [
    "##### x only contains both of height and weight"
   ]
  },
  {
   "cell_type": "code",
   "execution_count": 25,
   "metadata": {
    "collapsed": true
   },
   "outputs": [],
   "source": [
    "x = data_array[:,:2]"
   ]
  },
  {
   "cell_type": "code",
   "execution_count": 26,
   "metadata": {},
   "outputs": [
    {
     "data": {
      "text/plain": [
       "array([[ 67, 150],\n",
       "       [ 65, 135],\n",
       "       [ 68, 130],\n",
       "       [ 70, 160],\n",
       "       [ 70, 130],\n",
       "       [ 69, 174],\n",
       "       [ 65, 126],\n",
       "       [ 74, 188],\n",
       "       [ 60, 110],\n",
       "       [ 63, 125],\n",
       "       [ 70, 173],\n",
       "       [ 70, 145],\n",
       "       [ 68, 175],\n",
       "       [ 65, 123],\n",
       "       [ 71, 145],\n",
       "       [ 74, 160],\n",
       "       [ 64, 135],\n",
       "       [ 71, 175],\n",
       "       [ 67, 145],\n",
       "       [ 67, 130],\n",
       "       [ 70, 162],\n",
       "       [ 64, 107],\n",
       "       [ 70, 175],\n",
       "       [ 64, 130],\n",
       "       [ 66, 163],\n",
       "       [ 63, 137],\n",
       "       [ 65, 165],\n",
       "       [ 65, 130],\n",
       "       [ 64, 109]])"
      ]
     },
     "execution_count": 26,
     "metadata": {},
     "output_type": "execute_result"
    }
   ],
   "source": [
    "x"
   ]
  },
  {
   "cell_type": "markdown",
   "metadata": {},
   "source": [
    "##### Calculate Mean and Std. of x"
   ]
  },
  {
   "cell_type": "code",
   "execution_count": 27,
   "metadata": {
    "collapsed": true
   },
   "outputs": [],
   "source": [
    "x_mean = x.mean(axis=0)\n",
    "x_std = x.std(axis=0)"
   ]
  },
  {
   "cell_type": "code",
   "execution_count": 28,
   "metadata": {
    "collapsed": true
   },
   "outputs": [],
   "source": [
    "def normalize(origi):\n",
    "    origi_mean = origi.mean(axis=0)\n",
    "    origi_std = origi.std(axis=0)\n",
    "    new = (origi - origi_mean)/origi_std\n",
    "    return new"
   ]
  },
  {
   "cell_type": "code",
   "execution_count": 29,
   "metadata": {
    "collapsed": true
   },
   "outputs": [],
   "source": [
    "x_normalized = normalize(x)"
   ]
  },
  {
   "cell_type": "code",
   "execution_count": 30,
   "metadata": {},
   "outputs": [
    {
     "data": {
      "text/plain": [
       "array([[-0.06163661,  0.21460055],\n",
       "       [-0.65745714, -0.4618577 ],\n",
       "       [ 0.23627366, -0.68734378],\n",
       "       [ 0.8320942 ,  0.66557271],\n",
       "       [ 0.8320942 , -0.68734378],\n",
       "       [ 0.53418393,  1.29693375],\n",
       "       [-0.65745714, -0.86773265],\n",
       "       [ 2.02373527,  1.92829478],\n",
       "       [-2.14700848, -1.58928812],\n",
       "       [-1.25327768, -0.91282987],\n",
       "       [ 0.8320942 ,  1.25183653],\n",
       "       [ 0.8320942 , -0.01088554],\n",
       "       [ 0.23627366,  1.34203096],\n",
       "       [-0.65745714, -1.0030243 ],\n",
       "       [ 1.13000446, -0.01088554],\n",
       "       [ 2.02373527,  0.66557271],\n",
       "       [-0.95536741, -0.4618577 ],\n",
       "       [ 1.13000446,  1.34203096],\n",
       "       [-0.06163661, -0.01088554],\n",
       "       [-0.06163661, -0.68734378],\n",
       "       [ 0.8320942 ,  0.75576715],\n",
       "       [-0.95536741, -1.72457977],\n",
       "       [ 0.8320942 ,  1.34203096],\n",
       "       [-0.95536741, -0.68734378],\n",
       "       [-0.35954687,  0.80086436],\n",
       "       [-1.25327768, -0.37166327],\n",
       "       [-0.65745714,  0.8910588 ],\n",
       "       [-0.65745714, -0.68734378],\n",
       "       [-0.95536741, -1.63438533]])"
      ]
     },
     "execution_count": 30,
     "metadata": {},
     "output_type": "execute_result"
    }
   ],
   "source": [
    "x_normalized"
   ]
  },
  {
   "cell_type": "markdown",
   "metadata": {},
   "source": [
    "##### y only contains sex"
   ]
  },
  {
   "cell_type": "code",
   "execution_count": 31,
   "metadata": {
    "collapsed": true
   },
   "outputs": [],
   "source": [
    "y = data_array[:,2]"
   ]
  },
  {
   "cell_type": "code",
   "execution_count": 32,
   "metadata": {},
   "outputs": [
    {
     "data": {
      "text/plain": [
       "array([1, 0, 0, 1, 0, 1, 0, 1, 0, 0, 1, 1, 1, 0, 1, 1, 0, 1, 1, 0, 1, 0, 1,\n",
       "       0, 1, 0, 1, 0, 0])"
      ]
     },
     "execution_count": 32,
     "metadata": {},
     "output_type": "execute_result"
    }
   ],
   "source": [
    "y"
   ]
  },
  {
   "cell_type": "markdown",
   "metadata": {},
   "source": [
    "##### Merge x with y."
   ]
  },
  {
   "cell_type": "code",
   "execution_count": 33,
   "metadata": {
    "collapsed": true
   },
   "outputs": [],
   "source": [
    "normalized_data_array = np.column_stack((x_normalized[:,0], \\\n",
    "                                         x_normalized[:,1],y))"
   ]
  },
  {
   "cell_type": "code",
   "execution_count": 34,
   "metadata": {},
   "outputs": [
    {
     "data": {
      "text/plain": [
       "array([[-0.06163661,  0.21460055,  1.        ],\n",
       "       [-0.65745714, -0.4618577 ,  0.        ],\n",
       "       [ 0.23627366, -0.68734378,  0.        ],\n",
       "       [ 0.8320942 ,  0.66557271,  1.        ],\n",
       "       [ 0.8320942 , -0.68734378,  0.        ],\n",
       "       [ 0.53418393,  1.29693375,  1.        ],\n",
       "       [-0.65745714, -0.86773265,  0.        ],\n",
       "       [ 2.02373527,  1.92829478,  1.        ],\n",
       "       [-2.14700848, -1.58928812,  0.        ],\n",
       "       [-1.25327768, -0.91282987,  0.        ],\n",
       "       [ 0.8320942 ,  1.25183653,  1.        ],\n",
       "       [ 0.8320942 , -0.01088554,  1.        ],\n",
       "       [ 0.23627366,  1.34203096,  1.        ],\n",
       "       [-0.65745714, -1.0030243 ,  0.        ],\n",
       "       [ 1.13000446, -0.01088554,  1.        ],\n",
       "       [ 2.02373527,  0.66557271,  1.        ],\n",
       "       [-0.95536741, -0.4618577 ,  0.        ],\n",
       "       [ 1.13000446,  1.34203096,  1.        ],\n",
       "       [-0.06163661, -0.01088554,  1.        ],\n",
       "       [-0.06163661, -0.68734378,  0.        ],\n",
       "       [ 0.8320942 ,  0.75576715,  1.        ],\n",
       "       [-0.95536741, -1.72457977,  0.        ],\n",
       "       [ 0.8320942 ,  1.34203096,  1.        ],\n",
       "       [-0.95536741, -0.68734378,  0.        ],\n",
       "       [-0.35954687,  0.80086436,  1.        ],\n",
       "       [-1.25327768, -0.37166327,  0.        ],\n",
       "       [-0.65745714,  0.8910588 ,  1.        ],\n",
       "       [-0.65745714, -0.68734378,  0.        ],\n",
       "       [-0.95536741, -1.63438533,  0.        ]])"
      ]
     },
     "execution_count": 34,
     "metadata": {},
     "output_type": "execute_result"
    }
   ],
   "source": [
    "normalized_data_array"
   ]
  },
  {
   "cell_type": "markdown",
   "metadata": {},
   "source": [
    "## 3. Define Algorithm's Parameters for Linear Function."
   ]
  },
  {
   "cell_type": "markdown",
   "metadata": {},
   "source": [
    "##### Random generating many coefficiency"
   ]
  },
  {
   "cell_type": "code",
   "execution_count": 35,
   "metadata": {
    "collapsed": true
   },
   "outputs": [],
   "source": [
    "np.random.seed(12345)"
   ]
  },
  {
   "cell_type": "code",
   "execution_count": 36,
   "metadata": {
    "collapsed": true
   },
   "outputs": [],
   "source": [
    "w1 = np.random.randn()\n",
    "w2 = np.random.randn()\n",
    "b= np.random.randn()"
   ]
  },
  {
   "cell_type": "code",
   "execution_count": 37,
   "metadata": {},
   "outputs": [
    {
     "name": "stdout",
     "output_type": "stream",
     "text": [
      "-0.20470765948471295 0.47894333805754824 -0.5194387150567381\n"
     ]
    }
   ],
   "source": [
    "print(w1, w2, b)"
   ]
  },
  {
   "cell_type": "markdown",
   "metadata": {},
   "source": [
    "## 4. Define Activate Function and its Derivation."
   ]
  },
  {
   "cell_type": "markdown",
   "metadata": {},
   "source": [
    "##### Declare Sigmoid functions and its derivation (Sigmoid derivative)."
   ]
  },
  {
   "cell_type": "code",
   "execution_count": 38,
   "metadata": {
    "collapsed": true
   },
   "outputs": [],
   "source": [
    "def sigmoid(input):\n",
    "    return 1/(1+np.exp(-input))"
   ]
  },
  {
   "cell_type": "code",
   "execution_count": 39,
   "metadata": {
    "collapsed": true
   },
   "outputs": [],
   "source": [
    "def sigmoid_derivative(x):\n",
    "    return sigmoid(x) * (1-sigmoid(x))"
   ]
  },
  {
   "cell_type": "markdown",
   "metadata": {},
   "source": [
    "##### --- test the sigmod with calculation with tiny numbers ---"
   ]
  },
  {
   "cell_type": "code",
   "execution_count": 40,
   "metadata": {
    "collapsed": true
   },
   "outputs": [],
   "source": [
    "x_test = np.arange(-10,10,1)\n",
    "y_test = sigmoid(x_test)"
   ]
  },
  {
   "cell_type": "code",
   "execution_count": 41,
   "metadata": {},
   "outputs": [
    {
     "data": {
      "image/png": "[encoded data removed]",
      "text/plain": [
       "<matplotlib.figure.Figure at 0x7f69b3c776a0>"
      ]
     },
     "metadata": {},
     "output_type": "display_data"
    }
   ],
   "source": [
    "plt.figure(figsize=(6, 4), dpi= 75)\n",
    "plt.axis([-10,10,-0.25,1.2])\n",
    "plt.grid()\n",
    "plt.plot(x_test,y_test)\n",
    "plt.title('Sigmoid Function')\n",
    "plt.show()"
   ]
  },
  {
   "cell_type": "code",
   "execution_count": 42,
   "metadata": {},
   "outputs": [
    {
     "data": {
      "image/png": "[encoded data removed]",
      "text/plain": [
       "<matplotlib.figure.Figure at 0x7f69b3d41860>"
      ]
     },
     "metadata": {},
     "output_type": "display_data"
    }
   ],
   "source": [
    "plt.figure(figsize=(6, 4), dpi= 75)\n",
    "plt.axis([-10,10,-0.25,1.2])\n",
    "plt.grid()\n",
    "x_test = np.arange(-10,10,1)\n",
    "y_test = sigmoid(x_test)\n",
    "y_test_Prime = sigmoid_derivative(x_test)\n",
    "plt.plot(x_test, y_test, label=\"Sigmoid\",c='b')\n",
    "plt.plot(x_test, y_test_Prime, marker=\".\", \\\n",
    "         label=\"Sigmoid Derivative\", c='b')\n",
    "plt.title('Sigmoid vs Sigmoid Derivative')\n",
    "plt.xlabel('X')\n",
    "plt.ylabel('Y')\n",
    "plt.legend()\n",
    "plt.show()"
   ]
  },
  {
   "cell_type": "markdown",
   "metadata": {
    "collapsed": true
   },
   "source": [
    "##### --- Ending --- "
   ]
  },
  {
   "cell_type": "markdown",
   "metadata": {},
   "source": [
    "### 5. Launch the Deep Learning Algorithm:\n",
    "Calculating of Summation, Activation Function (Sigmoid) and Backpropagation (Sigmoid Derivative)"
   ]
  },
  {
   "cell_type": "code",
   "execution_count": 43,
   "metadata": {},
   "outputs": [
    {
     "data": {
      "text/plain": [
       "array([[-0.06163661,  0.21460055,  1.        ],\n",
       "       [-0.65745714, -0.4618577 ,  0.        ],\n",
       "       [ 0.23627366, -0.68734378,  0.        ],\n",
       "       [ 0.8320942 ,  0.66557271,  1.        ],\n",
       "       [ 0.8320942 , -0.68734378,  0.        ],\n",
       "       [ 0.53418393,  1.29693375,  1.        ],\n",
       "       [-0.65745714, -0.86773265,  0.        ],\n",
       "       [ 2.02373527,  1.92829478,  1.        ],\n",
       "       [-2.14700848, -1.58928812,  0.        ],\n",
       "       [-1.25327768, -0.91282987,  0.        ],\n",
       "       [ 0.8320942 ,  1.25183653,  1.        ],\n",
       "       [ 0.8320942 , -0.01088554,  1.        ],\n",
       "       [ 0.23627366,  1.34203096,  1.        ],\n",
       "       [-0.65745714, -1.0030243 ,  0.        ],\n",
       "       [ 1.13000446, -0.01088554,  1.        ],\n",
       "       [ 2.02373527,  0.66557271,  1.        ],\n",
       "       [-0.95536741, -0.4618577 ,  0.        ],\n",
       "       [ 1.13000446,  1.34203096,  1.        ],\n",
       "       [-0.06163661, -0.01088554,  1.        ],\n",
       "       [-0.06163661, -0.68734378,  0.        ],\n",
       "       [ 0.8320942 ,  0.75576715,  1.        ],\n",
       "       [-0.95536741, -1.72457977,  0.        ],\n",
       "       [ 0.8320942 ,  1.34203096,  1.        ],\n",
       "       [-0.95536741, -0.68734378,  0.        ],\n",
       "       [-0.35954687,  0.80086436,  1.        ],\n",
       "       [-1.25327768, -0.37166327,  0.        ],\n",
       "       [-0.65745714,  0.8910588 ,  1.        ],\n",
       "       [-0.65745714, -0.68734378,  0.        ],\n",
       "       [-0.95536741, -1.63438533,  0.        ]])"
      ]
     },
     "execution_count": 43,
     "metadata": {},
     "output_type": "execute_result"
    }
   ],
   "source": [
    "normalized_data_array"
   ]
  },
  {
   "cell_type": "code",
   "execution_count": 44,
   "metadata": {},
   "outputs": [
    {
     "data": {
      "text/plain": [
       "(29, 3)"
      ]
     },
     "execution_count": 44,
     "metadata": {},
     "output_type": "execute_result"
    }
   ],
   "source": [
    "normalized_data_array.shape"
   ]
  },
  {
   "cell_type": "code",
   "execution_count": 45,
   "metadata": {},
   "outputs": [
    {
     "name": "stdout",
     "output_type": "stream",
     "text": [
      "0 [ 0.53418393  1.29693375  1.        ]\n",
      "1 [ 0.23627366 -0.68734378  0.        ]\n",
      "2 [-0.65745714 -0.4618577   0.        ]\n",
      "3 [ 0.8320942   1.34203096  1.        ]\n",
      "4 [ 1.13000446  1.34203096  1.        ]\n",
      "5 [-0.65745714 -0.68734378  0.        ]\n",
      "6 [ 1.13000446 -0.01088554  1.        ]\n",
      "7 [-1.25327768 -0.91282987  0.        ]\n",
      "8 [-0.65745714 -0.68734378  0.        ]\n",
      "9 [-0.95536741 -0.68734378  0.        ]\n",
      "10 [ 0.8320942   1.34203096  1.        ]\n",
      "11 [-0.95536741 -0.4618577   0.        ]\n",
      "12 [-0.06163661 -0.01088554  1.        ]\n",
      "13 [-1.25327768 -0.91282987  0.        ]\n",
      "14 [ 0.8320942  -0.01088554  1.        ]\n",
      "15 [-0.65745714 -1.0030243   0.        ]\n",
      "16 [ 0.8320942   1.25183653  1.        ]\n",
      "17 [ 1.13000446  1.34203096  1.        ]\n",
      "18 [-0.06163661 -0.01088554  1.        ]\n",
      "19 [-0.65745714 -0.86773265  0.        ]\n",
      "20 [ 2.02373527  1.92829478  1.        ]\n",
      "21 [ 0.8320942  -0.01088554  1.        ]\n",
      "22 [ 2.02373527  1.92829478  1.        ]\n",
      "23 [-0.95536741 -0.68734378  0.        ]\n",
      "24 [-0.35954687  0.80086436  1.        ]\n",
      "25 [-0.95536741 -0.68734378  0.        ]\n",
      "26 [-0.65745714 -0.4618577   0.        ]\n",
      "27 [-0.65745714 -0.68734378  0.        ]\n",
      "28 [-0.95536741 -0.68734378  0.        ]\n",
      "29 [ 0.8320942  -0.68734378  0.        ]\n",
      "30 [-0.06163661  0.21460055  1.        ]\n",
      "31 [ 2.02373527  0.66557271  1.        ]\n",
      "32 [ 0.8320942   0.66557271  1.        ]\n",
      "33 [-0.95536741 -1.63438533  0.        ]\n",
      "34 [-0.95536741 -1.63438533  0.        ]\n",
      "35 [ 0.53418393  1.29693375  1.        ]\n",
      "36 [ 2.02373527  0.66557271  1.        ]\n",
      "37 [-0.95536741 -0.68734378  0.        ]\n",
      "38 [ 0.8320942  -0.01088554  1.        ]\n",
      "39 [ 1.13000446 -0.01088554  1.        ]\n",
      "40 [-0.06163661 -0.68734378  0.        ]\n",
      "41 [ 1.13000446  1.34203096  1.        ]\n",
      "42 [ 0.8320942  -0.01088554  1.        ]\n",
      "43 [ 0.53418393  1.29693375  1.        ]\n",
      "44 [ 0.23627366 -0.68734378  0.        ]\n",
      "45 [-0.95536741 -1.72457977  0.        ]\n",
      "46 [-0.06163661 -0.68734378  0.        ]\n",
      "47 [-2.14700848 -1.58928812  0.        ]\n",
      "48 [ 0.53418393  1.29693375  1.        ]\n",
      "49 [ 0.23627366 -0.68734378  0.        ]\n",
      "50 [ 0.23627366  1.34203096  1.        ]\n",
      "51 [ 0.53418393  1.29693375  1.        ]\n",
      "52 [-0.65745714 -0.68734378  0.        ]\n",
      "53 [-0.06163661 -0.68734378  0.        ]\n",
      "54 [ 0.23627366  1.34203096  1.        ]\n",
      "55 [ 1.13000446 -0.01088554  1.        ]\n",
      "56 [-0.65745714 -0.68734378  0.        ]\n",
      "57 [-0.95536741 -0.4618577   0.        ]\n",
      "58 [-0.65745714 -0.68734378  0.        ]\n",
      "59 [-0.65745714 -0.86773265  0.        ]\n",
      "60 [-0.35954687  0.80086436  1.        ]\n",
      "61 [-0.06163661  0.21460055  1.        ]\n",
      "62 [ 0.8320942  -0.01088554  1.        ]\n",
      "63 [ 0.53418393  1.29693375  1.        ]\n",
      "64 [ 0.8320942   1.25183653  1.        ]\n",
      "65 [ 0.23627366  1.34203096  1.        ]\n",
      "66 [ 0.8320942   1.34203096  1.        ]\n",
      "67 [ 0.23627366  1.34203096  1.        ]\n",
      "68 [-0.35954687  0.80086436  1.        ]\n",
      "69 [-1.25327768 -0.91282987  0.        ]\n",
      "70 [-0.06163661 -0.01088554  1.        ]\n",
      "71 [-0.06163661 -0.01088554  1.        ]\n",
      "72 [-0.06163661 -0.01088554  1.        ]\n",
      "73 [-1.25327768 -0.37166327  0.        ]\n",
      "74 [ 1.13000446 -0.01088554  1.        ]\n",
      "75 [-0.65745714  0.8910588   1.        ]\n",
      "76 [-0.95536741 -0.68734378  0.        ]\n",
      "77 [-0.95536741 -1.72457977  0.        ]\n",
      "78 [ 2.02373527  1.92829478  1.        ]\n",
      "79 [ 1.13000446  1.34203096  1.        ]\n",
      "80 [-0.65745714 -0.68734378  0.        ]\n",
      "81 [-0.06163661  0.21460055  1.        ]\n",
      "82 [-0.65745714  0.8910588   1.        ]\n",
      "83 [ 0.23627366  1.34203096  1.        ]\n",
      "84 [-1.25327768 -0.37166327  0.        ]\n",
      "85 [ 1.13000446 -0.01088554  1.        ]\n",
      "86 [-0.65745714  0.8910588   1.        ]\n",
      "87 [ 0.8320942  -0.01088554  1.        ]\n",
      "88 [ 0.8320942   0.66557271  1.        ]\n",
      "89 [-0.06163661  0.21460055  1.        ]\n",
      "90 [ 0.8320942   0.66557271  1.        ]\n",
      "91 [-0.06163661  0.21460055  1.        ]\n",
      "92 [-0.65745714 -0.86773265  0.        ]\n",
      "93 [ 0.23627366 -0.68734378  0.        ]\n",
      "94 [ 1.13000446  1.34203096  1.        ]\n",
      "95 [-0.65745714 -0.68734378  0.        ]\n",
      "96 [-0.95536741 -1.63438533  0.        ]\n",
      "97 [ 0.23627366  1.34203096  1.        ]\n",
      "98 [ 0.53418393  1.29693375  1.        ]\n",
      "99 [-2.14700848 -1.58928812  0.        ]\n"
     ]
    }
   ],
   "source": [
    "for i in range(100):\n",
    "    random_index = np.random.\\\n",
    "    randint(len(normalized_data_array))\n",
    "    point = normalized_data_array[random_index]\n",
    "    print(i, point)"
   ]
  },
  {
   "cell_type": "markdown",
   "metadata": {},
   "source": [
    "##### w1, w2 and b will be adjusted using gradient descent to tweak their values and minimize the cost function."
   ]
  },
  {
   "cell_type": "code",
   "execution_count": 46,
   "metadata": {
    "collapsed": true
   },
   "outputs": [],
   "source": [
    "learning_rate = 0.1\n",
    "\n",
    "all_costs = []"
   ]
  },
  {
   "cell_type": "code",
   "execution_count": 47,
   "metadata": {
    "collapsed": true
   },
   "outputs": [],
   "source": [
    "for i in range(100000):\n",
    "    # set the random data points that will be used to calculate the summation\n",
    "    random_number = np.random.randint(len(normalized_data_array))\n",
    "    random_person = normalized_data_array[random_number]\n",
    "    \n",
    "    # the height and weight from the random individual are selected\n",
    "    height = random_person[0]\n",
    "    weight = random_person[1]\n",
    "\n",
    "    z = w1*height+w2*weight+b\n",
    "    predictedGender = sigmoid(z)\n",
    "    \n",
    "    actualGender = random_person[2]\n",
    "    \n",
    "    cost = (predictedGender-actualGender)**2\n",
    "    \n",
    "    # the cost value is appended to the list\n",
    "    all_costs.append(cost)\n",
    "    \n",
    "    # partial derivatives of the cost function and summation are calculated\n",
    "    dcost_predictedGender = 2 * (predictedGender-actualGender)\n",
    "    dpredictedGenger_dz = sigmoid_derivative(z)\n",
    "    dz_dw1 = height\n",
    "    dz_dw2 = weight\n",
    "    dz_db = 1\n",
    "    \n",
    "    dcost_dw1 = dcost_predictedGender * dpredictedGenger_dz * dz_dw1\n",
    "    dcost_dw2 = dcost_predictedGender * dpredictedGenger_dz * dz_dw2\n",
    "    dcost_db  = dcost_predictedGender * dpredictedGenger_dz * dz_db\n",
    "    \n",
    "    # gradient descent calculation\n",
    "    w1 = w1 - learning_rate * dcost_dw1\n",
    "    w2 = w2 - learning_rate * dcost_dw2\n",
    "    b  = b  - learning_rate * dcost_db"
   ]
  },
  {
   "cell_type": "code",
   "execution_count": 48,
   "metadata": {},
   "outputs": [
    {
     "data": {
      "image/png": "[encoded data removed]",
      "text/plain": [
       "<matplotlib.figure.Figure at 0x7f69b3bdc860>"
      ]
     },
     "metadata": {},
     "output_type": "display_data"
    }
   ],
   "source": [
    "plt.plot(all_costs)\n",
    "plt.title('Cost Value over 100,000 iterations')\n",
    "plt.xlabel('Iteration')\n",
    "plt.ylabel('Cost Value')\n",
    "plt.show()"
   ]
  },
  {
   "cell_type": "code",
   "execution_count": 49,
   "metadata": {},
   "outputs": [
    {
     "name": "stdout",
     "output_type": "stream",
     "text": [
      "The final values of w1, w2, and b\n",
      "---------------------------------\n",
      "w1 = 1.8209212481467743\n",
      "w2 = 10.501412686537124\n",
      "b  = 2.6922206902934818\n"
     ]
    }
   ],
   "source": [
    "print('The final values of w1, w2, and b')\n",
    "print('---------------------------------')\n",
    "print('w1 = {}'.format(w1))\n",
    "print('w2 = {}'.format(w2))\n",
    "print('b  = {}'.format(b))"
   ]
  },
  {
   "cell_type": "markdown",
   "metadata": {},
   "source": [
    "## 6. Make prediction"
   ]
  },
  {
   "cell_type": "code",
   "execution_count": 50,
   "metadata": {
    "collapsed": true
   },
   "outputs": [],
   "source": [
    "def input_normalize(height, weight):\n",
    "    inputHeight = (height - x_mean[0])/x_std[0]\n",
    "    inputWeight = (weight - x_mean[1])/x_std[1]\n",
    "    return inputHeight, inputWeight"
   ]
  },
  {
   "cell_type": "code",
   "execution_count": 51,
   "metadata": {
    "collapsed": true
   },
   "outputs": [],
   "source": [
    "def predict_gender(raw_data):\n",
    "    gender_summation = raw_data[0]*w1 + raw_data[1]*w2 + b\n",
    "    gender_score = sigmoid(gender_summation)\n",
    "    if gender_score <= 0.5:\n",
    "        gender = 'Female'\n",
    "    else:\n",
    "        gender = 'Male'\n",
    "    return gender, gender_score"
   ]
  },
  {
   "cell_type": "markdown",
   "metadata": {},
   "source": [
    "##### Height = 70 inches, Weight = 180 pounds"
   ]
  },
  {
   "cell_type": "code",
   "execution_count": 52,
   "metadata": {
    "collapsed": true
   },
   "outputs": [],
   "source": [
    "new_data = input_normalize(70, 180)"
   ]
  },
  {
   "cell_type": "code",
   "execution_count": 53,
   "metadata": {},
   "outputs": [
    {
     "data": {
      "text/plain": [
       "(0.83209419621331615, 1.5675170469238868)"
      ]
     },
     "execution_count": 53,
     "metadata": {},
     "output_type": "execute_result"
    }
   ],
   "source": [
    "new_data"
   ]
  },
  {
   "cell_type": "code",
   "execution_count": 54,
   "metadata": {},
   "outputs": [
    {
     "data": {
      "text/plain": [
       "('Male', 0.99999999894375113)"
      ]
     },
     "execution_count": 54,
     "metadata": {},
     "output_type": "execute_result"
    }
   ],
   "source": [
    "predict_gender(new_data)"
   ]
  },
  {
   "cell_type": "markdown",
   "metadata": {},
   "source": [
    "##### Height = 50 inches, Weight = 120 pounds"
   ]
  },
  {
   "cell_type": "code",
   "execution_count": 55,
   "metadata": {
    "collapsed": true
   },
   "outputs": [],
   "source": [
    "new_data = input_normalize(50,120)"
   ]
  },
  {
   "cell_type": "code",
   "execution_count": 56,
   "metadata": {},
   "outputs": [
    {
     "data": {
      "text/plain": [
       "('Female', 8.3923134541706229e-09)"
      ]
     },
     "execution_count": 56,
     "metadata": {},
     "output_type": "execute_result"
    }
   ],
   "source": [
    "predict_gender(new_data)"
   ]
  },
  {
   "cell_type": "code",
   "execution_count": null,
   "metadata": {
    "collapsed": true
   },
   "outputs": [],
   "source": []
  }
 ],
 "metadata": {
  "kernelspec": {
   "display_name": "Python 3",
   "language": "python",
   "name": "python3"
  },
  "language_info": {
   "codemirror_mode": {
    "name": "ipython",
    "version": 3
   },
   "file_extension": ".py",
   "mimetype": "text/x-python",
   "name": "python",
   "nbconvert_exporter": "python",
   "pygments_lexer": "ipython3",
   "version": "3.6.1"
  }
 },
 "nbformat": 4,
 "nbformat_minor": 2
}
