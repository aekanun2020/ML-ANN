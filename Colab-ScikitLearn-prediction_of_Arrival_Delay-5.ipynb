{
  "nbformat": 4,
  "nbformat_minor": 0,
  "metadata": {
    "colab": {
      "name": "Colab-prediction of Arrival Delay.ipynb",
      "provenance": [],
      "collapsed_sections": []
    },
    "kernelspec": {
      "name": "python3",
      "display_name": "Python 3"
    },
    "language_info": {
      "name": "python"
    }
  },
  "cells": [
    {
      "cell_type": "code",
      "source": [
        "import pandas as pd"
      ],
      "metadata": {
        "id": "TPW33Jyr0rDw"
      },
      "execution_count": 1,
      "outputs": []
    },
    {
      "cell_type": "code",
      "execution_count": 2,
      "metadata": {
        "colab": {
          "base_uri": "https://localhost:8080/"
        },
        "id": "dYaYQoX2zm6d",
        "outputId": "62681bc9-5ea8-4fd1-d893-5be00031ace4"
      },
      "outputs": [
        {
          "output_type": "stream",
          "name": "stdout",
          "text": [
            "--2022-01-26 08:03:59--  https://s3.amazonaws.com/imcbucket/data/flights/2008.csv\n",
            "Resolving s3.amazonaws.com (s3.amazonaws.com)... 52.216.236.101\n",
            "Connecting to s3.amazonaws.com (s3.amazonaws.com)|52.216.236.101|:443... connected.\n",
            "HTTP request sent, awaiting response... 200 OK\n",
            "Length: 689413344 (657M) [binary/octet-stream]\n",
            "Saving to: ‘2008.csv’\n",
            "\n",
            "2008.csv            100%[===================>] 657.48M  45.9MB/s    in 18s     \n",
            "\n",
            "2022-01-26 08:04:18 (37.1 MB/s) - ‘2008.csv’ saved [689413344/689413344]\n",
            "\n"
          ]
        }
      ],
      "source": [
        "! wget https://s3.amazonaws.com/imcbucket/data/flights/2008.csv"
      ]
    },
    {
      "cell_type": "code",
      "source": [
        "! wc -l 2008.csv"
      ],
      "metadata": {
        "colab": {
          "base_uri": "https://localhost:8080/"
        },
        "id": "TG2-Sj5az66M",
        "outputId": "fb9c90c2-b141-4cfa-c9c8-b3e8d3ed81d7"
      },
      "execution_count": 3,
      "outputs": [
        {
          "output_type": "stream",
          "name": "stdout",
          "text": [
            "7009729 2008.csv\n"
          ]
        }
      ]
    },
    {
      "cell_type": "code",
      "source": [
        "f = \"2008.csv\""
      ],
      "metadata": {
        "id": "xcyjgxjNZQN7"
      },
      "execution_count": 4,
      "outputs": []
    },
    {
      "cell_type": "code",
      "source": [
        "num_lines = sum(1 for l in open(f))"
      ],
      "metadata": {
        "id": "CUKyuS-yZOyv"
      },
      "execution_count": 5,
      "outputs": []
    },
    {
      "cell_type": "code",
      "source": [
        "size = int(num_lines / 100)"
      ],
      "metadata": {
        "id": "RMJELij3ZQhY"
      },
      "execution_count": 6,
      "outputs": []
    },
    {
      "cell_type": "code",
      "source": [
        "import random\n",
        "skip_idx = random.sample(range(1, num_lines), num_lines - size)"
      ],
      "metadata": {
        "id": "ovJTAwCEZa-b"
      },
      "execution_count": 7,
      "outputs": []
    },
    {
      "cell_type": "code",
      "source": [
        "raw_pd = pd.read_csv(f, skiprows=skip_idx)"
      ],
      "metadata": {
        "id": "HTZAp-foZQyd"
      },
      "execution_count": 8,
      "outputs": []
    },
    {
      "cell_type": "code",
      "source": [
        "#raw_pd = pd.read_csv(\"2008.csv\").limit(700000)"
      ],
      "metadata": {
        "id": "P9K4zh1o0B7J"
      },
      "execution_count": 9,
      "outputs": []
    },
    {
      "cell_type": "code",
      "source": [
        "raw_pd.head(5)"
      ],
      "metadata": {
        "colab": {
          "base_uri": "https://localhost:8080/",
          "height": 268
        },
        "id": "JQn1hNnS0lTT",
        "outputId": "5c7dc7f8-195e-4871-b319-e5aa6d31303f"
      },
      "execution_count": 10,
      "outputs": [
        {
          "output_type": "execute_result",
          "data": {
            "text/html": [
              "\n",
              "  <div id=\"df-ed524dce-c08c-4367-a139-05a5d8f92b5a\">\n",
              "    <div class=\"colab-df-container\">\n",
              "      <div>\n",
              "<style scoped>\n",
              "    .dataframe tbody tr th:only-of-type {\n",
              "        vertical-align: middle;\n",
              "    }\n",
              "\n",
              "    .dataframe tbody tr th {\n",
              "        vertical-align: top;\n",
              "    }\n",
              "\n",
              "    .dataframe thead th {\n",
              "        text-align: right;\n",
              "    }\n",
              "</style>\n",
              "<table border=\"1\" class=\"dataframe\">\n",
              "  <thead>\n",
              "    <tr style=\"text-align: right;\">\n",
              "      <th></th>\n",
              "      <th>Year</th>\n",
              "      <th>Month</th>\n",
              "      <th>DayofMonth</th>\n",
              "      <th>DayOfWeek</th>\n",
              "      <th>DepTime</th>\n",
              "      <th>CRSDepTime</th>\n",
              "      <th>ArrTime</th>\n",
              "      <th>CRSArrTime</th>\n",
              "      <th>UniqueCarrier</th>\n",
              "      <th>FlightNum</th>\n",
              "      <th>TailNum</th>\n",
              "      <th>ActualElapsedTime</th>\n",
              "      <th>CRSElapsedTime</th>\n",
              "      <th>AirTime</th>\n",
              "      <th>ArrDelay</th>\n",
              "      <th>DepDelay</th>\n",
              "      <th>Origin</th>\n",
              "      <th>Dest</th>\n",
              "      <th>Distance</th>\n",
              "      <th>TaxiIn</th>\n",
              "      <th>TaxiOut</th>\n",
              "      <th>Cancelled</th>\n",
              "      <th>CancellationCode</th>\n",
              "      <th>Diverted</th>\n",
              "      <th>CarrierDelay</th>\n",
              "      <th>WeatherDelay</th>\n",
              "      <th>NASDelay</th>\n",
              "      <th>SecurityDelay</th>\n",
              "      <th>LateAircraftDelay</th>\n",
              "    </tr>\n",
              "  </thead>\n",
              "  <tbody>\n",
              "    <tr>\n",
              "      <th>0</th>\n",
              "      <td>2008</td>\n",
              "      <td>1</td>\n",
              "      <td>3</td>\n",
              "      <td>4</td>\n",
              "      <td>1613.0</td>\n",
              "      <td>1515</td>\n",
              "      <td>1727.0</td>\n",
              "      <td>1615</td>\n",
              "      <td>WN</td>\n",
              "      <td>2363</td>\n",
              "      <td>N405WN</td>\n",
              "      <td>74.0</td>\n",
              "      <td>60.0</td>\n",
              "      <td>47.0</td>\n",
              "      <td>72.0</td>\n",
              "      <td>58.0</td>\n",
              "      <td>LAS</td>\n",
              "      <td>SAN</td>\n",
              "      <td>258</td>\n",
              "      <td>3.0</td>\n",
              "      <td>24.0</td>\n",
              "      <td>0</td>\n",
              "      <td>NaN</td>\n",
              "      <td>0</td>\n",
              "      <td>0.0</td>\n",
              "      <td>0.0</td>\n",
              "      <td>19.0</td>\n",
              "      <td>0.0</td>\n",
              "      <td>53.0</td>\n",
              "    </tr>\n",
              "    <tr>\n",
              "      <th>1</th>\n",
              "      <td>2008</td>\n",
              "      <td>1</td>\n",
              "      <td>3</td>\n",
              "      <td>4</td>\n",
              "      <td>807.0</td>\n",
              "      <td>805</td>\n",
              "      <td>1301.0</td>\n",
              "      <td>1310</td>\n",
              "      <td>WN</td>\n",
              "      <td>1513</td>\n",
              "      <td>N305SW</td>\n",
              "      <td>174.0</td>\n",
              "      <td>185.0</td>\n",
              "      <td>163.0</td>\n",
              "      <td>-9.0</td>\n",
              "      <td>2.0</td>\n",
              "      <td>LAX</td>\n",
              "      <td>HOU</td>\n",
              "      <td>1390</td>\n",
              "      <td>5.0</td>\n",
              "      <td>6.0</td>\n",
              "      <td>0</td>\n",
              "      <td>NaN</td>\n",
              "      <td>0</td>\n",
              "      <td>NaN</td>\n",
              "      <td>NaN</td>\n",
              "      <td>NaN</td>\n",
              "      <td>NaN</td>\n",
              "      <td>NaN</td>\n",
              "    </tr>\n",
              "    <tr>\n",
              "      <th>2</th>\n",
              "      <td>2008</td>\n",
              "      <td>1</td>\n",
              "      <td>3</td>\n",
              "      <td>4</td>\n",
              "      <td>1423.0</td>\n",
              "      <td>1335</td>\n",
              "      <td>1519.0</td>\n",
              "      <td>1440</td>\n",
              "      <td>WN</td>\n",
              "      <td>3144</td>\n",
              "      <td>N272WN</td>\n",
              "      <td>56.0</td>\n",
              "      <td>65.0</td>\n",
              "      <td>42.0</td>\n",
              "      <td>39.0</td>\n",
              "      <td>48.0</td>\n",
              "      <td>LAX</td>\n",
              "      <td>LAS</td>\n",
              "      <td>236</td>\n",
              "      <td>5.0</td>\n",
              "      <td>9.0</td>\n",
              "      <td>0</td>\n",
              "      <td>NaN</td>\n",
              "      <td>0</td>\n",
              "      <td>11.0</td>\n",
              "      <td>0.0</td>\n",
              "      <td>0.0</td>\n",
              "      <td>0.0</td>\n",
              "      <td>28.0</td>\n",
              "    </tr>\n",
              "    <tr>\n",
              "      <th>3</th>\n",
              "      <td>2008</td>\n",
              "      <td>1</td>\n",
              "      <td>3</td>\n",
              "      <td>4</td>\n",
              "      <td>1441.0</td>\n",
              "      <td>1350</td>\n",
              "      <td>1549.0</td>\n",
              "      <td>1510</td>\n",
              "      <td>WN</td>\n",
              "      <td>2985</td>\n",
              "      <td>N727SW</td>\n",
              "      <td>68.0</td>\n",
              "      <td>80.0</td>\n",
              "      <td>56.0</td>\n",
              "      <td>39.0</td>\n",
              "      <td>51.0</td>\n",
              "      <td>LAX</td>\n",
              "      <td>SMF</td>\n",
              "      <td>373</td>\n",
              "      <td>4.0</td>\n",
              "      <td>8.0</td>\n",
              "      <td>0</td>\n",
              "      <td>NaN</td>\n",
              "      <td>0</td>\n",
              "      <td>8.0</td>\n",
              "      <td>0.0</td>\n",
              "      <td>0.0</td>\n",
              "      <td>0.0</td>\n",
              "      <td>31.0</td>\n",
              "    </tr>\n",
              "    <tr>\n",
              "      <th>4</th>\n",
              "      <td>2008</td>\n",
              "      <td>1</td>\n",
              "      <td>3</td>\n",
              "      <td>4</td>\n",
              "      <td>1417.0</td>\n",
              "      <td>1405</td>\n",
              "      <td>1535.0</td>\n",
              "      <td>1530</td>\n",
              "      <td>WN</td>\n",
              "      <td>231</td>\n",
              "      <td>N787SA</td>\n",
              "      <td>78.0</td>\n",
              "      <td>85.0</td>\n",
              "      <td>71.0</td>\n",
              "      <td>5.0</td>\n",
              "      <td>12.0</td>\n",
              "      <td>LIT</td>\n",
              "      <td>HOU</td>\n",
              "      <td>393</td>\n",
              "      <td>2.0</td>\n",
              "      <td>5.0</td>\n",
              "      <td>0</td>\n",
              "      <td>NaN</td>\n",
              "      <td>0</td>\n",
              "      <td>NaN</td>\n",
              "      <td>NaN</td>\n",
              "      <td>NaN</td>\n",
              "      <td>NaN</td>\n",
              "      <td>NaN</td>\n",
              "    </tr>\n",
              "  </tbody>\n",
              "</table>\n",
              "</div>\n",
              "      <button class=\"colab-df-convert\" onclick=\"convertToInteractive('df-ed524dce-c08c-4367-a139-05a5d8f92b5a')\"\n",
              "              title=\"Convert this dataframe to an interactive table.\"\n",
              "              style=\"display:none;\">\n",
              "        \n",
              "  <svg xmlns=\"http://www.w3.org/2000/svg\" height=\"24px\"viewBox=\"0 0 24 24\"\n",
              "       width=\"24px\">\n",
              "    <path d=\"M0 0h24v24H0V0z\" fill=\"none\"/>\n",
              "    <path d=\"M18.56 5.44l.94 2.06.94-2.06 2.06-.94-2.06-.94-.94-2.06-.94 2.06-2.06.94zm-11 1L8.5 8.5l.94-2.06 2.06-.94-2.06-.94L8.5 2.5l-.94 2.06-2.06.94zm10 10l.94 2.06.94-2.06 2.06-.94-2.06-.94-.94-2.06-.94 2.06-2.06.94z\"/><path d=\"M17.41 7.96l-1.37-1.37c-.4-.4-.92-.59-1.43-.59-.52 0-1.04.2-1.43.59L10.3 9.45l-7.72 7.72c-.78.78-.78 2.05 0 2.83L4 21.41c.39.39.9.59 1.41.59.51 0 1.02-.2 1.41-.59l7.78-7.78 2.81-2.81c.8-.78.8-2.07 0-2.86zM5.41 20L4 18.59l7.72-7.72 1.47 1.35L5.41 20z\"/>\n",
              "  </svg>\n",
              "      </button>\n",
              "      \n",
              "  <style>\n",
              "    .colab-df-container {\n",
              "      display:flex;\n",
              "      flex-wrap:wrap;\n",
              "      gap: 12px;\n",
              "    }\n",
              "\n",
              "    .colab-df-convert {\n",
              "      background-color: #E8F0FE;\n",
              "      border: none;\n",
              "      border-radius: 50%;\n",
              "      cursor: pointer;\n",
              "      display: none;\n",
              "      fill: #1967D2;\n",
              "      height: 32px;\n",
              "      padding: 0 0 0 0;\n",
              "      width: 32px;\n",
              "    }\n",
              "\n",
              "    .colab-df-convert:hover {\n",
              "      background-color: #E2EBFA;\n",
              "      box-shadow: 0px 1px 2px rgba(60, 64, 67, 0.3), 0px 1px 3px 1px rgba(60, 64, 67, 0.15);\n",
              "      fill: #174EA6;\n",
              "    }\n",
              "\n",
              "    [theme=dark] .colab-df-convert {\n",
              "      background-color: #3B4455;\n",
              "      fill: #D2E3FC;\n",
              "    }\n",
              "\n",
              "    [theme=dark] .colab-df-convert:hover {\n",
              "      background-color: #434B5C;\n",
              "      box-shadow: 0px 1px 3px 1px rgba(0, 0, 0, 0.15);\n",
              "      filter: drop-shadow(0px 1px 2px rgba(0, 0, 0, 0.3));\n",
              "      fill: #FFFFFF;\n",
              "    }\n",
              "  </style>\n",
              "\n",
              "      <script>\n",
              "        const buttonEl =\n",
              "          document.querySelector('#df-ed524dce-c08c-4367-a139-05a5d8f92b5a button.colab-df-convert');\n",
              "        buttonEl.style.display =\n",
              "          google.colab.kernel.accessAllowed ? 'block' : 'none';\n",
              "\n",
              "        async function convertToInteractive(key) {\n",
              "          const element = document.querySelector('#df-ed524dce-c08c-4367-a139-05a5d8f92b5a');\n",
              "          const dataTable =\n",
              "            await google.colab.kernel.invokeFunction('convertToInteractive',\n",
              "                                                     [key], {});\n",
              "          if (!dataTable) return;\n",
              "\n",
              "          const docLinkHtml = 'Like what you see? Visit the ' +\n",
              "            '<a target=\"_blank\" href=https://colab.research.google.com/notebooks/data_table.ipynb>data table notebook</a>'\n",
              "            + ' to learn more about interactive tables.';\n",
              "          element.innerHTML = '';\n",
              "          dataTable['output_type'] = 'display_data';\n",
              "          await google.colab.output.renderOutput(dataTable, element);\n",
              "          const docLink = document.createElement('div');\n",
              "          docLink.innerHTML = docLinkHtml;\n",
              "          element.appendChild(docLink);\n",
              "        }\n",
              "      </script>\n",
              "    </div>\n",
              "  </div>\n",
              "  "
            ],
            "text/plain": [
              "   Year  Month  DayofMonth  ...  NASDelay  SecurityDelay  LateAircraftDelay\n",
              "0  2008      1           3  ...      19.0            0.0               53.0\n",
              "1  2008      1           3  ...       NaN            NaN                NaN\n",
              "2  2008      1           3  ...       0.0            0.0               28.0\n",
              "3  2008      1           3  ...       0.0            0.0               31.0\n",
              "4  2008      1           3  ...       NaN            NaN                NaN\n",
              "\n",
              "[5 rows x 29 columns]"
            ]
          },
          "metadata": {},
          "execution_count": 10
        }
      ]
    },
    {
      "cell_type": "code",
      "source": [
        "raw_pd.info()"
      ],
      "metadata": {
        "colab": {
          "base_uri": "https://localhost:8080/"
        },
        "id": "VolKWcAB0oNN",
        "outputId": "b014c4ac-51bb-4c88-f9b2-6b4bef493a2e"
      },
      "execution_count": 11,
      "outputs": [
        {
          "output_type": "stream",
          "name": "stdout",
          "text": [
            "<class 'pandas.core.frame.DataFrame'>\n",
            "RangeIndex: 70096 entries, 0 to 70095\n",
            "Data columns (total 29 columns):\n",
            " #   Column             Non-Null Count  Dtype  \n",
            "---  ------             --------------  -----  \n",
            " 0   Year               70096 non-null  int64  \n",
            " 1   Month              70096 non-null  int64  \n",
            " 2   DayofMonth         70096 non-null  int64  \n",
            " 3   DayOfWeek          70096 non-null  int64  \n",
            " 4   DepTime            68712 non-null  float64\n",
            " 5   CRSDepTime         70096 non-null  int64  \n",
            " 6   ArrTime            68568 non-null  float64\n",
            " 7   CRSArrTime         70096 non-null  int64  \n",
            " 8   UniqueCarrier      70096 non-null  object \n",
            " 9   FlightNum          70096 non-null  int64  \n",
            " 10  TailNum            69251 non-null  object \n",
            " 11  ActualElapsedTime  68531 non-null  float64\n",
            " 12  CRSElapsedTime     70089 non-null  float64\n",
            " 13  AirTime            68531 non-null  float64\n",
            " 14  ArrDelay           68531 non-null  float64\n",
            " 15  DepDelay           68712 non-null  float64\n",
            " 16  Origin             70096 non-null  object \n",
            " 17  Dest               70096 non-null  object \n",
            " 18  Distance           70096 non-null  int64  \n",
            " 19  TaxiIn             68568 non-null  float64\n",
            " 20  TaxiOut            68708 non-null  float64\n",
            " 21  Cancelled          70096 non-null  int64  \n",
            " 22  CancellationCode   1391 non-null   object \n",
            " 23  Diverted           70096 non-null  int64  \n",
            " 24  CarrierDelay       15196 non-null  float64\n",
            " 25  WeatherDelay       15196 non-null  float64\n",
            " 26  NASDelay           15196 non-null  float64\n",
            " 27  SecurityDelay      15196 non-null  float64\n",
            " 28  LateAircraftDelay  15196 non-null  float64\n",
            "dtypes: float64(14), int64(10), object(5)\n",
            "memory usage: 15.5+ MB\n"
          ]
        }
      ]
    },
    {
      "cell_type": "code",
      "source": [
        "raw_pd.isnull().sum()"
      ],
      "metadata": {
        "colab": {
          "base_uri": "https://localhost:8080/"
        },
        "id": "Qlkk9f1T062D",
        "outputId": "19082335-06b5-466b-b316-07d863e251e8"
      },
      "execution_count": 12,
      "outputs": [
        {
          "output_type": "execute_result",
          "data": {
            "text/plain": [
              "Year                     0\n",
              "Month                    0\n",
              "DayofMonth               0\n",
              "DayOfWeek                0\n",
              "DepTime               1384\n",
              "CRSDepTime               0\n",
              "ArrTime               1528\n",
              "CRSArrTime               0\n",
              "UniqueCarrier            0\n",
              "FlightNum                0\n",
              "TailNum                845\n",
              "ActualElapsedTime     1565\n",
              "CRSElapsedTime           7\n",
              "AirTime               1565\n",
              "ArrDelay              1565\n",
              "DepDelay              1384\n",
              "Origin                   0\n",
              "Dest                     0\n",
              "Distance                 0\n",
              "TaxiIn                1528\n",
              "TaxiOut               1388\n",
              "Cancelled                0\n",
              "CancellationCode     68705\n",
              "Diverted                 0\n",
              "CarrierDelay         54900\n",
              "WeatherDelay         54900\n",
              "NASDelay             54900\n",
              "SecurityDelay        54900\n",
              "LateAircraftDelay    54900\n",
              "dtype: int64"
            ]
          },
          "metadata": {},
          "execution_count": 12
        }
      ]
    },
    {
      "cell_type": "code",
      "source": [
        "nullCol_series = raw_pd.isnull().sum()"
      ],
      "metadata": {
        "id": "YZLVaK-5FU6Q"
      },
      "execution_count": 13,
      "outputs": []
    },
    {
      "cell_type": "code",
      "source": [
        "notNull_list = list(nullCol_series[nullCol_series == 0].index)"
      ],
      "metadata": {
        "id": "tlwFwY2gG0DM"
      },
      "execution_count": 14,
      "outputs": []
    },
    {
      "cell_type": "code",
      "source": [
        "notNull_list"
      ],
      "metadata": {
        "colab": {
          "base_uri": "https://localhost:8080/"
        },
        "id": "zCvfOL4zIaWu",
        "outputId": "4c2b041b-612d-4c35-cdd4-33cf049304d9"
      },
      "execution_count": 15,
      "outputs": [
        {
          "output_type": "execute_result",
          "data": {
            "text/plain": [
              "['Year',\n",
              " 'Month',\n",
              " 'DayofMonth',\n",
              " 'DayOfWeek',\n",
              " 'CRSDepTime',\n",
              " 'CRSArrTime',\n",
              " 'UniqueCarrier',\n",
              " 'FlightNum',\n",
              " 'Origin',\n",
              " 'Dest',\n",
              " 'Distance',\n",
              " 'Cancelled',\n",
              " 'Diverted']"
            ]
          },
          "metadata": {},
          "execution_count": 15
        }
      ]
    },
    {
      "cell_type": "code",
      "source": [
        "requiredCol_list = ['TaxiIn','TaxiOut','ArrDelay']"
      ],
      "metadata": {
        "id": "44tH_4UDRBVC"
      },
      "execution_count": 16,
      "outputs": []
    },
    {
      "cell_type": "code",
      "source": [
        "selectedCol_list = notNull_list + requiredCol_list"
      ],
      "metadata": {
        "id": "TijWD2HcPg7L"
      },
      "execution_count": 17,
      "outputs": []
    },
    {
      "cell_type": "code",
      "source": [
        "noNull_pd = raw_pd.loc[:,selectedCol_list].dropna()"
      ],
      "metadata": {
        "id": "r_bW4iziOkui"
      },
      "execution_count": 18,
      "outputs": []
    },
    {
      "cell_type": "code",
      "source": [
        "noNull_pd.isnull().sum()"
      ],
      "metadata": {
        "colab": {
          "base_uri": "https://localhost:8080/"
        },
        "id": "k9tHiLaQPZYK",
        "outputId": "f894e54d-bb4f-4519-b3ed-098499330382"
      },
      "execution_count": 19,
      "outputs": [
        {
          "output_type": "execute_result",
          "data": {
            "text/plain": [
              "Year             0\n",
              "Month            0\n",
              "DayofMonth       0\n",
              "DayOfWeek        0\n",
              "CRSDepTime       0\n",
              "CRSArrTime       0\n",
              "UniqueCarrier    0\n",
              "FlightNum        0\n",
              "Origin           0\n",
              "Dest             0\n",
              "Distance         0\n",
              "Cancelled        0\n",
              "Diverted         0\n",
              "TaxiIn           0\n",
              "TaxiOut          0\n",
              "ArrDelay         0\n",
              "dtype: int64"
            ]
          },
          "metadata": {},
          "execution_count": 19
        }
      ]
    },
    {
      "cell_type": "code",
      "source": [
        "noNull_pd.describe()"
      ],
      "metadata": {
        "colab": {
          "base_uri": "https://localhost:8080/",
          "height": 361
        },
        "id": "r5OkuyLXP-nq",
        "outputId": "4e9b36fe-cb70-4e4a-904f-afd9f9250fce"
      },
      "execution_count": 20,
      "outputs": [
        {
          "output_type": "execute_result",
          "data": {
            "text/html": [
              "\n",
              "  <div id=\"df-8b8001d4-dd6f-4240-96cd-22903550f748\">\n",
              "    <div class=\"colab-df-container\">\n",
              "      <div>\n",
              "<style scoped>\n",
              "    .dataframe tbody tr th:only-of-type {\n",
              "        vertical-align: middle;\n",
              "    }\n",
              "\n",
              "    .dataframe tbody tr th {\n",
              "        vertical-align: top;\n",
              "    }\n",
              "\n",
              "    .dataframe thead th {\n",
              "        text-align: right;\n",
              "    }\n",
              "</style>\n",
              "<table border=\"1\" class=\"dataframe\">\n",
              "  <thead>\n",
              "    <tr style=\"text-align: right;\">\n",
              "      <th></th>\n",
              "      <th>Year</th>\n",
              "      <th>Month</th>\n",
              "      <th>DayofMonth</th>\n",
              "      <th>DayOfWeek</th>\n",
              "      <th>CRSDepTime</th>\n",
              "      <th>CRSArrTime</th>\n",
              "      <th>FlightNum</th>\n",
              "      <th>Distance</th>\n",
              "      <th>Cancelled</th>\n",
              "      <th>Diverted</th>\n",
              "      <th>TaxiIn</th>\n",
              "      <th>TaxiOut</th>\n",
              "      <th>ArrDelay</th>\n",
              "    </tr>\n",
              "  </thead>\n",
              "  <tbody>\n",
              "    <tr>\n",
              "      <th>count</th>\n",
              "      <td>68531.0</td>\n",
              "      <td>68531.000000</td>\n",
              "      <td>68531.000000</td>\n",
              "      <td>68531.000000</td>\n",
              "      <td>68531.000000</td>\n",
              "      <td>68531.000000</td>\n",
              "      <td>68531.000000</td>\n",
              "      <td>68531.000000</td>\n",
              "      <td>68531.0</td>\n",
              "      <td>68531.0</td>\n",
              "      <td>68531.000000</td>\n",
              "      <td>68531.000000</td>\n",
              "      <td>68531.000000</td>\n",
              "    </tr>\n",
              "    <tr>\n",
              "      <th>mean</th>\n",
              "      <td>2008.0</td>\n",
              "      <td>6.374021</td>\n",
              "      <td>15.755016</td>\n",
              "      <td>3.918562</td>\n",
              "      <td>1326.518393</td>\n",
              "      <td>1495.537976</td>\n",
              "      <td>2210.602822</td>\n",
              "      <td>729.299821</td>\n",
              "      <td>0.0</td>\n",
              "      <td>0.0</td>\n",
              "      <td>6.876800</td>\n",
              "      <td>16.475916</td>\n",
              "      <td>7.959172</td>\n",
              "    </tr>\n",
              "    <tr>\n",
              "      <th>std</th>\n",
              "      <td>0.0</td>\n",
              "      <td>3.395362</td>\n",
              "      <td>8.805123</td>\n",
              "      <td>1.991249</td>\n",
              "      <td>463.908391</td>\n",
              "      <td>482.685267</td>\n",
              "      <td>1954.080479</td>\n",
              "      <td>562.574427</td>\n",
              "      <td>0.0</td>\n",
              "      <td>0.0</td>\n",
              "      <td>4.876491</td>\n",
              "      <td>11.368084</td>\n",
              "      <td>37.638059</td>\n",
              "    </tr>\n",
              "    <tr>\n",
              "      <th>min</th>\n",
              "      <td>2008.0</td>\n",
              "      <td>1.000000</td>\n",
              "      <td>1.000000</td>\n",
              "      <td>1.000000</td>\n",
              "      <td>5.000000</td>\n",
              "      <td>1.000000</td>\n",
              "      <td>1.000000</td>\n",
              "      <td>31.000000</td>\n",
              "      <td>0.0</td>\n",
              "      <td>0.0</td>\n",
              "      <td>0.000000</td>\n",
              "      <td>1.000000</td>\n",
              "      <td>-76.000000</td>\n",
              "    </tr>\n",
              "    <tr>\n",
              "      <th>25%</th>\n",
              "      <td>2008.0</td>\n",
              "      <td>3.000000</td>\n",
              "      <td>8.000000</td>\n",
              "      <td>2.000000</td>\n",
              "      <td>929.500000</td>\n",
              "      <td>1115.000000</td>\n",
              "      <td>615.000000</td>\n",
              "      <td>328.000000</td>\n",
              "      <td>0.0</td>\n",
              "      <td>0.0</td>\n",
              "      <td>4.000000</td>\n",
              "      <td>10.000000</td>\n",
              "      <td>-10.000000</td>\n",
              "    </tr>\n",
              "    <tr>\n",
              "      <th>50%</th>\n",
              "      <td>2008.0</td>\n",
              "      <td>6.000000</td>\n",
              "      <td>16.000000</td>\n",
              "      <td>4.000000</td>\n",
              "      <td>1320.000000</td>\n",
              "      <td>1517.000000</td>\n",
              "      <td>1564.000000</td>\n",
              "      <td>584.000000</td>\n",
              "      <td>0.0</td>\n",
              "      <td>0.0</td>\n",
              "      <td>6.000000</td>\n",
              "      <td>14.000000</td>\n",
              "      <td>-2.000000</td>\n",
              "    </tr>\n",
              "    <tr>\n",
              "      <th>75%</th>\n",
              "      <td>2008.0</td>\n",
              "      <td>9.000000</td>\n",
              "      <td>23.000000</td>\n",
              "      <td>6.000000</td>\n",
              "      <td>1715.000000</td>\n",
              "      <td>1909.000000</td>\n",
              "      <td>3497.000000</td>\n",
              "      <td>956.000000</td>\n",
              "      <td>0.0</td>\n",
              "      <td>0.0</td>\n",
              "      <td>8.000000</td>\n",
              "      <td>19.000000</td>\n",
              "      <td>12.000000</td>\n",
              "    </tr>\n",
              "    <tr>\n",
              "      <th>max</th>\n",
              "      <td>2008.0</td>\n",
              "      <td>12.000000</td>\n",
              "      <td>31.000000</td>\n",
              "      <td>7.000000</td>\n",
              "      <td>2359.000000</td>\n",
              "      <td>2359.000000</td>\n",
              "      <td>7829.000000</td>\n",
              "      <td>4962.000000</td>\n",
              "      <td>0.0</td>\n",
              "      <td>0.0</td>\n",
              "      <td>159.000000</td>\n",
              "      <td>301.000000</td>\n",
              "      <td>1017.000000</td>\n",
              "    </tr>\n",
              "  </tbody>\n",
              "</table>\n",
              "</div>\n",
              "      <button class=\"colab-df-convert\" onclick=\"convertToInteractive('df-8b8001d4-dd6f-4240-96cd-22903550f748')\"\n",
              "              title=\"Convert this dataframe to an interactive table.\"\n",
              "              style=\"display:none;\">\n",
              "        \n",
              "  <svg xmlns=\"http://www.w3.org/2000/svg\" height=\"24px\"viewBox=\"0 0 24 24\"\n",
              "       width=\"24px\">\n",
              "    <path d=\"M0 0h24v24H0V0z\" fill=\"none\"/>\n",
              "    <path d=\"M18.56 5.44l.94 2.06.94-2.06 2.06-.94-2.06-.94-.94-2.06-.94 2.06-2.06.94zm-11 1L8.5 8.5l.94-2.06 2.06-.94-2.06-.94L8.5 2.5l-.94 2.06-2.06.94zm10 10l.94 2.06.94-2.06 2.06-.94-2.06-.94-.94-2.06-.94 2.06-2.06.94z\"/><path d=\"M17.41 7.96l-1.37-1.37c-.4-.4-.92-.59-1.43-.59-.52 0-1.04.2-1.43.59L10.3 9.45l-7.72 7.72c-.78.78-.78 2.05 0 2.83L4 21.41c.39.39.9.59 1.41.59.51 0 1.02-.2 1.41-.59l7.78-7.78 2.81-2.81c.8-.78.8-2.07 0-2.86zM5.41 20L4 18.59l7.72-7.72 1.47 1.35L5.41 20z\"/>\n",
              "  </svg>\n",
              "      </button>\n",
              "      \n",
              "  <style>\n",
              "    .colab-df-container {\n",
              "      display:flex;\n",
              "      flex-wrap:wrap;\n",
              "      gap: 12px;\n",
              "    }\n",
              "\n",
              "    .colab-df-convert {\n",
              "      background-color: #E8F0FE;\n",
              "      border: none;\n",
              "      border-radius: 50%;\n",
              "      cursor: pointer;\n",
              "      display: none;\n",
              "      fill: #1967D2;\n",
              "      height: 32px;\n",
              "      padding: 0 0 0 0;\n",
              "      width: 32px;\n",
              "    }\n",
              "\n",
              "    .colab-df-convert:hover {\n",
              "      background-color: #E2EBFA;\n",
              "      box-shadow: 0px 1px 2px rgba(60, 64, 67, 0.3), 0px 1px 3px 1px rgba(60, 64, 67, 0.15);\n",
              "      fill: #174EA6;\n",
              "    }\n",
              "\n",
              "    [theme=dark] .colab-df-convert {\n",
              "      background-color: #3B4455;\n",
              "      fill: #D2E3FC;\n",
              "    }\n",
              "\n",
              "    [theme=dark] .colab-df-convert:hover {\n",
              "      background-color: #434B5C;\n",
              "      box-shadow: 0px 1px 3px 1px rgba(0, 0, 0, 0.15);\n",
              "      filter: drop-shadow(0px 1px 2px rgba(0, 0, 0, 0.3));\n",
              "      fill: #FFFFFF;\n",
              "    }\n",
              "  </style>\n",
              "\n",
              "      <script>\n",
              "        const buttonEl =\n",
              "          document.querySelector('#df-8b8001d4-dd6f-4240-96cd-22903550f748 button.colab-df-convert');\n",
              "        buttonEl.style.display =\n",
              "          google.colab.kernel.accessAllowed ? 'block' : 'none';\n",
              "\n",
              "        async function convertToInteractive(key) {\n",
              "          const element = document.querySelector('#df-8b8001d4-dd6f-4240-96cd-22903550f748');\n",
              "          const dataTable =\n",
              "            await google.colab.kernel.invokeFunction('convertToInteractive',\n",
              "                                                     [key], {});\n",
              "          if (!dataTable) return;\n",
              "\n",
              "          const docLinkHtml = 'Like what you see? Visit the ' +\n",
              "            '<a target=\"_blank\" href=https://colab.research.google.com/notebooks/data_table.ipynb>data table notebook</a>'\n",
              "            + ' to learn more about interactive tables.';\n",
              "          element.innerHTML = '';\n",
              "          dataTable['output_type'] = 'display_data';\n",
              "          await google.colab.output.renderOutput(dataTable, element);\n",
              "          const docLink = document.createElement('div');\n",
              "          docLink.innerHTML = docLinkHtml;\n",
              "          element.appendChild(docLink);\n",
              "        }\n",
              "      </script>\n",
              "    </div>\n",
              "  </div>\n",
              "  "
            ],
            "text/plain": [
              "          Year         Month  ...       TaxiOut      ArrDelay\n",
              "count  68531.0  68531.000000  ...  68531.000000  68531.000000\n",
              "mean    2008.0      6.374021  ...     16.475916      7.959172\n",
              "std        0.0      3.395362  ...     11.368084     37.638059\n",
              "min     2008.0      1.000000  ...      1.000000    -76.000000\n",
              "25%     2008.0      3.000000  ...     10.000000    -10.000000\n",
              "50%     2008.0      6.000000  ...     14.000000     -2.000000\n",
              "75%     2008.0      9.000000  ...     19.000000     12.000000\n",
              "max     2008.0     12.000000  ...    301.000000   1017.000000\n",
              "\n",
              "[8 rows x 13 columns]"
            ]
          },
          "metadata": {},
          "execution_count": 20
        }
      ]
    },
    {
      "cell_type": "code",
      "source": [
        "noNull_pd.info()"
      ],
      "metadata": {
        "colab": {
          "base_uri": "https://localhost:8080/"
        },
        "id": "ZLQ3LII7QMiL",
        "outputId": "c0125837-6aaa-4f64-9ce9-30b52979f38c"
      },
      "execution_count": 21,
      "outputs": [
        {
          "output_type": "stream",
          "name": "stdout",
          "text": [
            "<class 'pandas.core.frame.DataFrame'>\n",
            "Int64Index: 68531 entries, 0 to 70095\n",
            "Data columns (total 16 columns):\n",
            " #   Column         Non-Null Count  Dtype  \n",
            "---  ------         --------------  -----  \n",
            " 0   Year           68531 non-null  int64  \n",
            " 1   Month          68531 non-null  int64  \n",
            " 2   DayofMonth     68531 non-null  int64  \n",
            " 3   DayOfWeek      68531 non-null  int64  \n",
            " 4   CRSDepTime     68531 non-null  int64  \n",
            " 5   CRSArrTime     68531 non-null  int64  \n",
            " 6   UniqueCarrier  68531 non-null  object \n",
            " 7   FlightNum      68531 non-null  int64  \n",
            " 8   Origin         68531 non-null  object \n",
            " 9   Dest           68531 non-null  object \n",
            " 10  Distance       68531 non-null  int64  \n",
            " 11  Cancelled      68531 non-null  int64  \n",
            " 12  Diverted       68531 non-null  int64  \n",
            " 13  TaxiIn         68531 non-null  float64\n",
            " 14  TaxiOut        68531 non-null  float64\n",
            " 15  ArrDelay       68531 non-null  float64\n",
            "dtypes: float64(3), int64(10), object(3)\n",
            "memory usage: 8.9+ MB\n"
          ]
        }
      ]
    },
    {
      "cell_type": "code",
      "source": [
        "candidatedFeatures_pd = noNull_pd"
      ],
      "metadata": {
        "id": "AaSTMmwxTFRl"
      },
      "execution_count": 22,
      "outputs": []
    },
    {
      "cell_type": "code",
      "source": [
        "import pandas as pd\n",
        "from seaborn import load_dataset\n",
        "import numpy as np\n",
        "\n",
        "from sklearn.model_selection import train_test_split\n",
        "from sklearn.base import BaseEstimator, TransformerMixin\n",
        "from sklearn.preprocessing import OneHotEncoder, MinMaxScaler\n",
        "from sklearn.impute import SimpleImputer\n",
        "from sklearn.pipeline import Pipeline, FeatureUnion\n",
        "from sklearn.compose import ColumnTransformer\n",
        "from sklearn.linear_model import LinearRegression"
      ],
      "metadata": {
        "id": "sC1Yq7VPSo3H"
      },
      "execution_count": 23,
      "outputs": []
    },
    {
      "cell_type": "code",
      "source": [
        "train_df = candidatedFeatures_pd.sample(frac=0.8,random_state=123)"
      ],
      "metadata": {
        "id": "7-3UT4nJS_Zr"
      },
      "execution_count": 24,
      "outputs": []
    },
    {
      "cell_type": "code",
      "source": [
        "test_df = candidatedFeatures_pd.drop(train_df.index)"
      ],
      "metadata": {
        "id": "S2Q1qB6ITRfU"
      },
      "execution_count": 25,
      "outputs": []
    },
    {
      "cell_type": "code",
      "source": [
        "train_df.count()"
      ],
      "metadata": {
        "colab": {
          "base_uri": "https://localhost:8080/"
        },
        "id": "hwrZxWwzTWjc",
        "outputId": "5d2fec1a-c1d9-4da1-b196-bdae8728c6c9"
      },
      "execution_count": 26,
      "outputs": [
        {
          "output_type": "execute_result",
          "data": {
            "text/plain": [
              "Year             54825\n",
              "Month            54825\n",
              "DayofMonth       54825\n",
              "DayOfWeek        54825\n",
              "CRSDepTime       54825\n",
              "CRSArrTime       54825\n",
              "UniqueCarrier    54825\n",
              "FlightNum        54825\n",
              "Origin           54825\n",
              "Dest             54825\n",
              "Distance         54825\n",
              "Cancelled        54825\n",
              "Diverted         54825\n",
              "TaxiIn           54825\n",
              "TaxiOut          54825\n",
              "ArrDelay         54825\n",
              "dtype: int64"
            ]
          },
          "metadata": {},
          "execution_count": 26
        }
      ]
    },
    {
      "cell_type": "code",
      "source": [
        "test_df.count()"
      ],
      "metadata": {
        "colab": {
          "base_uri": "https://localhost:8080/"
        },
        "id": "LPwBx3n9TZyz",
        "outputId": "3f47b60e-0787-44a7-f7de-e34157eb0136"
      },
      "execution_count": 27,
      "outputs": [
        {
          "output_type": "execute_result",
          "data": {
            "text/plain": [
              "Year             13706\n",
              "Month            13706\n",
              "DayofMonth       13706\n",
              "DayOfWeek        13706\n",
              "CRSDepTime       13706\n",
              "CRSArrTime       13706\n",
              "UniqueCarrier    13706\n",
              "FlightNum        13706\n",
              "Origin           13706\n",
              "Dest             13706\n",
              "Distance         13706\n",
              "Cancelled        13706\n",
              "Diverted         13706\n",
              "TaxiIn           13706\n",
              "TaxiOut          13706\n",
              "ArrDelay         13706\n",
              "dtype: int64"
            ]
          },
          "metadata": {},
          "execution_count": 27
        }
      ]
    },
    {
      "cell_type": "code",
      "source": [
        "train_labels = train_df.filter(['ArrDelay'])\n",
        "train_df = train_df.loc[:, train_df.columns != 'ArrDelay']"
      ],
      "metadata": {
        "id": "p5EFPeS0Tb5_"
      },
      "execution_count": 28,
      "outputs": []
    },
    {
      "cell_type": "code",
      "source": [
        "type(train_labels)"
      ],
      "metadata": {
        "colab": {
          "base_uri": "https://localhost:8080/"
        },
        "id": "k97_KQlBUYME",
        "outputId": "b1e43753-7be0-4e4e-ba26-be1a0d36cc11"
      },
      "execution_count": 29,
      "outputs": [
        {
          "output_type": "execute_result",
          "data": {
            "text/plain": [
              "pandas.core.frame.DataFrame"
            ]
          },
          "metadata": {},
          "execution_count": 29
        }
      ]
    },
    {
      "cell_type": "code",
      "source": [
        "test_labels = test_df.filter(['ArrDelay'])\n",
        "test_df = test_df.loc[:, test_df.columns != 'ArrDelay']"
      ],
      "metadata": {
        "id": "5T_HfZrWUaj3"
      },
      "execution_count": 30,
      "outputs": []
    },
    {
      "cell_type": "code",
      "source": [
        "X_train = train_df\n",
        "X_train = train_df\n",
        "y_train = train_labels\n",
        "y_test = test_labels"
      ],
      "metadata": {
        "id": "MQSm_cPWUqfJ"
      },
      "execution_count": 31,
      "outputs": []
    },
    {
      "cell_type": "code",
      "source": [
        "categorical = list(X_train.select_dtypes('object').columns)\n",
        "print(f\"Categorical columns are: {categorical}\")\n",
        "\n",
        "numerical = list(X_train.select_dtypes('number').columns)\n",
        "print(f\"Numerical columns are: {numerical}\")"
      ],
      "metadata": {
        "colab": {
          "base_uri": "https://localhost:8080/"
        },
        "id": "v_31Pv9oVQbm",
        "outputId": "95620ac3-86c9-4bb0-ce98-b248c1bc9da6"
      },
      "execution_count": 32,
      "outputs": [
        {
          "output_type": "stream",
          "name": "stdout",
          "text": [
            "Categorical columns are: ['UniqueCarrier', 'Origin', 'Dest']\n",
            "Numerical columns are: ['Year', 'Month', 'DayofMonth', 'DayOfWeek', 'CRSDepTime', 'CRSArrTime', 'FlightNum', 'Distance', 'Cancelled', 'Diverted', 'TaxiIn', 'TaxiOut']\n"
          ]
        }
      ]
    },
    {
      "cell_type": "code",
      "source": [
        ""
      ],
      "metadata": {
        "id": "7rD4_wbdWp9x"
      },
      "execution_count": 32,
      "outputs": []
    },
    {
      "cell_type": "code",
      "source": [
        "from sklearn.tree import DecisionTreeClassifier, export_graphviz, DecisionTreeRegressor\n",
        "from sklearn import tree\n",
        "from sklearn.datasets import load_wine\n",
        "from sklearn.model_selection import train_test_split\n",
        "from sklearn import metrics"
      ],
      "metadata": {
        "id": "-B9QcYVMWqc1"
      },
      "execution_count": 33,
      "outputs": []
    },
    {
      "cell_type": "code",
      "source": [
        "# Define custom transformer\n",
        "class ColumnSelector(BaseEstimator, TransformerMixin):\n",
        "    \"\"\"Select only specified columns.\"\"\"\n",
        "    def __init__(self, columns):\n",
        "        self.columns = columns\n",
        "        \n",
        "    def fit(self, X, y=None):\n",
        "        return self\n",
        "    \n",
        "    def transform(self, X):\n",
        "        return X[self.columns]\n",
        "\n",
        "# Define categorical pipeline\n",
        "cat_pipe = Pipeline([('selector', ColumnSelector(categorical)),\n",
        "                     ('imputer', SimpleImputer(strategy='constant', fill_value='missing')),\n",
        "                     ('encoder', OneHotEncoder(handle_unknown='ignore', sparse=False))])\n",
        "\n",
        "# Define numerical pipeline\n",
        "num_pipe = Pipeline([('selector', ColumnSelector(numerical))\n",
        "                     #('imputer', SimpleImputer(strategy='median')),\n",
        "                     #('scaler', MinMaxScaler())\n",
        "                    ])\n",
        "\n",
        "# Combine categorical and numerical pipeline\n",
        "preprocessor = FeatureUnion(transformer_list=[('cat', cat_pipe),\n",
        "                                              ('num', num_pipe)])\n",
        "\n",
        "# Model Training\n",
        "pipe = Pipeline(steps=[('preprocessor', preprocessor),\n",
        "              ('model', DecisionTreeRegressor(max_depth=None))])\n",
        "pipeline_model = pipe.fit(X_train, y_train)"
      ],
      "metadata": {
        "id": "V0bGO402WyZl"
      },
      "execution_count": 34,
      "outputs": []
    },
    {
      "cell_type": "code",
      "source": [
        "#"
      ],
      "metadata": {
        "id": "WuKKrGudXFVm"
      },
      "execution_count": 35,
      "outputs": []
    },
    {
      "cell_type": "code",
      "source": [
        ""
      ],
      "metadata": {
        "id": "o6HuDl1CZ9R9"
      },
      "execution_count": 35,
      "outputs": []
    }
  ]
}