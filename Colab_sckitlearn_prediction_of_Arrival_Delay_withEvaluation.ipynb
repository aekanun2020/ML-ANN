{
  "nbformat": 4,
  "nbformat_minor": 0,
  "metadata": {
    "colab": {
      "name": "Colab-sckitlearn-prediction of Arrival Delay-withEvaluation.ipynb",
      "provenance": [],
      "collapsed_sections": []
    },
    "kernelspec": {
      "name": "python3",
      "display_name": "Python 3"
    },
    "language_info": {
      "name": "python"
    }
  },
  "cells": [
    {
      "cell_type": "code",
      "source": [
        "import pandas as pd"
      ],
      "metadata": {
        "id": "TPW33Jyr0rDw"
      },
      "execution_count": 1,
      "outputs": []
    },
    {
      "cell_type": "code",
      "execution_count": 2,
      "metadata": {
        "colab": {
          "base_uri": "https://localhost:8080/"
        },
        "id": "dYaYQoX2zm6d",
        "outputId": "20e1ce42-8a59-4c01-9838-83ebc9c0bca2"
      },
      "outputs": [
        {
          "output_type": "stream",
          "name": "stdout",
          "text": [
            "--2022-01-30 01:50:07--  https://s3.amazonaws.com/imcbucket/data/flights/2008.csv\n",
            "Resolving s3.amazonaws.com (s3.amazonaws.com)... 52.216.93.221\n",
            "Connecting to s3.amazonaws.com (s3.amazonaws.com)|52.216.93.221|:443... connected.\n",
            "HTTP request sent, awaiting response... 200 OK\n",
            "Length: 689413344 (657M) [binary/octet-stream]\n",
            "Saving to: ‘2008.csv’\n",
            "\n",
            "2008.csv            100%[===================>] 657.48M  16.0MB/s    in 43s     \n",
            "\n",
            "2022-01-30 01:50:51 (15.2 MB/s) - ‘2008.csv’ saved [689413344/689413344]\n",
            "\n"
          ]
        }
      ],
      "source": [
        "! wget https://s3.amazonaws.com/imcbucket/data/flights/2008.csv"
      ]
    },
    {
      "cell_type": "code",
      "source": [
        "! wc -l 2008.csv"
      ],
      "metadata": {
        "colab": {
          "base_uri": "https://localhost:8080/"
        },
        "id": "TG2-Sj5az66M",
        "outputId": "b7eb74d5-f0f8-4d02-943e-ffc47827b158"
      },
      "execution_count": 3,
      "outputs": [
        {
          "output_type": "stream",
          "name": "stdout",
          "text": [
            "7009729 2008.csv\n"
          ]
        }
      ]
    },
    {
      "cell_type": "code",
      "source": [
        "f = \"2008.csv\"\n",
        "num_lines = sum(1 for l in open(f))\n",
        "size = int(num_lines / 100)\n",
        "import random\n",
        "skip_idx = random.sample(range(1, num_lines), num_lines - size)\n",
        "raw_pd = pd.read_csv(f, skiprows=skip_idx)"
      ],
      "metadata": {
        "id": "xcyjgxjNZQN7"
      },
      "execution_count": 4,
      "outputs": []
    },
    {
      "cell_type": "code",
      "source": [
        "#raw_pd = pd.read_csv(\"2008.csv\")"
      ],
      "metadata": {
        "id": "P9K4zh1o0B7J"
      },
      "execution_count": 5,
      "outputs": []
    },
    {
      "cell_type": "code",
      "source": [
        "raw_pd.head(5)"
      ],
      "metadata": {
        "colab": {
          "base_uri": "https://localhost:8080/",
          "height": 268
        },
        "id": "JQn1hNnS0lTT",
        "outputId": "5a7e2fab-f8c9-45b0-f421-6b705d6daabb"
      },
      "execution_count": 6,
      "outputs": [
        {
          "output_type": "execute_result",
          "data": {
            "text/html": [
              "\n",
              "  <div id=\"df-8c4dea73-0632-473d-a2a9-bb36ff382412\">\n",
              "    <div class=\"colab-df-container\">\n",
              "      <div>\n",
              "<style scoped>\n",
              "    .dataframe tbody tr th:only-of-type {\n",
              "        vertical-align: middle;\n",
              "    }\n",
              "\n",
              "    .dataframe tbody tr th {\n",
              "        vertical-align: top;\n",
              "    }\n",
              "\n",
              "    .dataframe thead th {\n",
              "        text-align: right;\n",
              "    }\n",
              "</style>\n",
              "<table border=\"1\" class=\"dataframe\">\n",
              "  <thead>\n",
              "    <tr style=\"text-align: right;\">\n",
              "      <th></th>\n",
              "      <th>Year</th>\n",
              "      <th>Month</th>\n",
              "      <th>DayofMonth</th>\n",
              "      <th>DayOfWeek</th>\n",
              "      <th>DepTime</th>\n",
              "      <th>CRSDepTime</th>\n",
              "      <th>ArrTime</th>\n",
              "      <th>CRSArrTime</th>\n",
              "      <th>UniqueCarrier</th>\n",
              "      <th>FlightNum</th>\n",
              "      <th>TailNum</th>\n",
              "      <th>ActualElapsedTime</th>\n",
              "      <th>CRSElapsedTime</th>\n",
              "      <th>AirTime</th>\n",
              "      <th>ArrDelay</th>\n",
              "      <th>DepDelay</th>\n",
              "      <th>Origin</th>\n",
              "      <th>Dest</th>\n",
              "      <th>Distance</th>\n",
              "      <th>TaxiIn</th>\n",
              "      <th>TaxiOut</th>\n",
              "      <th>Cancelled</th>\n",
              "      <th>CancellationCode</th>\n",
              "      <th>Diverted</th>\n",
              "      <th>CarrierDelay</th>\n",
              "      <th>WeatherDelay</th>\n",
              "      <th>NASDelay</th>\n",
              "      <th>SecurityDelay</th>\n",
              "      <th>LateAircraftDelay</th>\n",
              "    </tr>\n",
              "  </thead>\n",
              "  <tbody>\n",
              "    <tr>\n",
              "      <th>0</th>\n",
              "      <td>2008</td>\n",
              "      <td>1</td>\n",
              "      <td>3</td>\n",
              "      <td>4</td>\n",
              "      <td>617.0</td>\n",
              "      <td>615</td>\n",
              "      <td>652.0</td>\n",
              "      <td>650</td>\n",
              "      <td>WN</td>\n",
              "      <td>11</td>\n",
              "      <td>N689SW</td>\n",
              "      <td>95.0</td>\n",
              "      <td>95.0</td>\n",
              "      <td>70.0</td>\n",
              "      <td>2.0</td>\n",
              "      <td>2.0</td>\n",
              "      <td>IND</td>\n",
              "      <td>MCI</td>\n",
              "      <td>451</td>\n",
              "      <td>6.0</td>\n",
              "      <td>19.0</td>\n",
              "      <td>0</td>\n",
              "      <td>NaN</td>\n",
              "      <td>0</td>\n",
              "      <td>NaN</td>\n",
              "      <td>NaN</td>\n",
              "      <td>NaN</td>\n",
              "      <td>NaN</td>\n",
              "      <td>NaN</td>\n",
              "    </tr>\n",
              "    <tr>\n",
              "      <th>1</th>\n",
              "      <td>2008</td>\n",
              "      <td>1</td>\n",
              "      <td>3</td>\n",
              "      <td>4</td>\n",
              "      <td>2248.0</td>\n",
              "      <td>2125</td>\n",
              "      <td>102.0</td>\n",
              "      <td>2345</td>\n",
              "      <td>WN</td>\n",
              "      <td>890</td>\n",
              "      <td>N618WN</td>\n",
              "      <td>74.0</td>\n",
              "      <td>80.0</td>\n",
              "      <td>60.0</td>\n",
              "      <td>77.0</td>\n",
              "      <td>83.0</td>\n",
              "      <td>LAS</td>\n",
              "      <td>ABQ</td>\n",
              "      <td>487</td>\n",
              "      <td>4.0</td>\n",
              "      <td>10.0</td>\n",
              "      <td>0</td>\n",
              "      <td>NaN</td>\n",
              "      <td>0</td>\n",
              "      <td>7.0</td>\n",
              "      <td>0.0</td>\n",
              "      <td>0.0</td>\n",
              "      <td>0.0</td>\n",
              "      <td>70.0</td>\n",
              "    </tr>\n",
              "    <tr>\n",
              "      <th>2</th>\n",
              "      <td>2008</td>\n",
              "      <td>1</td>\n",
              "      <td>3</td>\n",
              "      <td>4</td>\n",
              "      <td>934.0</td>\n",
              "      <td>935</td>\n",
              "      <td>1453.0</td>\n",
              "      <td>1505</td>\n",
              "      <td>WN</td>\n",
              "      <td>830</td>\n",
              "      <td>N436WN</td>\n",
              "      <td>199.0</td>\n",
              "      <td>210.0</td>\n",
              "      <td>177.0</td>\n",
              "      <td>-12.0</td>\n",
              "      <td>-1.0</td>\n",
              "      <td>LAS</td>\n",
              "      <td>MDW</td>\n",
              "      <td>1521</td>\n",
              "      <td>6.0</td>\n",
              "      <td>16.0</td>\n",
              "      <td>0</td>\n",
              "      <td>NaN</td>\n",
              "      <td>0</td>\n",
              "      <td>NaN</td>\n",
              "      <td>NaN</td>\n",
              "      <td>NaN</td>\n",
              "      <td>NaN</td>\n",
              "      <td>NaN</td>\n",
              "    </tr>\n",
              "    <tr>\n",
              "      <th>3</th>\n",
              "      <td>2008</td>\n",
              "      <td>1</td>\n",
              "      <td>3</td>\n",
              "      <td>4</td>\n",
              "      <td>2237.0</td>\n",
              "      <td>2140</td>\n",
              "      <td>2335.0</td>\n",
              "      <td>2245</td>\n",
              "      <td>WN</td>\n",
              "      <td>2454</td>\n",
              "      <td>N352SW</td>\n",
              "      <td>58.0</td>\n",
              "      <td>65.0</td>\n",
              "      <td>47.0</td>\n",
              "      <td>50.0</td>\n",
              "      <td>57.0</td>\n",
              "      <td>LAX</td>\n",
              "      <td>LAS</td>\n",
              "      <td>236</td>\n",
              "      <td>3.0</td>\n",
              "      <td>8.0</td>\n",
              "      <td>0</td>\n",
              "      <td>NaN</td>\n",
              "      <td>0</td>\n",
              "      <td>3.0</td>\n",
              "      <td>0.0</td>\n",
              "      <td>0.0</td>\n",
              "      <td>0.0</td>\n",
              "      <td>47.0</td>\n",
              "    </tr>\n",
              "    <tr>\n",
              "      <th>4</th>\n",
              "      <td>2008</td>\n",
              "      <td>1</td>\n",
              "      <td>3</td>\n",
              "      <td>4</td>\n",
              "      <td>1803.0</td>\n",
              "      <td>1730</td>\n",
              "      <td>1933.0</td>\n",
              "      <td>1845</td>\n",
              "      <td>WN</td>\n",
              "      <td>440</td>\n",
              "      <td>N720WN</td>\n",
              "      <td>90.0</td>\n",
              "      <td>75.0</td>\n",
              "      <td>67.0</td>\n",
              "      <td>48.0</td>\n",
              "      <td>33.0</td>\n",
              "      <td>LAX</td>\n",
              "      <td>OAK</td>\n",
              "      <td>337</td>\n",
              "      <td>5.0</td>\n",
              "      <td>18.0</td>\n",
              "      <td>0</td>\n",
              "      <td>NaN</td>\n",
              "      <td>0</td>\n",
              "      <td>6.0</td>\n",
              "      <td>0.0</td>\n",
              "      <td>15.0</td>\n",
              "      <td>0.0</td>\n",
              "      <td>27.0</td>\n",
              "    </tr>\n",
              "  </tbody>\n",
              "</table>\n",
              "</div>\n",
              "      <button class=\"colab-df-convert\" onclick=\"convertToInteractive('df-8c4dea73-0632-473d-a2a9-bb36ff382412')\"\n",
              "              title=\"Convert this dataframe to an interactive table.\"\n",
              "              style=\"display:none;\">\n",
              "        \n",
              "  <svg xmlns=\"http://www.w3.org/2000/svg\" height=\"24px\"viewBox=\"0 0 24 24\"\n",
              "       width=\"24px\">\n",
              "    <path d=\"M0 0h24v24H0V0z\" fill=\"none\"/>\n",
              "    <path d=\"M18.56 5.44l.94 2.06.94-2.06 2.06-.94-2.06-.94-.94-2.06-.94 2.06-2.06.94zm-11 1L8.5 8.5l.94-2.06 2.06-.94-2.06-.94L8.5 2.5l-.94 2.06-2.06.94zm10 10l.94 2.06.94-2.06 2.06-.94-2.06-.94-.94-2.06-.94 2.06-2.06.94z\"/><path d=\"M17.41 7.96l-1.37-1.37c-.4-.4-.92-.59-1.43-.59-.52 0-1.04.2-1.43.59L10.3 9.45l-7.72 7.72c-.78.78-.78 2.05 0 2.83L4 21.41c.39.39.9.59 1.41.59.51 0 1.02-.2 1.41-.59l7.78-7.78 2.81-2.81c.8-.78.8-2.07 0-2.86zM5.41 20L4 18.59l7.72-7.72 1.47 1.35L5.41 20z\"/>\n",
              "  </svg>\n",
              "      </button>\n",
              "      \n",
              "  <style>\n",
              "    .colab-df-container {\n",
              "      display:flex;\n",
              "      flex-wrap:wrap;\n",
              "      gap: 12px;\n",
              "    }\n",
              "\n",
              "    .colab-df-convert {\n",
              "      background-color: #E8F0FE;\n",
              "      border: none;\n",
              "      border-radius: 50%;\n",
              "      cursor: pointer;\n",
              "      display: none;\n",
              "      fill: #1967D2;\n",
              "      height: 32px;\n",
              "      padding: 0 0 0 0;\n",
              "      width: 32px;\n",
              "    }\n",
              "\n",
              "    .colab-df-convert:hover {\n",
              "      background-color: #E2EBFA;\n",
              "      box-shadow: 0px 1px 2px rgba(60, 64, 67, 0.3), 0px 1px 3px 1px rgba(60, 64, 67, 0.15);\n",
              "      fill: #174EA6;\n",
              "    }\n",
              "\n",
              "    [theme=dark] .colab-df-convert {\n",
              "      background-color: #3B4455;\n",
              "      fill: #D2E3FC;\n",
              "    }\n",
              "\n",
              "    [theme=dark] .colab-df-convert:hover {\n",
              "      background-color: #434B5C;\n",
              "      box-shadow: 0px 1px 3px 1px rgba(0, 0, 0, 0.15);\n",
              "      filter: drop-shadow(0px 1px 2px rgba(0, 0, 0, 0.3));\n",
              "      fill: #FFFFFF;\n",
              "    }\n",
              "  </style>\n",
              "\n",
              "      <script>\n",
              "        const buttonEl =\n",
              "          document.querySelector('#df-8c4dea73-0632-473d-a2a9-bb36ff382412 button.colab-df-convert');\n",
              "        buttonEl.style.display =\n",
              "          google.colab.kernel.accessAllowed ? 'block' : 'none';\n",
              "\n",
              "        async function convertToInteractive(key) {\n",
              "          const element = document.querySelector('#df-8c4dea73-0632-473d-a2a9-bb36ff382412');\n",
              "          const dataTable =\n",
              "            await google.colab.kernel.invokeFunction('convertToInteractive',\n",
              "                                                     [key], {});\n",
              "          if (!dataTable) return;\n",
              "\n",
              "          const docLinkHtml = 'Like what you see? Visit the ' +\n",
              "            '<a target=\"_blank\" href=https://colab.research.google.com/notebooks/data_table.ipynb>data table notebook</a>'\n",
              "            + ' to learn more about interactive tables.';\n",
              "          element.innerHTML = '';\n",
              "          dataTable['output_type'] = 'display_data';\n",
              "          await google.colab.output.renderOutput(dataTable, element);\n",
              "          const docLink = document.createElement('div');\n",
              "          docLink.innerHTML = docLinkHtml;\n",
              "          element.appendChild(docLink);\n",
              "        }\n",
              "      </script>\n",
              "    </div>\n",
              "  </div>\n",
              "  "
            ],
            "text/plain": [
              "   Year  Month  DayofMonth  ...  NASDelay  SecurityDelay  LateAircraftDelay\n",
              "0  2008      1           3  ...       NaN            NaN                NaN\n",
              "1  2008      1           3  ...       0.0            0.0               70.0\n",
              "2  2008      1           3  ...       NaN            NaN                NaN\n",
              "3  2008      1           3  ...       0.0            0.0               47.0\n",
              "4  2008      1           3  ...      15.0            0.0               27.0\n",
              "\n",
              "[5 rows x 29 columns]"
            ]
          },
          "metadata": {},
          "execution_count": 6
        }
      ]
    },
    {
      "cell_type": "code",
      "source": [
        "raw_pd.info()"
      ],
      "metadata": {
        "colab": {
          "base_uri": "https://localhost:8080/"
        },
        "id": "VolKWcAB0oNN",
        "outputId": "23ccfb33-e424-47d7-9f14-a65c576c9fd7"
      },
      "execution_count": 7,
      "outputs": [
        {
          "output_type": "stream",
          "name": "stdout",
          "text": [
            "<class 'pandas.core.frame.DataFrame'>\n",
            "RangeIndex: 70096 entries, 0 to 70095\n",
            "Data columns (total 29 columns):\n",
            " #   Column             Non-Null Count  Dtype  \n",
            "---  ------             --------------  -----  \n",
            " 0   Year               70096 non-null  int64  \n",
            " 1   Month              70096 non-null  int64  \n",
            " 2   DayofMonth         70096 non-null  int64  \n",
            " 3   DayOfWeek          70096 non-null  int64  \n",
            " 4   DepTime            68695 non-null  float64\n",
            " 5   CRSDepTime         70096 non-null  int64  \n",
            " 6   ArrTime            68547 non-null  float64\n",
            " 7   CRSArrTime         70096 non-null  int64  \n",
            " 8   UniqueCarrier      70096 non-null  object \n",
            " 9   FlightNum          70096 non-null  int64  \n",
            " 10  TailNum            69264 non-null  object \n",
            " 11  ActualElapsedTime  68519 non-null  float64\n",
            " 12  CRSElapsedTime     70084 non-null  float64\n",
            " 13  AirTime            68519 non-null  float64\n",
            " 14  ArrDelay           68519 non-null  float64\n",
            " 15  DepDelay           68695 non-null  float64\n",
            " 16  Origin             70096 non-null  object \n",
            " 17  Dest               70096 non-null  object \n",
            " 18  Distance           70096 non-null  int64  \n",
            " 19  TaxiIn             68547 non-null  float64\n",
            " 20  TaxiOut            68685 non-null  float64\n",
            " 21  Cancelled          70096 non-null  int64  \n",
            " 22  CancellationCode   1412 non-null   object \n",
            " 23  Diverted           70096 non-null  int64  \n",
            " 24  CarrierDelay       15286 non-null  float64\n",
            " 25  WeatherDelay       15286 non-null  float64\n",
            " 26  NASDelay           15286 non-null  float64\n",
            " 27  SecurityDelay      15286 non-null  float64\n",
            " 28  LateAircraftDelay  15286 non-null  float64\n",
            "dtypes: float64(14), int64(10), object(5)\n",
            "memory usage: 15.5+ MB\n"
          ]
        }
      ]
    },
    {
      "cell_type": "code",
      "source": [
        "def t_timeperiod(origin):\n",
        "    if origin is None:\n",
        "        period = None\n",
        "    elif origin > 0 and origin < 600:\n",
        "        period = '00.01-05.59'\n",
        "    elif origin >= 600 and origin <=1200:\n",
        "        period = '06.00-11.59'\n",
        "    elif origin >= 1200 and origin <= 1800:\n",
        "        period = '12.00-17.59'\n",
        "    elif origin >= 1800 and origin <= 2400:\n",
        "        period = '18.00-24.00'\n",
        "    else:\n",
        "        period = 'NA'\n",
        "    return period"
      ],
      "metadata": {
        "id": "NIAFGQAqYM0x"
      },
      "execution_count": 8,
      "outputs": []
    },
    {
      "cell_type": "code",
      "source": [
        "raw_pd['DepTime'] = raw_pd['DepTime'].apply(lambda x:t_timeperiod(x))"
      ],
      "metadata": {
        "id": "4ubIKjIqYMq4"
      },
      "execution_count": 9,
      "outputs": []
    },
    {
      "cell_type": "code",
      "source": [
        "max_distance = raw_pd['Distance'].max()\n",
        "min_distance = raw_pd['Distance'].min()"
      ],
      "metadata": {
        "id": "XWFRqqx0afjL"
      },
      "execution_count": 10,
      "outputs": []
    },
    {
      "cell_type": "code",
      "source": [
        "max_ArrDelay = raw_pd['ArrDelay'].max()\n",
        "min_ArrDelay = raw_pd['ArrDelay'].min()"
      ],
      "metadata": {
        "id": "kVNRRIILcDU7"
      },
      "execution_count": 11,
      "outputs": []
    },
    {
      "cell_type": "code",
      "source": [
        "def t_normalized_distance(origin):\n",
        "    if origin is None:\n",
        "        return None\n",
        "    else:\n",
        "        return ((origin-min_distance)/(max_distance-min_distance))"
      ],
      "metadata": {
        "id": "LhbmM1q2cDSE"
      },
      "execution_count": 12,
      "outputs": []
    },
    {
      "cell_type": "code",
      "source": [
        "def t_normalized_ArrDelay(origin):\n",
        "    if origin is None:\n",
        "        return None\n",
        "    else:\n",
        "        return ((origin-min_ArrDelay)/(max_ArrDelay-min_ArrDelay))"
      ],
      "metadata": {
        "id": "kij8fse_cDPO"
      },
      "execution_count": 13,
      "outputs": []
    },
    {
      "cell_type": "code",
      "source": [
        "raw_pd['Distance'] = raw_pd['Distance'].apply(lambda x:t_normalized_distance(x))"
      ],
      "metadata": {
        "id": "Zj2TrU6acDMV"
      },
      "execution_count": 14,
      "outputs": []
    },
    {
      "cell_type": "code",
      "source": [
        "raw_pd['ArrDelay'] = raw_pd['ArrDelay'].apply(lambda x:t_normalized_ArrDelay(x))"
      ],
      "metadata": {
        "id": "BHL5SbdEcDJv"
      },
      "execution_count": 15,
      "outputs": []
    },
    {
      "cell_type": "code",
      "source": [
        ""
      ],
      "metadata": {
        "id": "ujMCi9kCcDHI"
      },
      "execution_count": 15,
      "outputs": []
    },
    {
      "cell_type": "code",
      "source": [
        ""
      ],
      "metadata": {
        "id": "fQm_LajycDEA"
      },
      "execution_count": 15,
      "outputs": []
    },
    {
      "cell_type": "code",
      "source": [
        ""
      ],
      "metadata": {
        "id": "0U2pbBJgcDBa"
      },
      "execution_count": 15,
      "outputs": []
    },
    {
      "cell_type": "code",
      "source": [
        ""
      ],
      "metadata": {
        "id": "XPQyDdxicC-S"
      },
      "execution_count": 15,
      "outputs": []
    },
    {
      "cell_type": "code",
      "source": [
        ""
      ],
      "metadata": {
        "id": "CZzfwdCgcC7s"
      },
      "execution_count": 15,
      "outputs": []
    },
    {
      "cell_type": "code",
      "source": [
        ""
      ],
      "metadata": {
        "id": "GnYJSUARcCwg"
      },
      "execution_count": 15,
      "outputs": []
    },
    {
      "cell_type": "code",
      "source": [
        "features_pd = raw_pd[['UniqueCarrier','Origin','Dest',\\\n",
        "        'DepTime','TaxiOut','TaxiIn','DepDelay',\\\n",
        "        'DayOfWeek','Distance','ArrDelay']]"
      ],
      "metadata": {
        "id": "y46Ue7iZXb74"
      },
      "execution_count": 16,
      "outputs": []
    },
    {
      "cell_type": "code",
      "source": [
        "final_pd = features_pd.dropna()"
      ],
      "metadata": {
        "id": "wouBuA79Xb2Y"
      },
      "execution_count": 17,
      "outputs": []
    },
    {
      "cell_type": "code",
      "source": [
        "final_pd.count()"
      ],
      "metadata": {
        "id": "OvVzUT9OXbyv",
        "colab": {
          "base_uri": "https://localhost:8080/"
        },
        "outputId": "00ed6d56-be7b-4738-e7e9-f5a022e3ecdf"
      },
      "execution_count": 18,
      "outputs": [
        {
          "output_type": "execute_result",
          "data": {
            "text/plain": [
              "UniqueCarrier    68519\n",
              "Origin           68519\n",
              "Dest             68519\n",
              "DepTime          68519\n",
              "TaxiOut          68519\n",
              "TaxiIn           68519\n",
              "DepDelay         68519\n",
              "DayOfWeek        68519\n",
              "Distance         68519\n",
              "ArrDelay         68519\n",
              "dtype: int64"
            ]
          },
          "metadata": {},
          "execution_count": 18
        }
      ]
    },
    {
      "cell_type": "code",
      "source": [
        "features_pd.head(20)"
      ],
      "metadata": {
        "id": "TtkktQW2Xbv5",
        "colab": {
          "base_uri": "https://localhost:8080/",
          "height": 669
        },
        "outputId": "f833a454-6b5c-40d6-9ca0-170c8d8812fa"
      },
      "execution_count": 19,
      "outputs": [
        {
          "output_type": "execute_result",
          "data": {
            "text/html": [
              "\n",
              "  <div id=\"df-1319fb01-4dd0-48dc-b553-4140609d5017\">\n",
              "    <div class=\"colab-df-container\">\n",
              "      <div>\n",
              "<style scoped>\n",
              "    .dataframe tbody tr th:only-of-type {\n",
              "        vertical-align: middle;\n",
              "    }\n",
              "\n",
              "    .dataframe tbody tr th {\n",
              "        vertical-align: top;\n",
              "    }\n",
              "\n",
              "    .dataframe thead th {\n",
              "        text-align: right;\n",
              "    }\n",
              "</style>\n",
              "<table border=\"1\" class=\"dataframe\">\n",
              "  <thead>\n",
              "    <tr style=\"text-align: right;\">\n",
              "      <th></th>\n",
              "      <th>UniqueCarrier</th>\n",
              "      <th>Origin</th>\n",
              "      <th>Dest</th>\n",
              "      <th>DepTime</th>\n",
              "      <th>TaxiOut</th>\n",
              "      <th>TaxiIn</th>\n",
              "      <th>DepDelay</th>\n",
              "      <th>DayOfWeek</th>\n",
              "      <th>Distance</th>\n",
              "      <th>ArrDelay</th>\n",
              "    </tr>\n",
              "  </thead>\n",
              "  <tbody>\n",
              "    <tr>\n",
              "      <th>0</th>\n",
              "      <td>WN</td>\n",
              "      <td>IND</td>\n",
              "      <td>MCI</td>\n",
              "      <td>06.00-11.59</td>\n",
              "      <td>19.0</td>\n",
              "      <td>6.0</td>\n",
              "      <td>2.0</td>\n",
              "      <td>4</td>\n",
              "      <td>0.085175</td>\n",
              "      <td>0.084222</td>\n",
              "    </tr>\n",
              "    <tr>\n",
              "      <th>1</th>\n",
              "      <td>WN</td>\n",
              "      <td>LAS</td>\n",
              "      <td>ABQ</td>\n",
              "      <td>18.00-24.00</td>\n",
              "      <td>10.0</td>\n",
              "      <td>4.0</td>\n",
              "      <td>83.0</td>\n",
              "      <td>4</td>\n",
              "      <td>0.092476</td>\n",
              "      <td>0.164179</td>\n",
              "    </tr>\n",
              "    <tr>\n",
              "      <th>2</th>\n",
              "      <td>WN</td>\n",
              "      <td>LAS</td>\n",
              "      <td>MDW</td>\n",
              "      <td>06.00-11.59</td>\n",
              "      <td>16.0</td>\n",
              "      <td>6.0</td>\n",
              "      <td>-1.0</td>\n",
              "      <td>4</td>\n",
              "      <td>0.302170</td>\n",
              "      <td>0.069296</td>\n",
              "    </tr>\n",
              "    <tr>\n",
              "      <th>3</th>\n",
              "      <td>WN</td>\n",
              "      <td>LAX</td>\n",
              "      <td>LAS</td>\n",
              "      <td>18.00-24.00</td>\n",
              "      <td>8.0</td>\n",
              "      <td>3.0</td>\n",
              "      <td>57.0</td>\n",
              "      <td>4</td>\n",
              "      <td>0.041574</td>\n",
              "      <td>0.135394</td>\n",
              "    </tr>\n",
              "    <tr>\n",
              "      <th>4</th>\n",
              "      <td>WN</td>\n",
              "      <td>LAX</td>\n",
              "      <td>OAK</td>\n",
              "      <td>18.00-24.00</td>\n",
              "      <td>18.0</td>\n",
              "      <td>5.0</td>\n",
              "      <td>33.0</td>\n",
              "      <td>4</td>\n",
              "      <td>0.062056</td>\n",
              "      <td>0.133262</td>\n",
              "    </tr>\n",
              "    <tr>\n",
              "      <th>5</th>\n",
              "      <td>WN</td>\n",
              "      <td>MCO</td>\n",
              "      <td>BDL</td>\n",
              "      <td>12.00-17.59</td>\n",
              "      <td>9.0</td>\n",
              "      <td>4.0</td>\n",
              "      <td>3.0</td>\n",
              "      <td>4</td>\n",
              "      <td>0.206652</td>\n",
              "      <td>0.091684</td>\n",
              "    </tr>\n",
              "    <tr>\n",
              "      <th>6</th>\n",
              "      <td>WN</td>\n",
              "      <td>MDW</td>\n",
              "      <td>CLE</td>\n",
              "      <td>18.00-24.00</td>\n",
              "      <td>9.0</td>\n",
              "      <td>6.0</td>\n",
              "      <td>69.0</td>\n",
              "      <td>4</td>\n",
              "      <td>0.055972</td>\n",
              "      <td>0.153518</td>\n",
              "    </tr>\n",
              "    <tr>\n",
              "      <th>7</th>\n",
              "      <td>WN</td>\n",
              "      <td>MSY</td>\n",
              "      <td>BNA</td>\n",
              "      <td>06.00-11.59</td>\n",
              "      <td>8.0</td>\n",
              "      <td>6.0</td>\n",
              "      <td>0.0</td>\n",
              "      <td>4</td>\n",
              "      <td>0.089231</td>\n",
              "      <td>0.089552</td>\n",
              "    </tr>\n",
              "    <tr>\n",
              "      <th>8</th>\n",
              "      <td>WN</td>\n",
              "      <td>OKC</td>\n",
              "      <td>DEN</td>\n",
              "      <td>06.00-11.59</td>\n",
              "      <td>8.0</td>\n",
              "      <td>5.0</td>\n",
              "      <td>-2.0</td>\n",
              "      <td>4</td>\n",
              "      <td>0.094099</td>\n",
              "      <td>0.073561</td>\n",
              "    </tr>\n",
              "    <tr>\n",
              "      <th>9</th>\n",
              "      <td>WN</td>\n",
              "      <td>OMA</td>\n",
              "      <td>MDW</td>\n",
              "      <td>12.00-17.59</td>\n",
              "      <td>8.0</td>\n",
              "      <td>4.0</td>\n",
              "      <td>108.0</td>\n",
              "      <td>4</td>\n",
              "      <td>0.079497</td>\n",
              "      <td>0.191898</td>\n",
              "    </tr>\n",
              "    <tr>\n",
              "      <th>10</th>\n",
              "      <td>WN</td>\n",
              "      <td>PHX</td>\n",
              "      <td>MDW</td>\n",
              "      <td>12.00-17.59</td>\n",
              "      <td>11.0</td>\n",
              "      <td>5.0</td>\n",
              "      <td>31.0</td>\n",
              "      <td>4</td>\n",
              "      <td>0.286554</td>\n",
              "      <td>0.093817</td>\n",
              "    </tr>\n",
              "    <tr>\n",
              "      <th>11</th>\n",
              "      <td>WN</td>\n",
              "      <td>PHX</td>\n",
              "      <td>ONT</td>\n",
              "      <td>06.00-11.59</td>\n",
              "      <td>14.0</td>\n",
              "      <td>5.0</td>\n",
              "      <td>11.0</td>\n",
              "      <td>4</td>\n",
              "      <td>0.059623</td>\n",
              "      <td>0.085288</td>\n",
              "    </tr>\n",
              "    <tr>\n",
              "      <th>12</th>\n",
              "      <td>WN</td>\n",
              "      <td>PHX</td>\n",
              "      <td>SNA</td>\n",
              "      <td>06.00-11.59</td>\n",
              "      <td>26.0</td>\n",
              "      <td>10.0</td>\n",
              "      <td>13.0</td>\n",
              "      <td>4</td>\n",
              "      <td>0.062259</td>\n",
              "      <td>0.110874</td>\n",
              "    </tr>\n",
              "    <tr>\n",
              "      <th>13</th>\n",
              "      <td>WN</td>\n",
              "      <td>SEA</td>\n",
              "      <td>GEG</td>\n",
              "      <td>06.00-11.59</td>\n",
              "      <td>23.0</td>\n",
              "      <td>3.0</td>\n",
              "      <td>-2.0</td>\n",
              "      <td>4</td>\n",
              "      <td>0.039140</td>\n",
              "      <td>0.086354</td>\n",
              "    </tr>\n",
              "    <tr>\n",
              "      <th>14</th>\n",
              "      <td>WN</td>\n",
              "      <td>SJC</td>\n",
              "      <td>BUR</td>\n",
              "      <td>06.00-11.59</td>\n",
              "      <td>6.0</td>\n",
              "      <td>2.0</td>\n",
              "      <td>1.0</td>\n",
              "      <td>4</td>\n",
              "      <td>0.053742</td>\n",
              "      <td>0.076759</td>\n",
              "    </tr>\n",
              "    <tr>\n",
              "      <th>15</th>\n",
              "      <td>WN</td>\n",
              "      <td>SLC</td>\n",
              "      <td>DEN</td>\n",
              "      <td>18.00-24.00</td>\n",
              "      <td>13.0</td>\n",
              "      <td>6.0</td>\n",
              "      <td>24.0</td>\n",
              "      <td>4</td>\n",
              "      <td>0.073008</td>\n",
              "      <td>0.097015</td>\n",
              "    </tr>\n",
              "    <tr>\n",
              "      <th>16</th>\n",
              "      <td>WN</td>\n",
              "      <td>SMF</td>\n",
              "      <td>LAS</td>\n",
              "      <td>18.00-24.00</td>\n",
              "      <td>7.0</td>\n",
              "      <td>3.0</td>\n",
              "      <td>22.0</td>\n",
              "      <td>4</td>\n",
              "      <td>0.074224</td>\n",
              "      <td>0.100213</td>\n",
              "    </tr>\n",
              "    <tr>\n",
              "      <th>17</th>\n",
              "      <td>WN</td>\n",
              "      <td>SMF</td>\n",
              "      <td>SNA</td>\n",
              "      <td>06.00-11.59</td>\n",
              "      <td>6.0</td>\n",
              "      <td>3.0</td>\n",
              "      <td>-3.0</td>\n",
              "      <td>4</td>\n",
              "      <td>0.075644</td>\n",
              "      <td>0.071429</td>\n",
              "    </tr>\n",
              "    <tr>\n",
              "      <th>18</th>\n",
              "      <td>WN</td>\n",
              "      <td>STL</td>\n",
              "      <td>PHX</td>\n",
              "      <td>18.00-24.00</td>\n",
              "      <td>16.0</td>\n",
              "      <td>7.0</td>\n",
              "      <td>18.0</td>\n",
              "      <td>4</td>\n",
              "      <td>0.249645</td>\n",
              "      <td>0.114072</td>\n",
              "    </tr>\n",
              "    <tr>\n",
              "      <th>19</th>\n",
              "      <td>WN</td>\n",
              "      <td>STL</td>\n",
              "      <td>TUL</td>\n",
              "      <td>06.00-11.59</td>\n",
              "      <td>8.0</td>\n",
              "      <td>3.0</td>\n",
              "      <td>-3.0</td>\n",
              "      <td>4</td>\n",
              "      <td>0.064896</td>\n",
              "      <td>0.072495</td>\n",
              "    </tr>\n",
              "  </tbody>\n",
              "</table>\n",
              "</div>\n",
              "      <button class=\"colab-df-convert\" onclick=\"convertToInteractive('df-1319fb01-4dd0-48dc-b553-4140609d5017')\"\n",
              "              title=\"Convert this dataframe to an interactive table.\"\n",
              "              style=\"display:none;\">\n",
              "        \n",
              "  <svg xmlns=\"http://www.w3.org/2000/svg\" height=\"24px\"viewBox=\"0 0 24 24\"\n",
              "       width=\"24px\">\n",
              "    <path d=\"M0 0h24v24H0V0z\" fill=\"none\"/>\n",
              "    <path d=\"M18.56 5.44l.94 2.06.94-2.06 2.06-.94-2.06-.94-.94-2.06-.94 2.06-2.06.94zm-11 1L8.5 8.5l.94-2.06 2.06-.94-2.06-.94L8.5 2.5l-.94 2.06-2.06.94zm10 10l.94 2.06.94-2.06 2.06-.94-2.06-.94-.94-2.06-.94 2.06-2.06.94z\"/><path d=\"M17.41 7.96l-1.37-1.37c-.4-.4-.92-.59-1.43-.59-.52 0-1.04.2-1.43.59L10.3 9.45l-7.72 7.72c-.78.78-.78 2.05 0 2.83L4 21.41c.39.39.9.59 1.41.59.51 0 1.02-.2 1.41-.59l7.78-7.78 2.81-2.81c.8-.78.8-2.07 0-2.86zM5.41 20L4 18.59l7.72-7.72 1.47 1.35L5.41 20z\"/>\n",
              "  </svg>\n",
              "      </button>\n",
              "      \n",
              "  <style>\n",
              "    .colab-df-container {\n",
              "      display:flex;\n",
              "      flex-wrap:wrap;\n",
              "      gap: 12px;\n",
              "    }\n",
              "\n",
              "    .colab-df-convert {\n",
              "      background-color: #E8F0FE;\n",
              "      border: none;\n",
              "      border-radius: 50%;\n",
              "      cursor: pointer;\n",
              "      display: none;\n",
              "      fill: #1967D2;\n",
              "      height: 32px;\n",
              "      padding: 0 0 0 0;\n",
              "      width: 32px;\n",
              "    }\n",
              "\n",
              "    .colab-df-convert:hover {\n",
              "      background-color: #E2EBFA;\n",
              "      box-shadow: 0px 1px 2px rgba(60, 64, 67, 0.3), 0px 1px 3px 1px rgba(60, 64, 67, 0.15);\n",
              "      fill: #174EA6;\n",
              "    }\n",
              "\n",
              "    [theme=dark] .colab-df-convert {\n",
              "      background-color: #3B4455;\n",
              "      fill: #D2E3FC;\n",
              "    }\n",
              "\n",
              "    [theme=dark] .colab-df-convert:hover {\n",
              "      background-color: #434B5C;\n",
              "      box-shadow: 0px 1px 3px 1px rgba(0, 0, 0, 0.15);\n",
              "      filter: drop-shadow(0px 1px 2px rgba(0, 0, 0, 0.3));\n",
              "      fill: #FFFFFF;\n",
              "    }\n",
              "  </style>\n",
              "\n",
              "      <script>\n",
              "        const buttonEl =\n",
              "          document.querySelector('#df-1319fb01-4dd0-48dc-b553-4140609d5017 button.colab-df-convert');\n",
              "        buttonEl.style.display =\n",
              "          google.colab.kernel.accessAllowed ? 'block' : 'none';\n",
              "\n",
              "        async function convertToInteractive(key) {\n",
              "          const element = document.querySelector('#df-1319fb01-4dd0-48dc-b553-4140609d5017');\n",
              "          const dataTable =\n",
              "            await google.colab.kernel.invokeFunction('convertToInteractive',\n",
              "                                                     [key], {});\n",
              "          if (!dataTable) return;\n",
              "\n",
              "          const docLinkHtml = 'Like what you see? Visit the ' +\n",
              "            '<a target=\"_blank\" href=https://colab.research.google.com/notebooks/data_table.ipynb>data table notebook</a>'\n",
              "            + ' to learn more about interactive tables.';\n",
              "          element.innerHTML = '';\n",
              "          dataTable['output_type'] = 'display_data';\n",
              "          await google.colab.output.renderOutput(dataTable, element);\n",
              "          const docLink = document.createElement('div');\n",
              "          docLink.innerHTML = docLinkHtml;\n",
              "          element.appendChild(docLink);\n",
              "        }\n",
              "      </script>\n",
              "    </div>\n",
              "  </div>\n",
              "  "
            ],
            "text/plain": [
              "   UniqueCarrier Origin Dest  ... DayOfWeek  Distance  ArrDelay\n",
              "0             WN    IND  MCI  ...         4  0.085175  0.084222\n",
              "1             WN    LAS  ABQ  ...         4  0.092476  0.164179\n",
              "2             WN    LAS  MDW  ...         4  0.302170  0.069296\n",
              "3             WN    LAX  LAS  ...         4  0.041574  0.135394\n",
              "4             WN    LAX  OAK  ...         4  0.062056  0.133262\n",
              "5             WN    MCO  BDL  ...         4  0.206652  0.091684\n",
              "6             WN    MDW  CLE  ...         4  0.055972  0.153518\n",
              "7             WN    MSY  BNA  ...         4  0.089231  0.089552\n",
              "8             WN    OKC  DEN  ...         4  0.094099  0.073561\n",
              "9             WN    OMA  MDW  ...         4  0.079497  0.191898\n",
              "10            WN    PHX  MDW  ...         4  0.286554  0.093817\n",
              "11            WN    PHX  ONT  ...         4  0.059623  0.085288\n",
              "12            WN    PHX  SNA  ...         4  0.062259  0.110874\n",
              "13            WN    SEA  GEG  ...         4  0.039140  0.086354\n",
              "14            WN    SJC  BUR  ...         4  0.053742  0.076759\n",
              "15            WN    SLC  DEN  ...         4  0.073008  0.097015\n",
              "16            WN    SMF  LAS  ...         4  0.074224  0.100213\n",
              "17            WN    SMF  SNA  ...         4  0.075644  0.071429\n",
              "18            WN    STL  PHX  ...         4  0.249645  0.114072\n",
              "19            WN    STL  TUL  ...         4  0.064896  0.072495\n",
              "\n",
              "[20 rows x 10 columns]"
            ]
          },
          "metadata": {},
          "execution_count": 19
        }
      ]
    },
    {
      "cell_type": "code",
      "source": [
        "\n",
        "\n",
        "#raw_pd.isnull().sum()\n",
        "#nullCol_series = raw_pd.isnull().sum()\n",
        "#notNull_list = list(nullCol_series[nullCol_series == 0].index)\n",
        "#notNull_list\n",
        "#requiredCol_list = ['TaxiIn','TaxiOut','ArrDelay']\n",
        "#selectedCol_list = notNull_list + requiredCol_list\n",
        "#noNull_pd = raw_pd.loc[:,selectedCol_list].dropna()\n",
        "#noNull_pd.isnull().sum()\n",
        "#noNull_pd.describe()\n",
        "#noNull_pd.info()"
      ],
      "metadata": {
        "id": "E7-RH6rdXbnS"
      },
      "execution_count": 20,
      "outputs": []
    },
    {
      "cell_type": "code",
      "source": [
        "#final_pd = noNull_pd"
      ],
      "metadata": {
        "id": "AaSTMmwxTFRl"
      },
      "execution_count": 21,
      "outputs": []
    },
    {
      "cell_type": "code",
      "source": [
        "import pandas as pd\n",
        "from seaborn import load_dataset\n",
        "import numpy as np\n",
        "\n",
        "from sklearn.model_selection import train_test_split\n",
        "from sklearn.base import BaseEstimator, TransformerMixin\n",
        "from sklearn.preprocessing import OneHotEncoder, MinMaxScaler\n",
        "from sklearn.impute import SimpleImputer\n",
        "from sklearn.pipeline import Pipeline, FeatureUnion\n",
        "from sklearn.compose import ColumnTransformer\n",
        "from sklearn.linear_model import LinearRegression"
      ],
      "metadata": {
        "id": "sC1Yq7VPSo3H"
      },
      "execution_count": 22,
      "outputs": []
    },
    {
      "cell_type": "code",
      "source": [
        "train_df = final_pd.sample(frac=0.8,random_state=123)"
      ],
      "metadata": {
        "id": "7-3UT4nJS_Zr"
      },
      "execution_count": 23,
      "outputs": []
    },
    {
      "cell_type": "code",
      "source": [
        "test_df = final_pd.drop(train_df.index)"
      ],
      "metadata": {
        "id": "S2Q1qB6ITRfU"
      },
      "execution_count": 24,
      "outputs": []
    },
    {
      "cell_type": "code",
      "source": [
        "train_df.count()"
      ],
      "metadata": {
        "colab": {
          "base_uri": "https://localhost:8080/"
        },
        "id": "hwrZxWwzTWjc",
        "outputId": "a16e3589-596f-420b-c78c-8c0d838baf70"
      },
      "execution_count": 25,
      "outputs": [
        {
          "output_type": "execute_result",
          "data": {
            "text/plain": [
              "UniqueCarrier    54815\n",
              "Origin           54815\n",
              "Dest             54815\n",
              "DepTime          54815\n",
              "TaxiOut          54815\n",
              "TaxiIn           54815\n",
              "DepDelay         54815\n",
              "DayOfWeek        54815\n",
              "Distance         54815\n",
              "ArrDelay         54815\n",
              "dtype: int64"
            ]
          },
          "metadata": {},
          "execution_count": 25
        }
      ]
    },
    {
      "cell_type": "code",
      "source": [
        "test_df.count()"
      ],
      "metadata": {
        "colab": {
          "base_uri": "https://localhost:8080/"
        },
        "id": "LPwBx3n9TZyz",
        "outputId": "77adea4d-d472-498a-bd18-534fc6fe1961"
      },
      "execution_count": 26,
      "outputs": [
        {
          "output_type": "execute_result",
          "data": {
            "text/plain": [
              "UniqueCarrier    13704\n",
              "Origin           13704\n",
              "Dest             13704\n",
              "DepTime          13704\n",
              "TaxiOut          13704\n",
              "TaxiIn           13704\n",
              "DepDelay         13704\n",
              "DayOfWeek        13704\n",
              "Distance         13704\n",
              "ArrDelay         13704\n",
              "dtype: int64"
            ]
          },
          "metadata": {},
          "execution_count": 26
        }
      ]
    },
    {
      "cell_type": "code",
      "source": [
        "train_labels = train_df.filter(['ArrDelay'])\n",
        "train_df = train_df.loc[:, train_df.columns != 'ArrDelay']"
      ],
      "metadata": {
        "id": "p5EFPeS0Tb5_"
      },
      "execution_count": 27,
      "outputs": []
    },
    {
      "cell_type": "code",
      "source": [
        "type(train_labels)"
      ],
      "metadata": {
        "colab": {
          "base_uri": "https://localhost:8080/"
        },
        "id": "k97_KQlBUYME",
        "outputId": "64477bbe-3a70-40e0-aba3-61687ad75cea"
      },
      "execution_count": 28,
      "outputs": [
        {
          "output_type": "execute_result",
          "data": {
            "text/plain": [
              "pandas.core.frame.DataFrame"
            ]
          },
          "metadata": {},
          "execution_count": 28
        }
      ]
    },
    {
      "cell_type": "code",
      "source": [
        "test_labels = test_df.filter(['ArrDelay'])\n",
        "test_df = test_df.loc[:, test_df.columns != 'ArrDelay']"
      ],
      "metadata": {
        "id": "5T_HfZrWUaj3"
      },
      "execution_count": 29,
      "outputs": []
    },
    {
      "cell_type": "code",
      "source": [
        "X_train = train_df\n",
        "X_test = test_df\n",
        "y_train = train_labels\n",
        "y_test = test_labels"
      ],
      "metadata": {
        "id": "MQSm_cPWUqfJ"
      },
      "execution_count": 30,
      "outputs": []
    },
    {
      "cell_type": "code",
      "source": [
        "categorical = list(X_train.select_dtypes('object').columns)\n",
        "print(f\"Categorical columns are: {categorical}\")\n",
        "\n",
        "numerical = list(X_train.select_dtypes('number').columns)\n",
        "print(f\"Numerical columns are: {numerical}\")"
      ],
      "metadata": {
        "colab": {
          "base_uri": "https://localhost:8080/"
        },
        "id": "v_31Pv9oVQbm",
        "outputId": "444f2260-2cd3-4a3b-b1e2-2c0191ad0e3e"
      },
      "execution_count": 31,
      "outputs": [
        {
          "output_type": "stream",
          "name": "stdout",
          "text": [
            "Categorical columns are: ['UniqueCarrier', 'Origin', 'Dest', 'DepTime']\n",
            "Numerical columns are: ['TaxiOut', 'TaxiIn', 'DepDelay', 'DayOfWeek', 'Distance']\n"
          ]
        }
      ]
    },
    {
      "cell_type": "code",
      "source": [
        ""
      ],
      "metadata": {
        "id": "7rD4_wbdWp9x"
      },
      "execution_count": 31,
      "outputs": []
    },
    {
      "cell_type": "code",
      "source": [
        "from sklearn.tree import DecisionTreeClassifier, export_graphviz, DecisionTreeRegressor\n",
        "from sklearn import tree\n",
        "from sklearn.datasets import load_wine\n",
        "from sklearn.model_selection import train_test_split\n",
        "from sklearn import metrics"
      ],
      "metadata": {
        "id": "-B9QcYVMWqc1"
      },
      "execution_count": 32,
      "outputs": []
    },
    {
      "cell_type": "code",
      "source": [
        "# Define custom transformer\n",
        "class ColumnSelector(BaseEstimator, TransformerMixin):\n",
        "    \"\"\"Select only specified columns.\"\"\"\n",
        "    def __init__(self, columns):\n",
        "        self.columns = columns\n",
        "        \n",
        "    def fit(self, X, y=None):\n",
        "        return self\n",
        "    \n",
        "    def transform(self, X):\n",
        "        return X[self.columns]\n",
        "\n",
        "# Define categorical pipeline\n",
        "cat_pipe = Pipeline([('selector', ColumnSelector(categorical)),\n",
        "                     ('imputer', SimpleImputer(strategy='constant', fill_value='missing')),\n",
        "                     ('encoder', OneHotEncoder(handle_unknown='ignore', sparse=False))])\n",
        "\n",
        "# Define numerical pipeline\n",
        "num_pipe = Pipeline([('selector', ColumnSelector(numerical))\n",
        "                     #('imputer', SimpleImputer(strategy='median')),\n",
        "                     #('scaler', MinMaxScaler())\n",
        "                    ])\n",
        "\n",
        "# Combine categorical and numerical pipeline\n",
        "preprocessor = FeatureUnion(transformer_list=[('cat', cat_pipe),\n",
        "                                              ('num', num_pipe)])\n",
        "\n",
        "# Model Training\n",
        "pipe = Pipeline(steps=[('preprocessor', preprocessor),\n",
        "              ('model', DecisionTreeRegressor(max_depth=None))])\n",
        "pipeline_model = pipe.fit(X_train, y_train)"
      ],
      "metadata": {
        "id": "V0bGO402WyZl"
      },
      "execution_count": 33,
      "outputs": []
    },
    {
      "cell_type": "code",
      "source": [
        "from sklearn.metrics import explained_variance_score\n",
        "from sklearn.metrics import mean_squared_error\n",
        "from sklearn.metrics import r2_score\n",
        "\n",
        "predictions = pipeline_model.predict(X_test)\n",
        "print(\"\\t RMSE:\", mean_squared_error(y_test, predictions, squared=False))\n",
        "print(\"\\t R2 score:\", r2_score(y_test, predictions))"
      ],
      "metadata": {
        "colab": {
          "base_uri": "https://localhost:8080/"
        },
        "id": "-8N8WTs_jNpE",
        "outputId": "db8d039e-4a1a-4f6d-bf41-4e28a55c548c"
      },
      "execution_count": 34,
      "outputs": [
        {
          "output_type": "stream",
          "name": "stdout",
          "text": [
            "\t RMSE: 0.013844536347814426\n",
            "\t R2 score: 0.8741306473632185\n"
          ]
        }
      ]
    },
    {
      "cell_type": "code",
      "source": [
        ""
      ],
      "metadata": {
        "id": "qsFktFncjNlN"
      },
      "execution_count": 34,
      "outputs": []
    },
    {
      "cell_type": "code",
      "source": [
        ""
      ],
      "metadata": {
        "id": "lLVWQI5ejNhQ"
      },
      "execution_count": 34,
      "outputs": []
    },
    {
      "cell_type": "code",
      "source": [
        ""
      ],
      "metadata": {
        "id": "KUEE6tmojNda"
      },
      "execution_count": 34,
      "outputs": []
    },
    {
      "cell_type": "code",
      "source": [
        ""
      ],
      "metadata": {
        "id": "vHWG30-CjNZd"
      },
      "execution_count": 34,
      "outputs": []
    },
    {
      "cell_type": "code",
      "source": [
        ""
      ],
      "metadata": {
        "id": "z_WH-KXojNVu"
      },
      "execution_count": 34,
      "outputs": []
    },
    {
      "cell_type": "code",
      "source": [
        ""
      ],
      "metadata": {
        "id": "Rb4rcooHjNSV"
      },
      "execution_count": 34,
      "outputs": []
    },
    {
      "cell_type": "code",
      "source": [
        ""
      ],
      "metadata": {
        "id": "Lqkn0yLVjNK9"
      },
      "execution_count": 34,
      "outputs": []
    },
    {
      "cell_type": "code",
      "source": [
        ""
      ],
      "metadata": {
        "id": "pdQ7uJm1jM35"
      },
      "execution_count": 34,
      "outputs": []
    }
  ]
}