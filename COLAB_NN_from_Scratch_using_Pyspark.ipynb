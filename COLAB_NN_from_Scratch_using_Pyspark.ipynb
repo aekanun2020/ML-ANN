{
  "nbformat": 4,
  "nbformat_minor": 0,
  "metadata": {
    "kernelspec": {
      "display_name": "Python 3",
      "language": "python",
      "name": "python3"
    },
    "language_info": {
      "codemirror_mode": {
        "name": "ipython",
        "version": 3
      },
      "file_extension": ".py",
      "mimetype": "text/x-python",
      "name": "python",
      "nbconvert_exporter": "python",
      "pygments_lexer": "ipython3",
      "version": "3.6.1"
    },
    "colab": {
      "name": "COLAB-NN_from_Scratch_using_Pyspark.ipynb",
      "provenance": [],
      "collapsed_sections": [
        "EQ2QjE8pa2K4",
        "NCd1UwPfa2LB"
      ]
    }
  },
  "cells": [
    {
      "cell_type": "code",
      "metadata": {
        "id": "0dTkA-bDa5bm"
      },
      "source": [
        "!apt-get install openjdk-8-jdk-headless -qq > /dev/null\n",
        "!wget -q https://archive.apache.org/dist/spark/spark-2.4.1/spark-2.4.1-bin-hadoop2.7.tgz\n",
        "!tar xf spark-2.4.1-bin-hadoop2.7.tgz\n",
        "!pip install -q findspark"
      ],
      "execution_count": 60,
      "outputs": []
    },
    {
      "cell_type": "code",
      "metadata": {
        "id": "cy4_WOqEa5GJ"
      },
      "source": [
        "import os\n",
        "os.environ[\"JAVA_HOME\"] = \"/usr/lib/jvm/java-8-openjdk-amd64\"\n",
        "os.environ[\"SPARK_HOME\"] = \"/content/spark-2.4.1-bin-hadoop2.7\""
      ],
      "execution_count": 61,
      "outputs": []
    },
    {
      "cell_type": "code",
      "metadata": {
        "id": "kI7zVpqja4du"
      },
      "source": [
        "import findspark\n",
        "findspark.init()\n",
        "from pyspark.sql import SparkSession\n",
        "spark = SparkSession.builder.master(\"local[*]\").getOrCreate()"
      ],
      "execution_count": 62,
      "outputs": []
    },
    {
      "cell_type": "code",
      "metadata": {
        "collapsed": true,
        "id": "gLOiqgf1a2Ku"
      },
      "source": [
        "from pyspark.sql import SparkSession"
      ],
      "execution_count": 63,
      "outputs": []
    },
    {
      "cell_type": "code",
      "metadata": {
        "collapsed": true,
        "id": "GBqMbCCxa2Kv"
      },
      "source": [
        "spark = SparkSession.builder \\\n",
        "   .appName(\"Neural Network Model\") \\\n",
        "   .config(\"spark.executor.memory\", \"3gb\") \\\n",
        "   .getOrCreate()\n",
        "   \n",
        "sc = spark.sparkContext"
      ],
      "execution_count": 64,
      "outputs": []
    },
    {
      "cell_type": "code",
      "metadata": {
        "id": "MjoDgjaja2Kv",
        "colab": {
          "base_uri": "https://localhost:8080/",
          "height": 193
        },
        "outputId": "3ef11e31-bc40-415e-b00d-c349422ebd68"
      },
      "source": [
        "sc"
      ],
      "execution_count": 65,
      "outputs": [
        {
          "output_type": "execute_result",
          "data": {
            "text/html": [
              "\n",
              "        <div>\n",
              "            <p><b>SparkContext</b></p>\n",
              "\n",
              "            <p><a href=\"http://a055ff4e2731:4040\">Spark UI</a></p>\n",
              "\n",
              "            <dl>\n",
              "              <dt>Version</dt>\n",
              "                <dd><code>v2.4.1</code></dd>\n",
              "              <dt>Master</dt>\n",
              "                <dd><code>local[*]</code></dd>\n",
              "              <dt>AppName</dt>\n",
              "                <dd><code>pyspark-shell</code></dd>\n",
              "            </dl>\n",
              "        </div>\n",
              "        "
            ],
            "text/plain": [
              "<SparkContext master=local[*] appName=pyspark-shell>"
            ]
          },
          "metadata": {
            "tags": []
          },
          "execution_count": 65
        }
      ]
    },
    {
      "cell_type": "markdown",
      "metadata": {
        "id": "ny9-KLrFa2Kw"
      },
      "source": [
        "### DataFrame - Generating a dataset"
      ]
    },
    {
      "cell_type": "code",
      "metadata": {
        "collapsed": true,
        "id": "AW9nbKd9a2Kw"
      },
      "source": [
        "raw_df = spark.createDataFrame([('Male', 67, 150), # insert column values\n",
        "                            ('Female', 65, 135),\n",
        "                            ('Female', 68, 130),\n",
        "                            ('Male', 70, 160),\n",
        "                            ('Female', 70, 130),\n",
        "                            ('Male', 69, 174),\n",
        "                            ('Female', 65, 126),\n",
        "                            ('Male', 74, 188),\n",
        "                            ('Female', 60, 110),\n",
        "                            ('Female', 63, 125),\n",
        "                            ('Male', 70, 173),\n",
        "                            ('Male', 70, 145),\n",
        "                            ('Male', 68, 175),\n",
        "                            ('Female', 65, 123),\n",
        "                            ('Male', 71, 145),\n",
        "                            ('Male', 74, 160),\n",
        "                            ('Female', 64, 135),\n",
        "                            ('Male', 71, 175),\n",
        "                            ('Male', 67, 145),\n",
        "                            ('Female', 67, 130),\n",
        "                            ('Male', 70, 162),\n",
        "                            ('Female', 64, 107),\n",
        "                            ('Male', 70, 175),\n",
        "                            ('Female', 64, 130),\n",
        "                            ('Male', 66, 163),\n",
        "                            ('Female', 63, 137),\n",
        "                            ('Male', 65, 165),\n",
        "                            ('Female', 65, 130),\n",
        "                            ('Female', 64, 109)], \n",
        "                           ['gender', 'height','weight']) # insert header values"
      ],
      "execution_count": 66,
      "outputs": []
    },
    {
      "cell_type": "code",
      "metadata": {
        "id": "9UmmZAB_a2Kx",
        "colab": {
          "base_uri": "https://localhost:8080/"
        },
        "outputId": "6fbf5632-01b0-4509-a519-123b5ec3e4c6"
      },
      "source": [
        "raw_df.show(5)"
      ],
      "execution_count": 67,
      "outputs": [
        {
          "output_type": "stream",
          "text": [
            "+------+------+------+\n",
            "|gender|height|weight|\n",
            "+------+------+------+\n",
            "|  Male|    67|   150|\n",
            "|Female|    65|   135|\n",
            "|Female|    68|   130|\n",
            "|  Male|    70|   160|\n",
            "|Female|    70|   130|\n",
            "+------+------+------+\n",
            "only showing top 5 rows\n",
            "\n"
          ],
          "name": "stdout"
        }
      ]
    },
    {
      "cell_type": "markdown",
      "metadata": {
        "id": "fO87R5dGa2Kx"
      },
      "source": [
        "### DataFrame - Converting categorical values to numerical ones"
      ]
    },
    {
      "cell_type": "code",
      "metadata": {
        "collapsed": true,
        "id": "hFwhMn9Ma2Ky"
      },
      "source": [
        "from pyspark.sql import functions"
      ],
      "execution_count": 68,
      "outputs": []
    },
    {
      "cell_type": "code",
      "metadata": {
        "collapsed": true,
        "id": "nBKyVW6ga2Ky"
      },
      "source": [
        "numerical_df = raw_df.withColumn('gender',\\\n",
        "                                 functions.when(raw_df['gender']=='Female',0).\\\n",
        "                                 otherwise(1))"
      ],
      "execution_count": 69,
      "outputs": []
    },
    {
      "cell_type": "markdown",
      "metadata": {
        "id": "bjosWphAa2Ky"
      },
      "source": [
        "### DataFrame -  Sorting columns"
      ]
    },
    {
      "cell_type": "code",
      "metadata": {
        "collapsed": true,
        "id": "Q-SsIK8va2Ky"
      },
      "source": [
        "orderedcolumns_df = numerical_df.select('height', 'weight', 'gender')"
      ],
      "execution_count": 70,
      "outputs": []
    },
    {
      "cell_type": "code",
      "metadata": {
        "id": "V1nOxPSVa2Kz",
        "colab": {
          "base_uri": "https://localhost:8080/"
        },
        "outputId": "84823855-800e-49df-9adf-c1a945659776"
      },
      "source": [
        "orderedcolumns_df.show(5)"
      ],
      "execution_count": 71,
      "outputs": [
        {
          "output_type": "stream",
          "text": [
            "+------+------+------+\n",
            "|height|weight|gender|\n",
            "+------+------+------+\n",
            "|    67|   150|     1|\n",
            "|    65|   135|     0|\n",
            "|    68|   130|     0|\n",
            "|    70|   160|     1|\n",
            "|    70|   130|     0|\n",
            "+------+------+------+\n",
            "only showing top 5 rows\n",
            "\n"
          ],
          "name": "stdout"
        }
      ]
    },
    {
      "cell_type": "code",
      "metadata": {
        "collapsed": true,
        "id": "UzvyHBsEa2Kz"
      },
      "source": [
        "import numpy as np"
      ],
      "execution_count": 72,
      "outputs": []
    },
    {
      "cell_type": "code",
      "metadata": {
        "id": "wQvEi6xIa2K0",
        "colab": {
          "base_uri": "https://localhost:8080/"
        },
        "outputId": "9a21d4dc-986c-48cd-a2d4-e49c122abfb5"
      },
      "source": [
        "orderedcolumns_df.collect()"
      ],
      "execution_count": 73,
      "outputs": [
        {
          "output_type": "execute_result",
          "data": {
            "text/plain": [
              "[Row(height=67, weight=150, gender=1),\n",
              " Row(height=65, weight=135, gender=0),\n",
              " Row(height=68, weight=130, gender=0),\n",
              " Row(height=70, weight=160, gender=1),\n",
              " Row(height=70, weight=130, gender=0),\n",
              " Row(height=69, weight=174, gender=1),\n",
              " Row(height=65, weight=126, gender=0),\n",
              " Row(height=74, weight=188, gender=1),\n",
              " Row(height=60, weight=110, gender=0),\n",
              " Row(height=63, weight=125, gender=0),\n",
              " Row(height=70, weight=173, gender=1),\n",
              " Row(height=70, weight=145, gender=1),\n",
              " Row(height=68, weight=175, gender=1),\n",
              " Row(height=65, weight=123, gender=0),\n",
              " Row(height=71, weight=145, gender=1),\n",
              " Row(height=74, weight=160, gender=1),\n",
              " Row(height=64, weight=135, gender=0),\n",
              " Row(height=71, weight=175, gender=1),\n",
              " Row(height=67, weight=145, gender=1),\n",
              " Row(height=67, weight=130, gender=0),\n",
              " Row(height=70, weight=162, gender=1),\n",
              " Row(height=64, weight=107, gender=0),\n",
              " Row(height=70, weight=175, gender=1),\n",
              " Row(height=64, weight=130, gender=0),\n",
              " Row(height=66, weight=163, gender=1),\n",
              " Row(height=63, weight=137, gender=0),\n",
              " Row(height=65, weight=165, gender=1),\n",
              " Row(height=65, weight=130, gender=0),\n",
              " Row(height=64, weight=109, gender=0)]"
            ]
          },
          "metadata": {
            "tags": []
          },
          "execution_count": 73
        }
      ]
    },
    {
      "cell_type": "markdown",
      "metadata": {
        "id": "v9MnNblOa2K0"
      },
      "source": [
        "## 1. Transform Spark’s DataFrame to Numpy’s Array."
      ]
    },
    {
      "cell_type": "code",
      "metadata": {
        "collapsed": true,
        "id": "lZClruLWa2K0"
      },
      "source": [
        "data_array = np.array(orderedcolumns_df.collect())"
      ],
      "execution_count": 74,
      "outputs": []
    },
    {
      "cell_type": "code",
      "metadata": {
        "id": "WskuUp00a2K0",
        "colab": {
          "base_uri": "https://localhost:8080/"
        },
        "outputId": "a8569788-a3d4-4718-da67-4a3fca772416"
      },
      "source": [
        "data_array"
      ],
      "execution_count": 75,
      "outputs": [
        {
          "output_type": "execute_result",
          "data": {
            "text/plain": [
              "array([[ 67, 150,   1],\n",
              "       [ 65, 135,   0],\n",
              "       [ 68, 130,   0],\n",
              "       [ 70, 160,   1],\n",
              "       [ 70, 130,   0],\n",
              "       [ 69, 174,   1],\n",
              "       [ 65, 126,   0],\n",
              "       [ 74, 188,   1],\n",
              "       [ 60, 110,   0],\n",
              "       [ 63, 125,   0],\n",
              "       [ 70, 173,   1],\n",
              "       [ 70, 145,   1],\n",
              "       [ 68, 175,   1],\n",
              "       [ 65, 123,   0],\n",
              "       [ 71, 145,   1],\n",
              "       [ 74, 160,   1],\n",
              "       [ 64, 135,   0],\n",
              "       [ 71, 175,   1],\n",
              "       [ 67, 145,   1],\n",
              "       [ 67, 130,   0],\n",
              "       [ 70, 162,   1],\n",
              "       [ 64, 107,   0],\n",
              "       [ 70, 175,   1],\n",
              "       [ 64, 130,   0],\n",
              "       [ 66, 163,   1],\n",
              "       [ 63, 137,   0],\n",
              "       [ 65, 165,   1],\n",
              "       [ 65, 130,   0],\n",
              "       [ 64, 109,   0]])"
            ]
          },
          "metadata": {
            "tags": []
          },
          "execution_count": 75
        }
      ]
    },
    {
      "cell_type": "code",
      "metadata": {
        "id": "pL8kgIE9a2K1",
        "colab": {
          "base_uri": "https://localhost:8080/"
        },
        "outputId": "f9400437-9369-4afd-a7de-7957443e781a"
      },
      "source": [
        "data_array.shape"
      ],
      "execution_count": 76,
      "outputs": [
        {
          "output_type": "execute_result",
          "data": {
            "text/plain": [
              "(29, 3)"
            ]
          },
          "metadata": {
            "tags": []
          },
          "execution_count": 76
        }
      ]
    },
    {
      "cell_type": "code",
      "metadata": {
        "id": "2w-HVA19a2K1",
        "colab": {
          "base_uri": "https://localhost:8080/"
        },
        "outputId": "a05c41f8-94ef-4125-9e3c-388060325194"
      },
      "source": [
        "data_array[0]"
      ],
      "execution_count": 77,
      "outputs": [
        {
          "output_type": "execute_result",
          "data": {
            "text/plain": [
              "array([ 67, 150,   1])"
            ]
          },
          "metadata": {
            "tags": []
          },
          "execution_count": 77
        }
      ]
    },
    {
      "cell_type": "code",
      "metadata": {
        "id": "f-16ikiga2K2",
        "colab": {
          "base_uri": "https://localhost:8080/"
        },
        "outputId": "a9533bd7-7117-4011-fbea-258942cfccb6"
      },
      "source": [
        "data_array[28]"
      ],
      "execution_count": 78,
      "outputs": [
        {
          "output_type": "execute_result",
          "data": {
            "text/plain": [
              "array([ 64, 109,   0])"
            ]
          },
          "metadata": {
            "tags": []
          },
          "execution_count": 78
        }
      ]
    },
    {
      "cell_type": "markdown",
      "metadata": {
        "id": "7TNEsez3a2K2"
      },
      "source": [
        "##### Visualizing the data using Numpy and Matplotlib"
      ]
    },
    {
      "cell_type": "code",
      "metadata": {
        "id": "urG0F73ma2K2",
        "colab": {
          "base_uri": "https://localhost:8080/"
        },
        "outputId": "fd07fce7-46a1-4759-9667-fb00b5b8e73a"
      },
      "source": [
        "data_array.max(axis=0)"
      ],
      "execution_count": 79,
      "outputs": [
        {
          "output_type": "execute_result",
          "data": {
            "text/plain": [
              "array([ 74, 188,   1])"
            ]
          },
          "metadata": {
            "tags": []
          },
          "execution_count": 79
        }
      ]
    },
    {
      "cell_type": "code",
      "metadata": {
        "id": "KijcEvcma2K2",
        "colab": {
          "base_uri": "https://localhost:8080/"
        },
        "outputId": "13eb140a-e3a7-417e-8509-4b23e51767c4"
      },
      "source": [
        "data_array.min(axis=0)"
      ],
      "execution_count": 80,
      "outputs": [
        {
          "output_type": "execute_result",
          "data": {
            "text/plain": [
              "array([ 60, 107,   0])"
            ]
          },
          "metadata": {
            "tags": []
          },
          "execution_count": 80
        }
      ]
    },
    {
      "cell_type": "code",
      "metadata": {
        "collapsed": true,
        "id": "5OvS5U_ua2K3"
      },
      "source": [
        "import matplotlib.pyplot as plt\n",
        "%matplotlib inline"
      ],
      "execution_count": 81,
      "outputs": []
    },
    {
      "cell_type": "markdown",
      "metadata": {
        "id": "4ansM4BNa2K3"
      },
      "source": [
        "##### Define range of x and range of y."
      ]
    },
    {
      "cell_type": "code",
      "metadata": {
        "collapsed": true,
        "id": "NCm-XB_Fa2K3"
      },
      "source": [
        "min_x = data_array.min(axis=0)[0]-10\n",
        "max_x = data_array.max(axis=0)[0]+10\n",
        "min_y = data_array.min(axis=0)[1]-10\n",
        "max_y = data_array.max(axis=0)[1]+10"
      ],
      "execution_count": 82,
      "outputs": []
    },
    {
      "cell_type": "code",
      "metadata": {
        "id": "JWjWPUcoa2K3",
        "colab": {
          "base_uri": "https://localhost:8080/"
        },
        "outputId": "8f089ead-ff00-4c0a-f8a5-4246d5febd51"
      },
      "source": [
        "min_x, max_x, min_y, max_y"
      ],
      "execution_count": 83,
      "outputs": [
        {
          "output_type": "execute_result",
          "data": {
            "text/plain": [
              "(50, 84, 97, 198)"
            ]
          },
          "metadata": {
            "tags": []
          },
          "execution_count": 83
        }
      ]
    },
    {
      "cell_type": "code",
      "metadata": {
        "id": "ySr4Hw-8a2K4",
        "colab": {
          "base_uri": "https://localhost:8080/",
          "height": 306
        },
        "outputId": "0b765986-84df-40d2-9c9d-ec55c0673a9a"
      },
      "source": [
        "# formatting the plot grid, scales, and figure size\n",
        "plt.figure(figsize=(9, 4), dpi= 75)\n",
        "plt.axis([min_x,max_x,min_y,max_y])\n",
        "plt.grid()\n",
        "for i in range(len(data_array)):\n",
        "    value = data_array[i]\n",
        "    # assign labels values to specific matrix elements\n",
        "    gender = value[2]\n",
        "    height = value[0]\n",
        "    weight = value[1]\n",
        "    \n",
        "    # filter data points by gender\n",
        "    a = plt.scatter(height[gender==0],weight[gender==0], \\\n",
        "                    marker = 'x', c= 'b', label = 'Female')\n",
        "    b = plt.scatter(height[gender==1],weight[gender==1], \\\n",
        "                    marker = 'o', c= 'b', label = 'Male')\n",
        "    \n",
        "    # plot values, title, legend, x and y axis\n",
        "    plt.title('Weight vs Height by Gender')\n",
        "    plt.xlabel('Height (in)')\n",
        "    plt.ylabel('Weight (lbs)')\n",
        "    plt.legend(handles=[a,b])"
      ],
      "execution_count": 84,
      "outputs": [
        {
          "output_type": "display_data",
          "data": {
            "image/png": "[encoded data removed]",
            "text/plain": [
              "<Figure size 675x300 with 1 Axes>"
            ]
          },
          "metadata": {
            "tags": [],
            "needs_background": "light"
          }
        }
      ]
    },
    {
      "cell_type": "markdown",
      "metadata": {
        "id": "EQ2QjE8pa2K4"
      },
      "source": [
        "### 2. Making Standardization of x"
      ]
    },
    {
      "cell_type": "code",
      "metadata": {
        "id": "F8wgLCH8a2K4",
        "colab": {
          "base_uri": "https://localhost:8080/"
        },
        "outputId": "c046d966-5e7c-4d9a-9ea3-0fc07dc38425"
      },
      "source": [
        "type(data_array)"
      ],
      "execution_count": 85,
      "outputs": [
        {
          "output_type": "execute_result",
          "data": {
            "text/plain": [
              "numpy.ndarray"
            ]
          },
          "metadata": {
            "tags": []
          },
          "execution_count": 85
        }
      ]
    },
    {
      "cell_type": "code",
      "metadata": {
        "id": "R6rJuH6xa2K5",
        "colab": {
          "base_uri": "https://localhost:8080/"
        },
        "outputId": "c5e4b4f6-4d17-4988-8cf3-1f3d5de23687"
      },
      "source": [
        "data_array"
      ],
      "execution_count": 86,
      "outputs": [
        {
          "output_type": "execute_result",
          "data": {
            "text/plain": [
              "array([[ 67, 150,   1],\n",
              "       [ 65, 135,   0],\n",
              "       [ 68, 130,   0],\n",
              "       [ 70, 160,   1],\n",
              "       [ 70, 130,   0],\n",
              "       [ 69, 174,   1],\n",
              "       [ 65, 126,   0],\n",
              "       [ 74, 188,   1],\n",
              "       [ 60, 110,   0],\n",
              "       [ 63, 125,   0],\n",
              "       [ 70, 173,   1],\n",
              "       [ 70, 145,   1],\n",
              "       [ 68, 175,   1],\n",
              "       [ 65, 123,   0],\n",
              "       [ 71, 145,   1],\n",
              "       [ 74, 160,   1],\n",
              "       [ 64, 135,   0],\n",
              "       [ 71, 175,   1],\n",
              "       [ 67, 145,   1],\n",
              "       [ 67, 130,   0],\n",
              "       [ 70, 162,   1],\n",
              "       [ 64, 107,   0],\n",
              "       [ 70, 175,   1],\n",
              "       [ 64, 130,   0],\n",
              "       [ 66, 163,   1],\n",
              "       [ 63, 137,   0],\n",
              "       [ 65, 165,   1],\n",
              "       [ 65, 130,   0],\n",
              "       [ 64, 109,   0]])"
            ]
          },
          "metadata": {
            "tags": []
          },
          "execution_count": 86
        }
      ]
    },
    {
      "cell_type": "markdown",
      "metadata": {
        "id": "PWZnnsGSa2K5"
      },
      "source": [
        "##### x only contains both of height and weight"
      ]
    },
    {
      "cell_type": "code",
      "metadata": {
        "collapsed": true,
        "id": "omJCe4vya2K5"
      },
      "source": [
        "x = data_array[:,:2]"
      ],
      "execution_count": 87,
      "outputs": []
    },
    {
      "cell_type": "code",
      "metadata": {
        "id": "JH18n2wga2K6",
        "colab": {
          "base_uri": "https://localhost:8080/"
        },
        "outputId": "27280d72-b241-4379-8977-f9efae34f4a2"
      },
      "source": [
        "x"
      ],
      "execution_count": 88,
      "outputs": [
        {
          "output_type": "execute_result",
          "data": {
            "text/plain": [
              "array([[ 67, 150],\n",
              "       [ 65, 135],\n",
              "       [ 68, 130],\n",
              "       [ 70, 160],\n",
              "       [ 70, 130],\n",
              "       [ 69, 174],\n",
              "       [ 65, 126],\n",
              "       [ 74, 188],\n",
              "       [ 60, 110],\n",
              "       [ 63, 125],\n",
              "       [ 70, 173],\n",
              "       [ 70, 145],\n",
              "       [ 68, 175],\n",
              "       [ 65, 123],\n",
              "       [ 71, 145],\n",
              "       [ 74, 160],\n",
              "       [ 64, 135],\n",
              "       [ 71, 175],\n",
              "       [ 67, 145],\n",
              "       [ 67, 130],\n",
              "       [ 70, 162],\n",
              "       [ 64, 107],\n",
              "       [ 70, 175],\n",
              "       [ 64, 130],\n",
              "       [ 66, 163],\n",
              "       [ 63, 137],\n",
              "       [ 65, 165],\n",
              "       [ 65, 130],\n",
              "       [ 64, 109]])"
            ]
          },
          "metadata": {
            "tags": []
          },
          "execution_count": 88
        }
      ]
    },
    {
      "cell_type": "markdown",
      "metadata": {
        "id": "7_yJu6wfa2K6"
      },
      "source": [
        "##### Calculate Mean and Std. of x"
      ]
    },
    {
      "cell_type": "code",
      "metadata": {
        "collapsed": true,
        "id": "MppJmB0la2K7"
      },
      "source": [
        "x_mean = x.mean(axis=0)\n",
        "x_std = x.std(axis=0)"
      ],
      "execution_count": 89,
      "outputs": []
    },
    {
      "cell_type": "code",
      "metadata": {
        "collapsed": true,
        "id": "G9ar5lYla2K7"
      },
      "source": [
        "def normalize(origi):\n",
        "    origi_mean = origi.mean(axis=0)\n",
        "    origi_std = origi.std(axis=0)\n",
        "    new = (origi - origi_mean)/origi_std\n",
        "    return new"
      ],
      "execution_count": 90,
      "outputs": []
    },
    {
      "cell_type": "code",
      "metadata": {
        "collapsed": true,
        "id": "ebTGaTu-a2K8"
      },
      "source": [
        "x_normalized = normalize(x)"
      ],
      "execution_count": 91,
      "outputs": []
    },
    {
      "cell_type": "code",
      "metadata": {
        "id": "ChSGZD35a2K8",
        "colab": {
          "base_uri": "https://localhost:8080/"
        },
        "outputId": "0f81466c-18f5-4989-8e2f-b0e4f245c3f8"
      },
      "source": [
        "x_normalized"
      ],
      "execution_count": 92,
      "outputs": [
        {
          "output_type": "execute_result",
          "data": {
            "text/plain": [
              "array([[-0.06163661,  0.21460055],\n",
              "       [-0.65745714, -0.4618577 ],\n",
              "       [ 0.23627366, -0.68734378],\n",
              "       [ 0.8320942 ,  0.66557271],\n",
              "       [ 0.8320942 , -0.68734378],\n",
              "       [ 0.53418393,  1.29693375],\n",
              "       [-0.65745714, -0.86773265],\n",
              "       [ 2.02373527,  1.92829478],\n",
              "       [-2.14700848, -1.58928812],\n",
              "       [-1.25327768, -0.91282987],\n",
              "       [ 0.8320942 ,  1.25183653],\n",
              "       [ 0.8320942 , -0.01088554],\n",
              "       [ 0.23627366,  1.34203096],\n",
              "       [-0.65745714, -1.0030243 ],\n",
              "       [ 1.13000446, -0.01088554],\n",
              "       [ 2.02373527,  0.66557271],\n",
              "       [-0.95536741, -0.4618577 ],\n",
              "       [ 1.13000446,  1.34203096],\n",
              "       [-0.06163661, -0.01088554],\n",
              "       [-0.06163661, -0.68734378],\n",
              "       [ 0.8320942 ,  0.75576715],\n",
              "       [-0.95536741, -1.72457977],\n",
              "       [ 0.8320942 ,  1.34203096],\n",
              "       [-0.95536741, -0.68734378],\n",
              "       [-0.35954687,  0.80086436],\n",
              "       [-1.25327768, -0.37166327],\n",
              "       [-0.65745714,  0.8910588 ],\n",
              "       [-0.65745714, -0.68734378],\n",
              "       [-0.95536741, -1.63438533]])"
            ]
          },
          "metadata": {
            "tags": []
          },
          "execution_count": 92
        }
      ]
    },
    {
      "cell_type": "markdown",
      "metadata": {
        "id": "hNQ8IC5xa2K8"
      },
      "source": [
        "##### y only contains sex"
      ]
    },
    {
      "cell_type": "code",
      "metadata": {
        "collapsed": true,
        "id": "jO91zzAZa2K9"
      },
      "source": [
        "y = data_array[:,2]"
      ],
      "execution_count": 93,
      "outputs": []
    },
    {
      "cell_type": "code",
      "metadata": {
        "id": "RjYKOlKsa2K9",
        "colab": {
          "base_uri": "https://localhost:8080/"
        },
        "outputId": "4bb47350-3052-4ca0-c97c-8024c131aacc"
      },
      "source": [
        "y"
      ],
      "execution_count": 94,
      "outputs": [
        {
          "output_type": "execute_result",
          "data": {
            "text/plain": [
              "array([1, 0, 0, 1, 0, 1, 0, 1, 0, 0, 1, 1, 1, 0, 1, 1, 0, 1, 1, 0, 1, 0,\n",
              "       1, 0, 1, 0, 1, 0, 0])"
            ]
          },
          "metadata": {
            "tags": []
          },
          "execution_count": 94
        }
      ]
    },
    {
      "cell_type": "markdown",
      "metadata": {
        "id": "E8yKxeFra2K9"
      },
      "source": [
        "##### Merge x with y."
      ]
    },
    {
      "cell_type": "code",
      "metadata": {
        "collapsed": true,
        "id": "oiW_V2g4a2K9"
      },
      "source": [
        "normalized_data_array = np.column_stack((x_normalized[:,0], \\\n",
        "                                         x_normalized[:,1],y))"
      ],
      "execution_count": 95,
      "outputs": []
    },
    {
      "cell_type": "code",
      "metadata": {
        "id": "6n4AZoP1a2K-",
        "colab": {
          "base_uri": "https://localhost:8080/"
        },
        "outputId": "41734b0a-a0ff-470d-e37b-dd0030fd48d3"
      },
      "source": [
        "normalized_data_array"
      ],
      "execution_count": 96,
      "outputs": [
        {
          "output_type": "execute_result",
          "data": {
            "text/plain": [
              "array([[-0.06163661,  0.21460055,  1.        ],\n",
              "       [-0.65745714, -0.4618577 ,  0.        ],\n",
              "       [ 0.23627366, -0.68734378,  0.        ],\n",
              "       [ 0.8320942 ,  0.66557271,  1.        ],\n",
              "       [ 0.8320942 , -0.68734378,  0.        ],\n",
              "       [ 0.53418393,  1.29693375,  1.        ],\n",
              "       [-0.65745714, -0.86773265,  0.        ],\n",
              "       [ 2.02373527,  1.92829478,  1.        ],\n",
              "       [-2.14700848, -1.58928812,  0.        ],\n",
              "       [-1.25327768, -0.91282987,  0.        ],\n",
              "       [ 0.8320942 ,  1.25183653,  1.        ],\n",
              "       [ 0.8320942 , -0.01088554,  1.        ],\n",
              "       [ 0.23627366,  1.34203096,  1.        ],\n",
              "       [-0.65745714, -1.0030243 ,  0.        ],\n",
              "       [ 1.13000446, -0.01088554,  1.        ],\n",
              "       [ 2.02373527,  0.66557271,  1.        ],\n",
              "       [-0.95536741, -0.4618577 ,  0.        ],\n",
              "       [ 1.13000446,  1.34203096,  1.        ],\n",
              "       [-0.06163661, -0.01088554,  1.        ],\n",
              "       [-0.06163661, -0.68734378,  0.        ],\n",
              "       [ 0.8320942 ,  0.75576715,  1.        ],\n",
              "       [-0.95536741, -1.72457977,  0.        ],\n",
              "       [ 0.8320942 ,  1.34203096,  1.        ],\n",
              "       [-0.95536741, -0.68734378,  0.        ],\n",
              "       [-0.35954687,  0.80086436,  1.        ],\n",
              "       [-1.25327768, -0.37166327,  0.        ],\n",
              "       [-0.65745714,  0.8910588 ,  1.        ],\n",
              "       [-0.65745714, -0.68734378,  0.        ],\n",
              "       [-0.95536741, -1.63438533,  0.        ]])"
            ]
          },
          "metadata": {
            "tags": []
          },
          "execution_count": 96
        }
      ]
    },
    {
      "cell_type": "markdown",
      "metadata": {
        "id": "IT8GWHuga2K-"
      },
      "source": [
        "## 3. Define Algorithm's Parameters for Linear Function."
      ]
    },
    {
      "cell_type": "markdown",
      "metadata": {
        "id": "YAdwwQHUa2K-"
      },
      "source": [
        "##### Random generating many coefficiency"
      ]
    },
    {
      "cell_type": "code",
      "metadata": {
        "collapsed": true,
        "id": "Teu2zBITa2K-"
      },
      "source": [
        "np.random.seed(12345)"
      ],
      "execution_count": 97,
      "outputs": []
    },
    {
      "cell_type": "code",
      "metadata": {
        "collapsed": true,
        "id": "jVMn3p6Ja2K_"
      },
      "source": [
        "w1 = np.random.randn()\n",
        "w2 = np.random.randn()\n",
        "b= np.random.randn()"
      ],
      "execution_count": 98,
      "outputs": []
    },
    {
      "cell_type": "code",
      "metadata": {
        "id": "VFvPYMGTa2K_",
        "colab": {
          "base_uri": "https://localhost:8080/"
        },
        "outputId": "563cb33a-b9ea-445c-c8be-bbfb298d256a"
      },
      "source": [
        "print(w1, w2, b)"
      ],
      "execution_count": 99,
      "outputs": [
        {
          "output_type": "stream",
          "text": [
            "-0.20470765948471295 0.47894333805754824 -0.5194387150567381\n"
          ],
          "name": "stdout"
        }
      ]
    },
    {
      "cell_type": "markdown",
      "metadata": {
        "id": "rM_pzlwTa2K_"
      },
      "source": [
        "## 4. Define Activate Function and its Derivation."
      ]
    },
    {
      "cell_type": "markdown",
      "metadata": {
        "id": "wHM4amkMa2K_"
      },
      "source": [
        "##### Declare Sigmoid functions and its derivation (Sigmoid derivative)."
      ]
    },
    {
      "cell_type": "code",
      "metadata": {
        "collapsed": true,
        "id": "I_NSxUjfa2K_"
      },
      "source": [
        "def sigmoid(input):\n",
        "    return 1/(1+np.exp(-input))"
      ],
      "execution_count": 100,
      "outputs": []
    },
    {
      "cell_type": "code",
      "metadata": {
        "collapsed": true,
        "id": "7qJ6fV3pa2LA"
      },
      "source": [
        "def sigmoid_derivative(x):\n",
        "    return sigmoid(x) * (1-sigmoid(x))"
      ],
      "execution_count": 101,
      "outputs": []
    },
    {
      "cell_type": "markdown",
      "metadata": {
        "id": "vzTqnC1_a2LA"
      },
      "source": [
        "##### --- test the sigmod with calculation with tiny numbers ---"
      ]
    },
    {
      "cell_type": "code",
      "metadata": {
        "collapsed": true,
        "id": "vphDCMeXa2LA"
      },
      "source": [
        "x_test = np.arange(-10,10,1)\n",
        "y_test = sigmoid(x_test)"
      ],
      "execution_count": 102,
      "outputs": []
    },
    {
      "cell_type": "code",
      "metadata": {
        "id": "zUlB92Jpa2LA",
        "colab": {
          "base_uri": "https://localhost:8080/",
          "height": 292
        },
        "outputId": "7ba9fcdf-f4e9-4c0d-bd98-9197703c9ce4"
      },
      "source": [
        "plt.figure(figsize=(6, 4), dpi= 75)\n",
        "plt.axis([-10,10,-0.25,1.2])\n",
        "plt.grid()\n",
        "plt.plot(x_test,y_test)\n",
        "plt.title('Sigmoid Function')\n",
        "plt.show()"
      ],
      "execution_count": 103,
      "outputs": [
        {
          "output_type": "display_data",
          "data": {
            "image/png": "[encoded data removed]",
            "text/plain": [
              "<Figure size 450x300 with 1 Axes>"
            ]
          },
          "metadata": {
            "tags": [],
            "needs_background": "light"
          }
        }
      ]
    },
    {
      "cell_type": "code",
      "metadata": {
        "id": "RG1Uxmcya2LA",
        "colab": {
          "base_uri": "https://localhost:8080/",
          "height": 306
        },
        "outputId": "996fa297-ec82-47f5-c28d-9e27d167606e"
      },
      "source": [
        "plt.figure(figsize=(6, 4), dpi= 75)\n",
        "plt.axis([-10,10,-0.25,1.2])\n",
        "plt.grid()\n",
        "x_test = np.arange(-10,10,1)\n",
        "y_test = sigmoid(x_test)\n",
        "y_test_Prime = sigmoid_derivative(x_test)\n",
        "plt.plot(x_test, y_test, label=\"Sigmoid\",c='b')\n",
        "plt.plot(x_test, y_test_Prime, marker=\".\", \\\n",
        "         label=\"Sigmoid Derivative\", c='b')\n",
        "plt.title('Sigmoid vs Sigmoid Derivative')\n",
        "plt.xlabel('X')\n",
        "plt.ylabel('Y')\n",
        "plt.legend()\n",
        "plt.show()"
      ],
      "execution_count": 104,
      "outputs": [
        {
          "output_type": "display_data",
          "data": {
            "image/png": "[encoded data removed]",
            "text/plain": [
              "<Figure size 450x300 with 1 Axes>"
            ]
          },
          "metadata": {
            "tags": [],
            "needs_background": "light"
          }
        }
      ]
    },
    {
      "cell_type": "markdown",
      "metadata": {
        "collapsed": true,
        "id": "09QJ0sRna2LB"
      },
      "source": [
        "##### --- Ending --- "
      ]
    },
    {
      "cell_type": "markdown",
      "metadata": {
        "id": "NCd1UwPfa2LB"
      },
      "source": [
        "### 5. Launch the Deep Learning Algorithm:\n",
        "Calculating of Summation, Activation Function (Sigmoid) and Backpropagation (Sigmoid Derivative)"
      ]
    },
    {
      "cell_type": "code",
      "metadata": {
        "id": "Uk06IkZya2LB",
        "colab": {
          "base_uri": "https://localhost:8080/"
        },
        "outputId": "54fa6f75-8803-4f92-88a4-7f79558ab240"
      },
      "source": [
        "normalized_data_array"
      ],
      "execution_count": 105,
      "outputs": [
        {
          "output_type": "execute_result",
          "data": {
            "text/plain": [
              "array([[-0.06163661,  0.21460055,  1.        ],\n",
              "       [-0.65745714, -0.4618577 ,  0.        ],\n",
              "       [ 0.23627366, -0.68734378,  0.        ],\n",
              "       [ 0.8320942 ,  0.66557271,  1.        ],\n",
              "       [ 0.8320942 , -0.68734378,  0.        ],\n",
              "       [ 0.53418393,  1.29693375,  1.        ],\n",
              "       [-0.65745714, -0.86773265,  0.        ],\n",
              "       [ 2.02373527,  1.92829478,  1.        ],\n",
              "       [-2.14700848, -1.58928812,  0.        ],\n",
              "       [-1.25327768, -0.91282987,  0.        ],\n",
              "       [ 0.8320942 ,  1.25183653,  1.        ],\n",
              "       [ 0.8320942 , -0.01088554,  1.        ],\n",
              "       [ 0.23627366,  1.34203096,  1.        ],\n",
              "       [-0.65745714, -1.0030243 ,  0.        ],\n",
              "       [ 1.13000446, -0.01088554,  1.        ],\n",
              "       [ 2.02373527,  0.66557271,  1.        ],\n",
              "       [-0.95536741, -0.4618577 ,  0.        ],\n",
              "       [ 1.13000446,  1.34203096,  1.        ],\n",
              "       [-0.06163661, -0.01088554,  1.        ],\n",
              "       [-0.06163661, -0.68734378,  0.        ],\n",
              "       [ 0.8320942 ,  0.75576715,  1.        ],\n",
              "       [-0.95536741, -1.72457977,  0.        ],\n",
              "       [ 0.8320942 ,  1.34203096,  1.        ],\n",
              "       [-0.95536741, -0.68734378,  0.        ],\n",
              "       [-0.35954687,  0.80086436,  1.        ],\n",
              "       [-1.25327768, -0.37166327,  0.        ],\n",
              "       [-0.65745714,  0.8910588 ,  1.        ],\n",
              "       [-0.65745714, -0.68734378,  0.        ],\n",
              "       [-0.95536741, -1.63438533,  0.        ]])"
            ]
          },
          "metadata": {
            "tags": []
          },
          "execution_count": 105
        }
      ]
    },
    {
      "cell_type": "code",
      "metadata": {
        "id": "mF2ozwKaa2LB",
        "colab": {
          "base_uri": "https://localhost:8080/"
        },
        "outputId": "00b2071d-b6f1-487b-84d5-a4aa7939a56c"
      },
      "source": [
        "normalized_data_array.shape"
      ],
      "execution_count": 106,
      "outputs": [
        {
          "output_type": "execute_result",
          "data": {
            "text/plain": [
              "(29, 3)"
            ]
          },
          "metadata": {
            "tags": []
          },
          "execution_count": 106
        }
      ]
    },
    {
      "cell_type": "code",
      "metadata": {
        "id": "UAwzZNb2a2LB",
        "colab": {
          "base_uri": "https://localhost:8080/"
        },
        "outputId": "859daac7-b1e8-4202-97e9-3f5ed0127bfa"
      },
      "source": [
        "for i in range(100):\n",
        "    random_index = np.random.\\\n",
        "    randint(len(normalized_data_array))\n",
        "    point = normalized_data_array[random_index]\n",
        "    print(i, point)"
      ],
      "execution_count": 107,
      "outputs": [
        {
          "output_type": "stream",
          "text": [
            "0 [0.53418393 1.29693375 1.        ]\n",
            "1 [ 0.23627366 -0.68734378  0.        ]\n",
            "2 [-0.65745714 -0.4618577   0.        ]\n",
            "3 [0.8320942  1.34203096 1.        ]\n",
            "4 [1.13000446 1.34203096 1.        ]\n",
            "5 [-0.65745714 -0.68734378  0.        ]\n",
            "6 [ 1.13000446 -0.01088554  1.        ]\n",
            "7 [-1.25327768 -0.91282987  0.        ]\n",
            "8 [-0.65745714 -0.68734378  0.        ]\n",
            "9 [-0.95536741 -0.68734378  0.        ]\n",
            "10 [0.8320942  1.34203096 1.        ]\n",
            "11 [-0.95536741 -0.4618577   0.        ]\n",
            "12 [-0.06163661 -0.01088554  1.        ]\n",
            "13 [-1.25327768 -0.91282987  0.        ]\n",
            "14 [ 0.8320942  -0.01088554  1.        ]\n",
            "15 [-0.65745714 -1.0030243   0.        ]\n",
            "16 [0.8320942  1.25183653 1.        ]\n",
            "17 [1.13000446 1.34203096 1.        ]\n",
            "18 [-0.06163661 -0.01088554  1.        ]\n",
            "19 [-0.65745714 -0.86773265  0.        ]\n",
            "20 [2.02373527 1.92829478 1.        ]\n",
            "21 [ 0.8320942  -0.01088554  1.        ]\n",
            "22 [2.02373527 1.92829478 1.        ]\n",
            "23 [-0.95536741 -0.68734378  0.        ]\n",
            "24 [-0.35954687  0.80086436  1.        ]\n",
            "25 [-0.95536741 -0.68734378  0.        ]\n",
            "26 [-0.65745714 -0.4618577   0.        ]\n",
            "27 [-0.65745714 -0.68734378  0.        ]\n",
            "28 [-0.95536741 -0.68734378  0.        ]\n",
            "29 [ 0.8320942  -0.68734378  0.        ]\n",
            "30 [-0.06163661  0.21460055  1.        ]\n",
            "31 [2.02373527 0.66557271 1.        ]\n",
            "32 [0.8320942  0.66557271 1.        ]\n",
            "33 [-0.95536741 -1.63438533  0.        ]\n",
            "34 [-0.95536741 -1.63438533  0.        ]\n",
            "35 [0.53418393 1.29693375 1.        ]\n",
            "36 [2.02373527 0.66557271 1.        ]\n",
            "37 [-0.95536741 -0.68734378  0.        ]\n",
            "38 [ 0.8320942  -0.01088554  1.        ]\n",
            "39 [ 1.13000446 -0.01088554  1.        ]\n",
            "40 [-0.06163661 -0.68734378  0.        ]\n",
            "41 [1.13000446 1.34203096 1.        ]\n",
            "42 [ 0.8320942  -0.01088554  1.        ]\n",
            "43 [0.53418393 1.29693375 1.        ]\n",
            "44 [ 0.23627366 -0.68734378  0.        ]\n",
            "45 [-0.95536741 -1.72457977  0.        ]\n",
            "46 [-0.06163661 -0.68734378  0.        ]\n",
            "47 [-2.14700848 -1.58928812  0.        ]\n",
            "48 [0.53418393 1.29693375 1.        ]\n",
            "49 [ 0.23627366 -0.68734378  0.        ]\n",
            "50 [0.23627366 1.34203096 1.        ]\n",
            "51 [0.53418393 1.29693375 1.        ]\n",
            "52 [-0.65745714 -0.68734378  0.        ]\n",
            "53 [-0.06163661 -0.68734378  0.        ]\n",
            "54 [0.23627366 1.34203096 1.        ]\n",
            "55 [ 1.13000446 -0.01088554  1.        ]\n",
            "56 [-0.65745714 -0.68734378  0.        ]\n",
            "57 [-0.95536741 -0.4618577   0.        ]\n",
            "58 [-0.65745714 -0.68734378  0.        ]\n",
            "59 [-0.65745714 -0.86773265  0.        ]\n",
            "60 [-0.35954687  0.80086436  1.        ]\n",
            "61 [-0.06163661  0.21460055  1.        ]\n",
            "62 [ 0.8320942  -0.01088554  1.        ]\n",
            "63 [0.53418393 1.29693375 1.        ]\n",
            "64 [0.8320942  1.25183653 1.        ]\n",
            "65 [0.23627366 1.34203096 1.        ]\n",
            "66 [0.8320942  1.34203096 1.        ]\n",
            "67 [0.23627366 1.34203096 1.        ]\n",
            "68 [-0.35954687  0.80086436  1.        ]\n",
            "69 [-1.25327768 -0.91282987  0.        ]\n",
            "70 [-0.06163661 -0.01088554  1.        ]\n",
            "71 [-0.06163661 -0.01088554  1.        ]\n",
            "72 [-0.06163661 -0.01088554  1.        ]\n",
            "73 [-1.25327768 -0.37166327  0.        ]\n",
            "74 [ 1.13000446 -0.01088554  1.        ]\n",
            "75 [-0.65745714  0.8910588   1.        ]\n",
            "76 [-0.95536741 -0.68734378  0.        ]\n",
            "77 [-0.95536741 -1.72457977  0.        ]\n",
            "78 [2.02373527 1.92829478 1.        ]\n",
            "79 [1.13000446 1.34203096 1.        ]\n",
            "80 [-0.65745714 -0.68734378  0.        ]\n",
            "81 [-0.06163661  0.21460055  1.        ]\n",
            "82 [-0.65745714  0.8910588   1.        ]\n",
            "83 [0.23627366 1.34203096 1.        ]\n",
            "84 [-1.25327768 -0.37166327  0.        ]\n",
            "85 [ 1.13000446 -0.01088554  1.        ]\n",
            "86 [-0.65745714  0.8910588   1.        ]\n",
            "87 [ 0.8320942  -0.01088554  1.        ]\n",
            "88 [0.8320942  0.66557271 1.        ]\n",
            "89 [-0.06163661  0.21460055  1.        ]\n",
            "90 [0.8320942  0.66557271 1.        ]\n",
            "91 [-0.06163661  0.21460055  1.        ]\n",
            "92 [-0.65745714 -0.86773265  0.        ]\n",
            "93 [ 0.23627366 -0.68734378  0.        ]\n",
            "94 [1.13000446 1.34203096 1.        ]\n",
            "95 [-0.65745714 -0.68734378  0.        ]\n",
            "96 [-0.95536741 -1.63438533  0.        ]\n",
            "97 [0.23627366 1.34203096 1.        ]\n",
            "98 [0.53418393 1.29693375 1.        ]\n",
            "99 [-2.14700848 -1.58928812  0.        ]\n"
          ],
          "name": "stdout"
        }
      ]
    },
    {
      "cell_type": "markdown",
      "metadata": {
        "id": "tA5WhaJpa2LC"
      },
      "source": [
        "##### w1, w2 and b will be adjusted using gradient descent to tweak their values and minimize the cost function."
      ]
    },
    {
      "cell_type": "code",
      "metadata": {
        "collapsed": true,
        "id": "UvBXWRnsa2LC"
      },
      "source": [
        "learning_rate = 0.1\n",
        "\n",
        "all_costs = []"
      ],
      "execution_count": 108,
      "outputs": []
    },
    {
      "cell_type": "code",
      "metadata": {
        "collapsed": true,
        "id": "ghL8RTuta2LC"
      },
      "source": [
        "for i in range(100000):\n",
        "    # set the random data points that will be used to calculate the summation\n",
        "    random_number = np.random.randint(len(normalized_data_array))\n",
        "    random_person = normalized_data_array[random_number]\n",
        "    \n",
        "    # the height and weight from the random individual are selected\n",
        "    height = random_person[0]\n",
        "    weight = random_person[1]\n",
        "\n",
        "    z = w1*height+w2*weight+b\n",
        "    predictedGender = sigmoid(z)\n",
        "    \n",
        "    actualGender = random_person[2]\n",
        "    \n",
        "    cost = (predictedGender-actualGender)**2\n",
        "    \n",
        "    # the cost value is appended to the list\n",
        "    all_costs.append(cost)\n",
        "    \n",
        "    # partial derivatives of the cost function and summation are calculated\n",
        "    dcost_predictedGender = 2 * (predictedGender-actualGender)\n",
        "    dpredictedGenger_dz = sigmoid_derivative(z)\n",
        "    dz_dw1 = height\n",
        "    dz_dw2 = weight\n",
        "    dz_db = 1\n",
        "    \n",
        "    dcost_dw1 = dcost_predictedGender * dpredictedGenger_dz * dz_dw1\n",
        "    dcost_dw2 = dcost_predictedGender * dpredictedGenger_dz * dz_dw2\n",
        "    dcost_db  = dcost_predictedGender * dpredictedGenger_dz * dz_db\n",
        "    \n",
        "    # gradient descent calculation\n",
        "    w1 = w1 - learning_rate * dcost_dw1\n",
        "    w2 = w2 - learning_rate * dcost_dw2\n",
        "    b  = b  - learning_rate * dcost_db"
      ],
      "execution_count": 109,
      "outputs": []
    },
    {
      "cell_type": "code",
      "metadata": {
        "id": "mSmPD-Lta2LC",
        "colab": {
          "base_uri": "https://localhost:8080/",
          "height": 54
        },
        "outputId": "d23d6b6b-2db5-4f44-b4f8-883f810ac4c4"
      },
      "source": [
        "plt.plot(all_costs)\n",
        "plt.title('Cost Value over 100,000 iterations')\n",
        "plt.xlabel('Iteration')\n",
        "plt.ylabel('Cost Value')\n",
        "plt.show()"
      ],
      "execution_count": 110,
      "outputs": [
        {
          "output_type": "display_data",
          "data": {
            "image/png": "[encoded data removed]",
            "text/plain": [
              "<Figure size 432x288 with 1 Axes>"
            ]
          },
          "metadata": {
            "tags": [],
            "needs_background": "light"
          }
        }
      ]
    },
    {
      "cell_type": "code",
      "metadata": {
        "id": "vidlkqFva2LC",
        "colab": {
          "base_uri": "https://localhost:8080/"
        },
        "outputId": "8ac096f8-04e2-4489-95f9-46b7228c7b1b"
      },
      "source": [
        "print('The final values of w1, w2, and b')\n",
        "print('---------------------------------')\n",
        "print('w1 = {}'.format(w1))\n",
        "print('w2 = {}'.format(w2))\n",
        "print('b  = {}'.format(b))"
      ],
      "execution_count": 111,
      "outputs": [
        {
          "output_type": "stream",
          "text": [
            "The final values of w1, w2, and b\n",
            "---------------------------------\n",
            "w1 = 1.8209212481467743\n",
            "w2 = 10.501412686537124\n",
            "b  = 2.6922206902934818\n"
          ],
          "name": "stdout"
        }
      ]
    },
    {
      "cell_type": "markdown",
      "metadata": {
        "id": "Sv_2EHnda2LD"
      },
      "source": [
        "## 6. Make prediction"
      ]
    },
    {
      "cell_type": "code",
      "metadata": {
        "collapsed": true,
        "id": "dgzOB9epa2LD"
      },
      "source": [
        "def input_normalize(height, weight):\n",
        "    inputHeight = (height - x_mean[0])/x_std[0]\n",
        "    inputWeight = (weight - x_mean[1])/x_std[1]\n",
        "    return inputHeight, inputWeight"
      ],
      "execution_count": 112,
      "outputs": []
    },
    {
      "cell_type": "code",
      "metadata": {
        "collapsed": true,
        "id": "gabTOsDTa2LD"
      },
      "source": [
        "def predict_gender(raw_data):\n",
        "    gender_summation = raw_data[0]*w1 + raw_data[1]*w2 + b\n",
        "    gender_score = sigmoid(gender_summation)\n",
        "    if gender_score <= 0.5:\n",
        "        gender = 'Female'\n",
        "    else:\n",
        "        gender = 'Male'\n",
        "    return gender, gender_score"
      ],
      "execution_count": 113,
      "outputs": []
    },
    {
      "cell_type": "markdown",
      "metadata": {
        "id": "HggJ9iROa2LD"
      },
      "source": [
        "##### Height = 70 inches, Weight = 180 pounds"
      ]
    },
    {
      "cell_type": "code",
      "metadata": {
        "collapsed": true,
        "id": "lKO7tEk8a2LD"
      },
      "source": [
        "new_data = input_normalize(70, 180)"
      ],
      "execution_count": 114,
      "outputs": []
    },
    {
      "cell_type": "code",
      "metadata": {
        "id": "Vi9xHg8za2LE",
        "colab": {
          "base_uri": "https://localhost:8080/"
        },
        "outputId": "ab0e913e-9a50-4b7b-b032-bf5a956a9360"
      },
      "source": [
        "new_data"
      ],
      "execution_count": 115,
      "outputs": [
        {
          "output_type": "execute_result",
          "data": {
            "text/plain": [
              "(0.8320941962133162, 1.5675170469238868)"
            ]
          },
          "metadata": {
            "tags": []
          },
          "execution_count": 115
        }
      ]
    },
    {
      "cell_type": "code",
      "metadata": {
        "id": "VT04T4a5a2LE",
        "colab": {
          "base_uri": "https://localhost:8080/"
        },
        "outputId": "32e32f6d-87c7-4c7b-cf2b-24dc1484efcd"
      },
      "source": [
        "predict_gender(new_data)"
      ],
      "execution_count": 116,
      "outputs": [
        {
          "output_type": "execute_result",
          "data": {
            "text/plain": [
              "('Male', 0.9999999989437511)"
            ]
          },
          "metadata": {
            "tags": []
          },
          "execution_count": 116
        }
      ]
    },
    {
      "cell_type": "markdown",
      "metadata": {
        "id": "Gsq9xq_5a2LE"
      },
      "source": [
        "##### Height = 50 inches, Weight = 120 pounds"
      ]
    },
    {
      "cell_type": "code",
      "metadata": {
        "collapsed": true,
        "id": "AIAFQi2Xa2LE"
      },
      "source": [
        "new_data = input_normalize(50,120)"
      ],
      "execution_count": 117,
      "outputs": []
    },
    {
      "cell_type": "code",
      "metadata": {
        "id": "O8tqA-PRa2LE",
        "colab": {
          "base_uri": "https://localhost:8080/"
        },
        "outputId": "81c14d95-2612-4b41-ff3a-c2a352a15644"
      },
      "source": [
        "predict_gender(new_data)"
      ],
      "execution_count": 118,
      "outputs": [
        {
          "output_type": "execute_result",
          "data": {
            "text/plain": [
              "('Female', 8.392313454170623e-09)"
            ]
          },
          "metadata": {
            "tags": []
          },
          "execution_count": 118
        }
      ]
    },
    {
      "cell_type": "code",
      "metadata": {
        "collapsed": true,
        "id": "GsltUxZza2LE"
      },
      "source": [
        ""
      ],
      "execution_count": 118,
      "outputs": []
    }
  ]
}