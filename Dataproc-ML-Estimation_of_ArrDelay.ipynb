{
 "cells": [
  {
   "cell_type": "markdown",
   "metadata": {},
   "source": [
    "### 1. Business Understanding"
   ]
  },
  {
   "cell_type": "markdown",
   "metadata": {},
   "source": [
    "Problem Statement:  Prediction of Arrival Delay"
   ]
  },
  {
   "cell_type": "markdown",
   "metadata": {},
   "source": [
    "Project Objective: (1) Regression Model (2) Model Deployment"
   ]
  },
  {
   "cell_type": "markdown",
   "metadata": {},
   "source": [
    "### 2. Data Understanding"
   ]
  },
  {
   "cell_type": "markdown",
   "metadata": {},
   "source": [
    "#### Data collection - ดึงไฟล์ 2008.csv จาก s3.amazonaws.com มาไว้ใน Linux File System"
   ]
  },
  {
   "cell_type": "code",
   "execution_count": 1,
   "metadata": {},
   "outputs": [
    {
     "name": "stdout",
     "output_type": "stream",
     "text": [
      "--2018-10-13 12:48:03--  https://s3.amazonaws.com/imcbucket/data/flights/2008.csv\n",
      "Resolving s3.amazonaws.com (s3.amazonaws.com)... 52.216.85.37\n",
      "Connecting to s3.amazonaws.com (s3.amazonaws.com)|52.216.85.37|:443... connected.\n",
      "HTTP request sent, awaiting response... 200 OK\n",
      "Length: 689413344 (657M) [binary/octet-stream]\n",
      "Saving to: ‘2008.csv.2’\n",
      "\n",
      "2008.csv.2          100%[=====================>] 657.48M  21.3MB/s   in 30s    \n",
      "\n",
      "2018-10-13 12:48:34 (21.6 MB/s) - ‘2008.csv.2’ saved [689413344/689413344]\n",
      "\n"
     ]
    }
   ],
   "source": [
    "! wget https://s3.amazonaws.com/imcbucket/data/flights/2008.csv"
   ]
  },
  {
   "cell_type": "markdown",
   "metadata": {},
   "source": [
    "#### นับจำนวนบรรทัดในไฟล์ 2008.csv"
   ]
  },
  {
   "cell_type": "code",
   "execution_count": 2,
   "metadata": {},
   "outputs": [
    {
     "name": "stdout",
     "output_type": "stream",
     "text": [
      "7009729 ./2008.csv\r\n"
     ]
    }
   ],
   "source": [
    "! wc -l ./2008.csv"
   ]
  },
  {
   "cell_type": "markdown",
   "metadata": {},
   "source": [
    "#### ดู Content ในไฟล์ 2008.csv"
   ]
  },
  {
   "cell_type": "code",
   "execution_count": 3,
   "metadata": {},
   "outputs": [
    {
     "name": "stdout",
     "output_type": "stream",
     "text": [
      "Year,Month,DayofMonth,DayOfWeek,DepTime,CRSDepTime,ArrTime,CRSArrTime,UniqueCarrier,FlightNum,TailNum,ActualElapsedTime,CRSElapsedTime,AirTime,ArrDelay,DepDelay,Origin,Dest,Distance,TaxiIn,TaxiOut,Cancelled,CancellationCode,Diverted,CarrierDelay,WeatherDelay,NASDelay,SecurityDelay,LateAircraftDelay\r\n",
      "2008,1,3,4,2003,1955,2211,2225,WN,335,N712SW,128,150,116,-14,8,IAD,TPA,810,4,8,0,,0,NA,NA,NA,NA,NA\r\n",
      "2008,1,3,4,754,735,1002,1000,WN,3231,N772SW,128,145,113,2,19,IAD,TPA,810,5,10,0,,0,NA,NA,NA,NA,NA\r\n"
     ]
    }
   ],
   "source": [
    "! head -3 2008.csv"
   ]
  },
  {
   "cell_type": "markdown",
   "metadata": {},
   "source": [
    "#### ลบ Directory และไฟล์ 2008.csv ที่มีอยู่เดิมใน HDFS"
   ]
  },
  {
   "cell_type": "code",
   "execution_count": 4,
   "metadata": {},
   "outputs": [
    {
     "name": "stdout",
     "output_type": "stream",
     "text": [
      "18/10/13 12:48:35 INFO gcs.GoogleHadoopFileSystemBase: GHFS version: 1.6.10-hadoop2\n",
      "Deleted /user/cloudera/input/2008.csv\n"
     ]
    }
   ],
   "source": [
    "! hdfs dfs -rm -f /user/cloudera/input/2008.csv"
   ]
  },
  {
   "cell_type": "markdown",
   "metadata": {},
   "source": [
    "#### สร้าง Directory \"input\" ใน HDFS"
   ]
  },
  {
   "cell_type": "code",
   "execution_count": 5,
   "metadata": {},
   "outputs": [
    {
     "name": "stdout",
     "output_type": "stream",
     "text": [
      "18/10/13 12:48:38 INFO gcs.GoogleHadoopFileSystemBase: GHFS version: 1.6.10-hadoop2\r\n"
     ]
    }
   ],
   "source": [
    "! hdfs dfs -mkdir -p /user/cloudera/input"
   ]
  },
  {
   "cell_type": "markdown",
   "metadata": {},
   "source": [
    "#### Copy ไฟล์ 2008.csv จาก Linux File System ไปไว้ใน Directory \"input\" ของ HDFS"
   ]
  },
  {
   "cell_type": "code",
   "execution_count": 6,
   "metadata": {},
   "outputs": [
    {
     "name": "stdout",
     "output_type": "stream",
     "text": [
      "18/10/13 12:48:41 INFO gcs.GoogleHadoopFileSystemBase: GHFS version: 1.6.10-hadoop2\r\n"
     ]
    }
   ],
   "source": [
    "! hadoop fs -put 2008.csv /user/cloudera/input"
   ]
  },
  {
   "cell_type": "markdown",
   "metadata": {},
   "source": [
    "#### แสดงและตรวจดูให้แน่ใจว่ามีไฟล์ 2008.csv อยู่ใน \"input\""
   ]
  },
  {
   "cell_type": "code",
   "execution_count": 7,
   "metadata": {},
   "outputs": [
    {
     "name": "stdout",
     "output_type": "stream",
     "text": [
      "18/10/13 12:48:45 INFO gcs.GoogleHadoopFileSystemBase: GHFS version: 1.6.10-hadoop2\n",
      "Found 1 items\n",
      "-rw-r--r--   2 root hadoop  689413344 2018-10-13 12:48 /user/cloudera/input/2008.csv\n"
     ]
    }
   ],
   "source": [
    "! hdfs dfs -ls /user/cloudera/input"
   ]
  },
  {
   "cell_type": "markdown",
   "metadata": {},
   "source": [
    "#### Spark อ่านไฟล์ 2008.csv จาก HDFS มาเป็น DataFrame"
   ]
  },
  {
   "cell_type": "code",
   "execution_count": 8,
   "metadata": {},
   "outputs": [],
   "source": [
    "airline_df = spark.read.format('csv').\\\n",
    "option('header','true').option('mode','DROPMALFORMED')\\\n",
    ".load('/user/cloudera/input/2008.csv')"
   ]
  },
  {
   "cell_type": "markdown",
   "metadata": {},
   "source": [
    "#### Spark นับจำนวน tuple ใน DataFrame"
   ]
  },
  {
   "cell_type": "code",
   "execution_count": 9,
   "metadata": {},
   "outputs": [
    {
     "data": {
      "text/plain": [
       "7009728"
      ]
     },
     "execution_count": 9,
     "metadata": {},
     "output_type": "execute_result"
    }
   ],
   "source": [
    "airline_df.count()"
   ]
  },
  {
   "cell_type": "markdown",
   "metadata": {},
   "source": [
    "#### Spark: Assign ค่าของตัวแปรเก่า ให้กับตัวแปรใหม่"
   ]
  },
  {
   "cell_type": "code",
   "execution_count": 10,
   "metadata": {},
   "outputs": [],
   "source": [
    "airline_row_df = airline_df"
   ]
  },
  {
   "cell_type": "markdown",
   "metadata": {},
   "source": [
    "#### Spark แสดง Schema ของข้อมูลใน DataFrame"
   ]
  },
  {
   "cell_type": "code",
   "execution_count": 11,
   "metadata": {},
   "outputs": [
    {
     "name": "stdout",
     "output_type": "stream",
     "text": [
      "root\n",
      " |-- Year: string (nullable = true)\n",
      " |-- Month: string (nullable = true)\n",
      " |-- DayofMonth: string (nullable = true)\n",
      " |-- DayOfWeek: string (nullable = true)\n",
      " |-- DepTime: string (nullable = true)\n",
      " |-- CRSDepTime: string (nullable = true)\n",
      " |-- ArrTime: string (nullable = true)\n",
      " |-- CRSArrTime: string (nullable = true)\n",
      " |-- UniqueCarrier: string (nullable = true)\n",
      " |-- FlightNum: string (nullable = true)\n",
      " |-- TailNum: string (nullable = true)\n",
      " |-- ActualElapsedTime: string (nullable = true)\n",
      " |-- CRSElapsedTime: string (nullable = true)\n",
      " |-- AirTime: string (nullable = true)\n",
      " |-- ArrDelay: string (nullable = true)\n",
      " |-- DepDelay: string (nullable = true)\n",
      " |-- Origin: string (nullable = true)\n",
      " |-- Dest: string (nullable = true)\n",
      " |-- Distance: string (nullable = true)\n",
      " |-- TaxiIn: string (nullable = true)\n",
      " |-- TaxiOut: string (nullable = true)\n",
      " |-- Cancelled: string (nullable = true)\n",
      " |-- CancellationCode: string (nullable = true)\n",
      " |-- Diverted: string (nullable = true)\n",
      " |-- CarrierDelay: string (nullable = true)\n",
      " |-- WeatherDelay: string (nullable = true)\n",
      " |-- NASDelay: string (nullable = true)\n",
      " |-- SecurityDelay: string (nullable = true)\n",
      " |-- LateAircraftDelay: string (nullable = true)\n",
      "\n"
     ]
    }
   ],
   "source": [
    "airline_row_df.printSchema()"
   ]
  },
  {
   "cell_type": "markdown",
   "metadata": {},
   "source": [
    "### 3. Data Preparation"
   ]
  },
  {
   "cell_type": "markdown",
   "metadata": {},
   "source": [
    "#### Spark เรียกใช้ Data Types และ Functions ต่างๆ สำหรับจัดการข้อมูลใน DataFrame"
   ]
  },
  {
   "cell_type": "code",
   "execution_count": 12,
   "metadata": {},
   "outputs": [],
   "source": [
    "from pyspark.sql.types import *\n",
    "from pyspark.sql.functions import col, udf"
   ]
  },
  {
   "cell_type": "code",
   "execution_count": 13,
   "metadata": {},
   "outputs": [],
   "source": [
    "crunched_df = airline_row_df.\\\n",
    "withColumn('DepTime',airline_row_df['DepTime'].\\\n",
    "           cast(DoubleType())).\\\n",
    "withColumn('TaxiOut',airline_row_df['TaxiOut'].\\\n",
    "           cast(DoubleType())).\\\n",
    "withColumn('TaxiIn',airline_row_df['TaxiIn'].\\\n",
    "           cast(DoubleType())).\\\n",
    "withColumn('DepDelay',airline_row_df['DepDelay'].\\\n",
    "           cast(DoubleType())).\\\n",
    "withColumn('DayOfWeek',airline_row_df['DayOfWeek'].\\\n",
    "           cast(DoubleType())).\\\n",
    "withColumn('Distance',airline_row_df['Distance'].\\\n",
    "           cast(DoubleType())).\\\n",
    "withColumn('ArrDelay',airline_row_df['ArrDelay'].\\\n",
    "           cast(DoubleType()))"
   ]
  },
  {
   "cell_type": "markdown",
   "metadata": {},
   "source": [
    "#### Spark แสดง Schema ของข้อมูลใน DataFrame หลังจาก cast type แล้ว"
   ]
  },
  {
   "cell_type": "code",
   "execution_count": 14,
   "metadata": {},
   "outputs": [
    {
     "name": "stdout",
     "output_type": "stream",
     "text": [
      "root\n",
      " |-- Year: string (nullable = true)\n",
      " |-- Month: string (nullable = true)\n",
      " |-- DayofMonth: string (nullable = true)\n",
      " |-- DayOfWeek: double (nullable = true)\n",
      " |-- DepTime: double (nullable = true)\n",
      " |-- CRSDepTime: string (nullable = true)\n",
      " |-- ArrTime: string (nullable = true)\n",
      " |-- CRSArrTime: string (nullable = true)\n",
      " |-- UniqueCarrier: string (nullable = true)\n",
      " |-- FlightNum: string (nullable = true)\n",
      " |-- TailNum: string (nullable = true)\n",
      " |-- ActualElapsedTime: string (nullable = true)\n",
      " |-- CRSElapsedTime: string (nullable = true)\n",
      " |-- AirTime: string (nullable = true)\n",
      " |-- ArrDelay: double (nullable = true)\n",
      " |-- DepDelay: double (nullable = true)\n",
      " |-- Origin: string (nullable = true)\n",
      " |-- Dest: string (nullable = true)\n",
      " |-- Distance: double (nullable = true)\n",
      " |-- TaxiIn: double (nullable = true)\n",
      " |-- TaxiOut: double (nullable = true)\n",
      " |-- Cancelled: string (nullable = true)\n",
      " |-- CancellationCode: string (nullable = true)\n",
      " |-- Diverted: string (nullable = true)\n",
      " |-- CarrierDelay: string (nullable = true)\n",
      " |-- WeatherDelay: string (nullable = true)\n",
      " |-- NASDelay: string (nullable = true)\n",
      " |-- SecurityDelay: string (nullable = true)\n",
      " |-- LateAircraftDelay: string (nullable = true)\n",
      "\n"
     ]
    }
   ],
   "source": [
    "crunched_df.printSchema()"
   ]
  },
  {
   "cell_type": "markdown",
   "metadata": {},
   "source": [
    "#### Python ติดตั้ง Module \"pandas\""
   ]
  },
  {
   "cell_type": "code",
   "execution_count": 15,
   "metadata": {},
   "outputs": [
    {
     "name": "stdout",
     "output_type": "stream",
     "text": [
      "Requirement already satisfied: pandas in /opt/conda/lib/python3.6/site-packages (0.23.4)\n",
      "Requirement already satisfied: numpy>=1.9.0 in /opt/conda/lib/python3.6/site-packages (from pandas) (1.15.2)\n",
      "Requirement already satisfied: pytz>=2011k in /opt/conda/lib/python3.6/site-packages (from pandas) (2018.5)\n",
      "Requirement already satisfied: python-dateutil>=2.5.0 in /opt/conda/lib/python3.6/site-packages (from pandas) (2.7.3)\n",
      "Requirement already satisfied: six>=1.5 in /opt/conda/lib/python3.6/site-packages (from python-dateutil>=2.5.0->pandas) (1.11.0)\n",
      "\u001b[31mmkl-random 1.0.1 requires cython, which is not installed.\u001b[0m\n",
      "\u001b[33mYou are using pip version 10.0.1, however version 18.1 is available.\n",
      "You should consider upgrading via the 'pip install --upgrade pip' command.\u001b[0m\n"
     ]
    }
   ],
   "source": [
    "! pip install pandas"
   ]
  },
  {
   "cell_type": "markdown",
   "metadata": {},
   "source": [
    "#### Spark ทำ Data Exploratory โดยใช้สถิติเบื้องต้นกับข้อมูลใน DataFrame"
   ]
  },
  {
   "cell_type": "code",
   "execution_count": 16,
   "metadata": {},
   "outputs": [
    {
     "data": {
      "text/html": [
       "<div>\n",
       "<style scoped>\n",
       "    .dataframe tbody tr th:only-of-type {\n",
       "        vertical-align: middle;\n",
       "    }\n",
       "\n",
       "    .dataframe tbody tr th {\n",
       "        vertical-align: top;\n",
       "    }\n",
       "\n",
       "    .dataframe thead th {\n",
       "        text-align: right;\n",
       "    }\n",
       "</style>\n",
       "<table border=\"1\" class=\"dataframe\">\n",
       "  <thead>\n",
       "    <tr style=\"text-align: right;\">\n",
       "      <th></th>\n",
       "      <th>0</th>\n",
       "      <th>1</th>\n",
       "      <th>2</th>\n",
       "      <th>3</th>\n",
       "      <th>4</th>\n",
       "    </tr>\n",
       "  </thead>\n",
       "  <tbody>\n",
       "    <tr>\n",
       "      <th>summary</th>\n",
       "      <td>count</td>\n",
       "      <td>mean</td>\n",
       "      <td>stddev</td>\n",
       "      <td>min</td>\n",
       "      <td>max</td>\n",
       "    </tr>\n",
       "    <tr>\n",
       "      <th>DepTime</th>\n",
       "      <td>6873482</td>\n",
       "      <td>1333.8300461105448</td>\n",
       "      <td>478.0688948663011</td>\n",
       "      <td>1.0</td>\n",
       "      <td>2400.0</td>\n",
       "    </tr>\n",
       "    <tr>\n",
       "      <th>TaxiOut</th>\n",
       "      <td>6872670</td>\n",
       "      <td>16.453045177492882</td>\n",
       "      <td>11.332798654231896</td>\n",
       "      <td>0.0</td>\n",
       "      <td>429.0</td>\n",
       "    </tr>\n",
       "    <tr>\n",
       "      <th>TaxiIn</th>\n",
       "      <td>6858079</td>\n",
       "      <td>6.860851704974527</td>\n",
       "      <td>4.933649371300392</td>\n",
       "      <td>0.0</td>\n",
       "      <td>308.0</td>\n",
       "    </tr>\n",
       "    <tr>\n",
       "      <th>DayOfWeek</th>\n",
       "      <td>7009728</td>\n",
       "      <td>3.9241815088973495</td>\n",
       "      <td>1.9882589459851079</td>\n",
       "      <td>1.0</td>\n",
       "      <td>7.0</td>\n",
       "    </tr>\n",
       "    <tr>\n",
       "      <th>Distance</th>\n",
       "      <td>7009728</td>\n",
       "      <td>726.3870294253928</td>\n",
       "      <td>562.1018034840366</td>\n",
       "      <td>11.0</td>\n",
       "      <td>4962.0</td>\n",
       "    </tr>\n",
       "    <tr>\n",
       "      <th>ArrDelay</th>\n",
       "      <td>6855029</td>\n",
       "      <td>8.16845238729114</td>\n",
       "      <td>38.50193694882877</td>\n",
       "      <td>-519.0</td>\n",
       "      <td>2461.0</td>\n",
       "    </tr>\n",
       "  </tbody>\n",
       "</table>\n",
       "</div>"
      ],
      "text/plain": [
       "                 0                   1                   2       3       4\n",
       "summary      count                mean              stddev     min     max\n",
       "DepTime    6873482  1333.8300461105448   478.0688948663011     1.0  2400.0\n",
       "TaxiOut    6872670  16.453045177492882  11.332798654231896     0.0   429.0\n",
       "TaxiIn     6858079   6.860851704974527   4.933649371300392     0.0   308.0\n",
       "DayOfWeek  7009728  3.9241815088973495  1.9882589459851079     1.0     7.0\n",
       "Distance   7009728   726.3870294253928   562.1018034840366    11.0  4962.0\n",
       "ArrDelay   6855029    8.16845238729114   38.50193694882877  -519.0  2461.0"
      ]
     },
     "execution_count": 16,
     "metadata": {},
     "output_type": "execute_result"
    }
   ],
   "source": [
    "import pandas as pd\n",
    "pd.DataFrame(crunched_df.\\\n",
    "             select(['DepTime','TaxiOut','TaxiIn',\\\n",
    "                     'DayOfWeek','Distance','ArrDelay']).\\\n",
    "             describe().take(6),\\\n",
    "             columns=crunched_df.\\\n",
    "             select(['DepTime','TaxiOut','TaxiIn',\\\n",
    "                     'DayOfWeek','Distance','ArrDelay']).\\\n",
    "             describe().columns).transpose()"
   ]
  },
  {
   "cell_type": "markdown",
   "metadata": {},
   "source": [
    "#### Spark ทำ Data Transformation โดยใช้ Data Discretization กับ \"DepTime\" ใน DataFrame"
   ]
  },
  {
   "cell_type": "code",
   "execution_count": 17,
   "metadata": {},
   "outputs": [],
   "source": [
    "def t_timeperiod(origin):\n",
    "    if origin is None:\n",
    "        period = None\n",
    "    elif origin > 0 and origin < 600:\n",
    "        period = '00.01-05.59'\n",
    "    elif origin >= 600 and origin <=1200:\n",
    "        period = '06.00-11.59'\n",
    "    elif origin >= 1200 and origin <= 1800:\n",
    "        period = '12.00-17.59'\n",
    "    elif origin >= 1800 and origin <= 2400:\n",
    "        period = '18.00-24.00'\n",
    "    else:\n",
    "        period = 'NA'\n",
    "    return period"
   ]
  },
  {
   "cell_type": "code",
   "execution_count": 18,
   "metadata": {},
   "outputs": [],
   "source": [
    "timeperiod = udf(lambda x: t_timeperiod(x),StringType())"
   ]
  },
  {
   "cell_type": "code",
   "execution_count": 19,
   "metadata": {},
   "outputs": [],
   "source": [
    "discretized_df = crunched_df.\\\n",
    "withColumn('DepTime',timeperiod(crunched_df['DepTime']))"
   ]
  },
  {
   "cell_type": "markdown",
   "metadata": {},
   "source": [
    "#### Spark ทำ Data Transformation โดยใช้ Data Normalization กับ \"Distance\" และ \"ArrDelay\" ใน DataFrame"
   ]
  },
  {
   "cell_type": "code",
   "execution_count": 20,
   "metadata": {},
   "outputs": [],
   "source": [
    "from pyspark.sql.functions import *\n",
    "max_distance = discretized_df.select(max('Distance')).collect()[0][0]\n",
    "min_distance = discretized_df.select(min('Distance')).collect()[0][0]"
   ]
  },
  {
   "cell_type": "code",
   "execution_count": 21,
   "metadata": {},
   "outputs": [],
   "source": [
    "max_ArrDelay = discretized_df.select(max('ArrDelay')).collect()[0][0]\n",
    "min_ArrDelay = discretized_df.select(min('ArrDelay')).collect()[0][0]"
   ]
  },
  {
   "cell_type": "code",
   "execution_count": 22,
   "metadata": {},
   "outputs": [],
   "source": [
    "def t_normalized_distance(origin):\n",
    "    if origin is None:\n",
    "        return None\n",
    "    else:\n",
    "        return ((origin-min_distance)/(max_distance-min_distance))"
   ]
  },
  {
   "cell_type": "code",
   "execution_count": 23,
   "metadata": {},
   "outputs": [],
   "source": [
    "def t_normalized_ArrDelay(origin):\n",
    "    if origin is None:\n",
    "        return None\n",
    "    else:\n",
    "        return ((origin-min_ArrDelay)/(max_ArrDelay-min_ArrDelay))"
   ]
  },
  {
   "cell_type": "code",
   "execution_count": 24,
   "metadata": {},
   "outputs": [],
   "source": [
    "normalized_distance = udf(lambda x: t_normalized_distance(x),DoubleType())"
   ]
  },
  {
   "cell_type": "code",
   "execution_count": 25,
   "metadata": {},
   "outputs": [],
   "source": [
    "normalized_ArrDelay = udf(lambda x: t_normalized_ArrDelay(x),DoubleType())"
   ]
  },
  {
   "cell_type": "code",
   "execution_count": 26,
   "metadata": {},
   "outputs": [],
   "source": [
    "normalized_df = discretized_df.\\\n",
    "withColumn('Distance', normalized_distance(discretized_df['Distance'])).\\\n",
    "withColumn('ArrDelay', normalized_ArrDelay(discretized_df['ArrDelay']))"
   ]
  },
  {
   "cell_type": "markdown",
   "metadata": {},
   "source": [
    "#### Spark ทำ Feature Selection ด้วยการเลือกเฉพาะบาง Attributes มาเป็น Features"
   ]
  },
  {
   "cell_type": "code",
   "execution_count": 27,
   "metadata": {},
   "outputs": [],
   "source": [
    "features_df = normalized_df.\\\n",
    "select(['UniqueCarrier','Origin','Dest',\\\n",
    "        'DepTime','TaxiOut','TaxiIn','DepDelay',\\\n",
    "        'DayOfWeek','Distance','ArrDelay'])"
   ]
  },
  {
   "cell_type": "markdown",
   "metadata": {},
   "source": [
    "#### Spark กำจัดค่า Null ด้วยการลบทั้ง Tuple (Record) เมื่อพบว่ามี Attribute ใดมีค่า Null"
   ]
  },
  {
   "cell_type": "code",
   "execution_count": 28,
   "metadata": {},
   "outputs": [],
   "source": [
    "final_df = features_df.dropna()"
   ]
  },
  {
   "cell_type": "code",
   "execution_count": null,
   "metadata": {},
   "outputs": [],
   "source": []
  },
  {
   "cell_type": "code",
   "execution_count": null,
   "metadata": {},
   "outputs": [],
   "source": []
  },
  {
   "cell_type": "markdown",
   "metadata": {},
   "source": [
    "#### Spark นับจำนวน tuple ใน DataFrame"
   ]
  },
  {
   "cell_type": "code",
   "execution_count": 29,
   "metadata": {},
   "outputs": [
    {
     "data": {
      "text/plain": [
       "6855029"
      ]
     },
     "execution_count": 29,
     "metadata": {},
     "output_type": "execute_result"
    }
   ],
   "source": [
    "final_df.count()"
   ]
  },
  {
   "cell_type": "code",
   "execution_count": 30,
   "metadata": {},
   "outputs": [
    {
     "name": "stdout",
     "output_type": "stream",
     "text": [
      "+-------------+------+----+-----------+-------+------+--------+---------+--------------------+-------------------+\n",
      "|UniqueCarrier|Origin|Dest|    DepTime|TaxiOut|TaxiIn|DepDelay|DayOfWeek|            Distance|           ArrDelay|\n",
      "+-------------+------+----+-----------+-------+------+--------+---------+--------------------+-------------------+\n",
      "|           WN|   IAD| TPA|18.00-24.00|    8.0|   4.0|     8.0|      4.0| 0.16138153908301353|0.16946308724832215|\n",
      "|           WN|   IAD| TPA|06.00-11.59|   10.0|   5.0|    19.0|      4.0| 0.16138153908301353|0.17483221476510066|\n",
      "|           WN|   IND| BWI|06.00-11.59|   17.0|   3.0|     8.0|      4.0|  0.1017976166431024|0.17885906040268457|\n",
      "|           WN|   IND| BWI|06.00-11.59|    7.0|   3.0|    -4.0|      4.0|  0.1017976166431024|0.17214765100671142|\n",
      "|           WN|   IND| BWI|18.00-24.00|   10.0|   3.0|    34.0|      4.0|  0.1017976166431024| 0.1855704697986577|\n",
      "|           WN|   IND| JAX|18.00-24.00|   10.0|   4.0|    25.0|      4.0|  0.1367400525146435|0.17785234899328858|\n",
      "|           WN|   IND| LAS|18.00-24.00|    7.0|   3.0|    67.0|      4.0| 0.31912744900020196|0.19328859060402684|\n",
      "|           WN|   IND| LAS|06.00-11.59|    7.0|   7.0|    -1.0|      4.0| 0.31912744900020196|0.16812080536912752|\n",
      "|           WN|   IND| MCI|06.00-11.59|   19.0|   6.0|     2.0|      4.0| 0.08887093516461321|0.17483221476510066|\n",
      "|           WN|   IND| MCI|12.00-17.59|    6.0|   3.0|     0.0|      4.0| 0.08887093516461321|0.16879194630872482|\n",
      "|           WN|   IND| MCO|06.00-11.59|   19.0|   5.0|     6.0|      4.0|  0.1650171682488386|  0.174496644295302|\n",
      "|           WN|   IND| MCO|12.00-17.59|    8.0|   6.0|    94.0|      4.0|  0.1650171682488386|0.20100671140939597|\n",
      "|           WN|   IND| MDW|12.00-17.59|   12.0|   9.0|    -4.0|      4.0|0.030498889113310442|  0.174496644295302|\n",
      "|           WN|   IND| MDW|06.00-11.59|   21.0|   7.0|     0.0|      4.0|0.030498889113310442|0.17751677852348993|\n",
      "|           WN|   IND| MDW|12.00-17.59|   10.0|   4.0|     2.0|      4.0|0.030498889113310442|0.17281879194630873|\n",
      "|           WN|   IND| MDW|06.00-11.59|    9.0|   6.0|     9.0|      4.0|0.030498889113310442|0.17785234899328858|\n",
      "|           WN|   IND| PHX|12.00-17.59|    8.0|   7.0|    27.0|      4.0|  0.2985255503938598|0.17919463087248322|\n",
      "|           WN|   IND| PHX|06.00-11.59|   16.0|   5.0|     9.0|      4.0|  0.2985255503938598| 0.1691275167785235|\n",
      "|           WN|   IND| TPA|12.00-17.59|    9.0|   4.0|    28.0|      4.0| 0.16703696222985256|0.17953020134228187|\n",
      "|           WN|   ISP| BWI|12.00-17.59|    5.0|   2.0|    51.0|      4.0| 0.04221369420319127| 0.1865771812080537|\n",
      "+-------------+------+----+-----------+-------+------+--------+---------+--------------------+-------------------+\n",
      "only showing top 20 rows\n",
      "\n"
     ]
    }
   ],
   "source": [
    "final_df.show()"
   ]
  },
  {
   "cell_type": "code",
   "execution_count": null,
   "metadata": {},
   "outputs": [],
   "source": []
  },
  {
   "cell_type": "code",
   "execution_count": null,
   "metadata": {},
   "outputs": [],
   "source": []
  },
  {
   "cell_type": "markdown",
   "metadata": {},
   "source": [
    "### 4. Modeling (and making some data transformation )"
   ]
  },
  {
   "cell_type": "markdown",
   "metadata": {},
   "source": [
    "#### Spark แบ่งข้อมูลเป็น training set และ test set"
   ]
  },
  {
   "cell_type": "code",
   "execution_count": 31,
   "metadata": {},
   "outputs": [],
   "source": [
    "training_df,test_df = final_df.\\\n",
    "randomSplit([0.80,0.20], seed = 12)"
   ]
  },
  {
   "cell_type": "markdown",
   "metadata": {},
   "source": [
    "#### Spark นับจำนวน tuple ใน DataFrame"
   ]
  },
  {
   "cell_type": "code",
   "execution_count": 32,
   "metadata": {},
   "outputs": [
    {
     "data": {
      "text/plain": [
       "5482630"
      ]
     },
     "execution_count": 32,
     "metadata": {},
     "output_type": "execute_result"
    }
   ],
   "source": [
    "training_df.count()"
   ]
  },
  {
   "cell_type": "markdown",
   "metadata": {},
   "source": [
    "#### Spark แสดง Schema ของ training set"
   ]
  },
  {
   "cell_type": "code",
   "execution_count": 33,
   "metadata": {},
   "outputs": [
    {
     "name": "stdout",
     "output_type": "stream",
     "text": [
      "root\n",
      " |-- UniqueCarrier: string (nullable = true)\n",
      " |-- Origin: string (nullable = true)\n",
      " |-- Dest: string (nullable = true)\n",
      " |-- DepTime: string (nullable = true)\n",
      " |-- TaxiOut: double (nullable = true)\n",
      " |-- TaxiIn: double (nullable = true)\n",
      " |-- DepDelay: double (nullable = true)\n",
      " |-- DayOfWeek: double (nullable = true)\n",
      " |-- Distance: double (nullable = true)\n",
      " |-- ArrDelay: double (nullable = true)\n",
      "\n"
     ]
    }
   ],
   "source": [
    "training_df.printSchema()"
   ]
  },
  {
   "cell_type": "markdown",
   "metadata": {},
   "source": [
    "#### Transformation categorical variable to numerical one."
   ]
  },
  {
   "cell_type": "code",
   "execution_count": 34,
   "metadata": {},
   "outputs": [],
   "source": [
    "from pyspark.ml.feature import StringIndexer,OneHotEncoder"
   ]
  },
  {
   "cell_type": "code",
   "execution_count": 35,
   "metadata": {},
   "outputs": [],
   "source": [
    "DepTimeIndexer = StringIndexer\\\n",
    "(inputCol='DepTime',outputCol='DepTimeIndexed')"
   ]
  },
  {
   "cell_type": "code",
   "execution_count": 36,
   "metadata": {},
   "outputs": [],
   "source": [
    "DepTimeOneHotEncoder = OneHotEncoder\\\n",
    "(dropLast=False,inputCol='DepTimeIndexed', \\\n",
    " outputCol='DepTimeVec')"
   ]
  },
  {
   "cell_type": "code",
   "execution_count": 37,
   "metadata": {},
   "outputs": [],
   "source": [
    "UniqueCarrierIndexer = StringIndexer\\\n",
    "(inputCol='UniqueCarrier',\\\n",
    " outputCol='UniqueCarrierIndexed')"
   ]
  },
  {
   "cell_type": "code",
   "execution_count": 38,
   "metadata": {},
   "outputs": [],
   "source": [
    "UniqueCarrierOneHotEncoder = OneHotEncoder\\\n",
    "(dropLast=False,inputCol='UniqueCarrierIndexed',\\\n",
    " outputCol='UniquecarrierVec')"
   ]
  },
  {
   "cell_type": "code",
   "execution_count": 39,
   "metadata": {},
   "outputs": [],
   "source": [
    "OriginIndexer = StringIndexer(inputCol='Origin',\\\n",
    "                              outputCol='OriginIndexed')"
   ]
  },
  {
   "cell_type": "code",
   "execution_count": 40,
   "metadata": {},
   "outputs": [],
   "source": [
    "OriginOneHotEncoder = OneHotEncoder\\\n",
    "(dropLast=False,inputCol='OriginIndexed',\\\n",
    " outputCol='OriginVec')"
   ]
  },
  {
   "cell_type": "code",
   "execution_count": 41,
   "metadata": {},
   "outputs": [],
   "source": [
    "DestIndexer = StringIndexer(inputCol='Dest',\\\n",
    "                            outputCol='DestIndexed')"
   ]
  },
  {
   "cell_type": "code",
   "execution_count": 42,
   "metadata": {},
   "outputs": [],
   "source": [
    "DestOneHotEncoder = OneHotEncoder\\\n",
    "(dropLast=False,inputCol='DestIndexed',\\\n",
    " outputCol='DestVec')"
   ]
  },
  {
   "cell_type": "code",
   "execution_count": 43,
   "metadata": {},
   "outputs": [],
   "source": [
    "#labelIndexer = StringIndexer(inputCol='ArrDelay',outputCol='labelIndexed')"
   ]
  },
  {
   "cell_type": "markdown",
   "metadata": {},
   "source": [
    "#### Combines a selected columns into a single vector column."
   ]
  },
  {
   "cell_type": "code",
   "execution_count": 44,
   "metadata": {},
   "outputs": [],
   "source": [
    "from pyspark.mllib.linalg import Vectors"
   ]
  },
  {
   "cell_type": "code",
   "execution_count": 45,
   "metadata": {},
   "outputs": [],
   "source": [
    "from pyspark.ml.feature import VectorAssembler"
   ]
  },
  {
   "cell_type": "code",
   "execution_count": 46,
   "metadata": {},
   "outputs": [],
   "source": [
    "from pyspark.ml import Pipeline"
   ]
  },
  {
   "cell_type": "code",
   "execution_count": 47,
   "metadata": {},
   "outputs": [],
   "source": [
    "featureAssembler = VectorAssembler\\\n",
    "(inputCols=['UniqueCarrierIndexed',\\\n",
    "            'OriginVec',\\\n",
    "            #'DestVec',\\\n",
    "            'DepTimeVec',\\\n",
    "            'TaxiOut','TaxiIn',\\\n",
    "            'DepDelay',\\\n",
    "            'DayOfWeek',\\\n",
    "            'Distance'\n",
    "           ], outputCol='***features')"
   ]
  },
  {
   "cell_type": "markdown",
   "metadata": {},
   "source": [
    "#### Define an algorithm."
   ]
  },
  {
   "cell_type": "code",
   "execution_count": 48,
   "metadata": {},
   "outputs": [],
   "source": [
    "from pyspark.ml.regression import RandomForestRegressor"
   ]
  },
  {
   "cell_type": "code",
   "execution_count": 49,
   "metadata": {},
   "outputs": [],
   "source": [
    "dt = RandomForestRegressor\\\n",
    "(labelCol='ArrDelay',featuresCol='***features')"
   ]
  },
  {
   "cell_type": "markdown",
   "metadata": {},
   "source": [
    "#### Pipeline."
   ]
  },
  {
   "cell_type": "code",
   "execution_count": 50,
   "metadata": {},
   "outputs": [],
   "source": [
    "pipeline_dt = Pipeline().\\\n",
    "setStages([UniqueCarrierIndexer,\\\n",
    "           UniqueCarrierOneHotEncoder,\\\n",
    "           DepTimeIndexer,\\\n",
    "           DepTimeOneHotEncoder,\\\n",
    "           OriginIndexer ,\\\n",
    "           OriginOneHotEncoder,\\\n",
    "           DestIndexer,\\\n",
    "           DestOneHotEncoder,\\\n",
    "           featureAssembler,dt])"
   ]
  },
  {
   "cell_type": "code",
   "execution_count": 51,
   "metadata": {},
   "outputs": [],
   "source": [
    "#training_df.count()"
   ]
  },
  {
   "cell_type": "markdown",
   "metadata": {},
   "source": [
    "#### Launch the pipeline and get a model."
   ]
  },
  {
   "cell_type": "code",
   "execution_count": 52,
   "metadata": {},
   "outputs": [],
   "source": [
    "dtModel = pipeline_dt.fit(training_df)"
   ]
  },
  {
   "cell_type": "markdown",
   "metadata": {},
   "source": [
    "#### print out model structure"
   ]
  },
  {
   "cell_type": "code",
   "execution_count": 53,
   "metadata": {},
   "outputs": [],
   "source": [
    "tree = dtModel.stages[9]"
   ]
  },
  {
   "cell_type": "code",
   "execution_count": 54,
   "metadata": {},
   "outputs": [
    {
     "data": {
      "text/plain": [
       "'RandomForestRegressionModel (uid=RandomForestRegressor_4134b63d2275ae3608e2) with 20 trees\\n  Tree 0 (weight 1.0):\\n    If (feature 309 <= 59.0)\\n     If (feature 0 in {0.0,2.0,4.0,12.0,14.0,16.0,18.0,19.0})\\n      If (feature 309 <= 14.0)\\n       If (feature 39 in {0.0})\\n        If (feature 311 <= 0.1276509796000808)\\n         Predict: 0.17272299608027053\\n        Else (feature 311 > 0.1276509796000808)\\n         Predict: 0.17216944237898643\\n       Else (feature 39 not in {0.0})\\n        If (feature 311 <= 0.04302161179559685)\\n         Predict: 0.1732040503829081\\n        Else (feature 311 > 0.04302161179559685)\\n         Predict: 0.17508380787743202\\n      Else (feature 309 > 14.0)\\n       If (feature 0 in {0.0,4.0,16.0,19.0})\\n        If (feature 307 <= 34.0)\\n         Predict: 0.18248294916442623\\n        Else (feature 307 > 34.0)\\n         Predict: 0.19456270009904805\\n       Else (feature 0 not in {0.0,4.0,16.0,19.0})\\n        If (feature 308 <= 16.0)\\n         Predict: 0.18434554097972705\\n        Else (feature 308 > 16.0)\\n         Predict: 0.19066786820562023\\n     Else (feature 0 not in {0.0,2.0,4.0,12.0,14.0,16.0,18.0,19.0})\\n      If (feature 307 <= 35.0)\\n       If (feature 305 in {0.0})\\n        If (feature 309 <= 13.0)\\n         Predict: 0.1726885508759438\\n        Else (feature 309 > 13.0)\\n         Predict: 0.18299914045538793\\n       Else (feature 305 not in {0.0})\\n        If (feature 309 <= 15.0)\\n         Predict: 0.17282682545087097\\n        Else (feature 309 > 15.0)\\n         Predict: 0.18402538780011568\\n      Else (feature 307 > 35.0)\\n       If (feature 308 <= 19.0)\\n        If (feature 18 in {1.0})\\n         Predict: 0.18142845664367033\\n        Else (feature 18 not in {1.0})\\n         Predict: 0.18591148899304236\\n       Else (feature 308 > 19.0)\\n        If (feature 309 <= 14.0)\\n         Predict: 0.19040033618846333\\n        Else (feature 309 > 14.0)\\n         Predict: 0.2036144942275837\\n    Else (feature 309 > 59.0)\\n     If (feature 306 in {0.0})\\n      If (feature 309 <= 93.0)\\n       If (feature 16 in {0.0})\\n        If (feature 0 in {0.0,4.0,6.0,9.0,12.0,13.0,16.0,19.0})\\n         Predict: 0.19830863425381584\\n        Else (feature 0 not in {0.0,4.0,6.0,9.0,12.0,13.0,16.0,19.0})\\n         Predict: 0.19985879964389616\\n       Else (feature 16 not in {0.0})\\n        If (feature 307 <= 42.0)\\n         Predict: 0.19528794554013806\\n        Else (feature 307 > 42.0)\\n         Predict: 0.2086305948433738\\n      Else (feature 309 > 93.0)\\n       If (feature 0 in {0.0,2.0,4.0,6.0,19.0})\\n        If (feature 0 in {0.0})\\n         Predict: 0.22184543689546687\\n        Else (feature 0 not in {0.0})\\n         Predict: 0.22450439971770983\\n       Else (feature 0 not in {0.0,2.0,4.0,6.0,19.0})\\n        If (feature 307 <= 42.0)\\n         Predict: 0.22663999513137764\\n        Else (feature 307 > 42.0)\\n         Predict: 0.24127079217795866\\n     Else (feature 306 not in {0.0})\\n      If (feature 11 in {1.0})\\n       If (feature 308 <= 19.0)\\n        If (feature 310 <= 4.0)\\n         Predict: 0.2137009722612091\\n        Else (feature 310 > 4.0)\\n         Predict: 0.21776175877592735\\n       Else (feature 308 > 19.0)\\n        Predict: 0.2289429530201351\\n      Else (feature 11 not in {1.0})\\n       If (feature 309 <= 93.0)\\n        If (feature 307 <= 42.0)\\n         Predict: 0.1969182671986309\\n        Else (feature 307 > 42.0)\\n         Predict: 0.21131069877615552\\n       Else (feature 309 > 93.0)\\n        If (feature 307 <= 28.0)\\n         Predict: 0.24360306640640186\\n        Else (feature 307 > 28.0)\\n         Predict: 0.25821089545921766\\n  Tree 1 (weight 1.0):\\n    If (feature 6 in {1.0})\\n     If (feature 304 in {0.0})\\n      If (feature 309 <= 59.0)\\n       If (feature 307 <= 25.0)\\n        If (feature 309 <= 14.0)\\n         Predict: 0.1719733059357401\\n        Else (feature 309 > 14.0)\\n         Predict: 0.18197578352424348\\n       Else (feature 307 > 25.0)\\n        If (feature 309 <= 14.0)\\n         Predict: 0.17619801342281882\\n        Else (feature 309 > 14.0)\\n         Predict: 0.18739468535624948\\n      Else (feature 309 > 59.0)\\n       If (feature 303 in {1.0})\\n        If (feature 309 <= 93.0)\\n         Predict: 0.19647671344315637\\n        Else (feature 309 > 93.0)\\n         Predict: 0.21803397311818232\\n       Else (feature 303 not in {1.0})\\n        If (feature 309 <= 93.0)\\n         Predict: 0.19778264050152683\\n        Else (feature 309 > 93.0)\\n         Predict: 0.22601199853255355\\n     Else (feature 304 not in {0.0})\\n      If (feature 0 in {0.0,2.0,4.0,5.0,7.0,8.0,11.0,13.0})\\n       If (feature 308 <= 13.0)\\n        If (feature 311 <= 0.4518279135528176)\\n         Predict: 0.1757292049419907\\n        Else (feature 311 > 0.4518279135528176)\\n         Predict: 0.17942211074202097\\n       Else (feature 308 > 13.0)\\n        If (feature 307 <= 28.0)\\n         Predict: 0.179748074564444\\n        Else (feature 307 > 28.0)\\n         Predict: 0.19934699800471647\\n      Else (feature 0 not in {0.0,2.0,4.0,5.0,7.0,8.0,11.0,13.0})\\n       If (feature 309 <= 59.0)\\n        If (feature 311 <= 0.3098363966875379)\\n         Predict: 0.1748929022802189\\n        Else (feature 311 > 0.3098363966875379)\\n         Predict: 0.17609077990235392\\n       Else (feature 309 > 59.0)\\n        If (feature 310 <= 2.0)\\n         Predict: 0.21333892617449662\\n        Else (feature 310 > 2.0)\\n         Predict: 0.21158229377753818\\n    Else (feature 6 not in {1.0})\\n     If (feature 309 <= 59.0)\\n      If (feature 305 in {0.0})\\n       If (feature 309 <= 13.0)\\n        If (feature 309 <= -1.0)\\n         Predict: 0.1719328979333004\\n        Else (feature 309 > -1.0)\\n         Predict: 0.174793932330234\\n       Else (feature 309 > 13.0)\\n        If (feature 0 in {0.0,9.0,16.0,17.0,19.0})\\n         Predict: 0.18238373804812208\\n        Else (feature 0 not in {0.0,9.0,16.0,17.0,19.0})\\n         Predict: 0.18415007655178295\\n      Else (feature 305 not in {0.0})\\n       If (feature 0 in {2.0,4.0,12.0,14.0,16.0,18.0,19.0})\\n        If (feature 309 <= 14.0)\\n         Predict: 0.1724227567930749\\n        Else (feature 309 > 14.0)\\n         Predict: 0.184626826452256\\n       Else (feature 0 not in {2.0,4.0,12.0,14.0,16.0,18.0,19.0})\\n        If (feature 309 <= 15.0)\\n         Predict: 0.17319721199681565\\n        Else (feature 309 > 15.0)\\n         Predict: 0.184671814054103\\n     Else (feature 309 > 59.0)\\n      If (feature 307 <= 42.0)\\n       If (feature 308 <= 13.0)\\n        If (feature 309 <= 93.0)\\n         Predict: 0.19782883929875916\\n        Else (feature 309 > 93.0)\\n         Predict: 0.22527246707719367\\n       Else (feature 308 > 13.0)\\n        If (feature 307 <= 23.0)\\n         Predict: 0.21943333135926318\\n        Else (feature 307 > 23.0)\\n         Predict: 0.22445449751674013\\n      Else (feature 307 > 42.0)\\n       If (feature 173 in {0.0})\\n        If (feature 12 in {1.0})\\n         Predict: 0.22110456166506262\\n        Else (feature 12 not in {1.0})\\n         Predict: 0.23038774962080452\\n       Else (feature 173 not in {0.0})\\n        If (feature 309 <= 93.0)\\n         Predict: 0.2162294081757169\\n        Else (feature 309 > 93.0)\\n         Predict: 0.3569179143004646\\n  Tree 2 (weight 1.0):\\n    If (feature 307 <= 35.0)\\n     If (feature 309 <= 59.0)\\n      If (feature 307 <= 18.0)\\n       If (feature 0 in {4.0,12.0,14.0})\\n        If (feature 309 <= 13.0)\\n         Predict: 0.17083173587213968\\n        Else (feature 309 > 13.0)\\n         Predict: 0.18146691478336394\\n       Else (feature 0 not in {4.0,12.0,14.0})\\n        If (feature 303 in {1.0})\\n         Predict: 0.1728022460743648\\n        Else (feature 303 not in {1.0})\\n         Predict: 0.17392719490156472\\n      Else (feature 307 > 18.0)\\n       If (feature 16 in {1.0})\\n        If (feature 0 in {4.0,5.0,10.0,15.0})\\n         Predict: 0.17022937948662656\\n        Else (feature 0 not in {4.0,5.0,10.0,15.0})\\n         Predict: 0.1727353394322378\\n       Else (feature 16 not in {1.0})\\n        If (feature 21 in {1.0})\\n         Predict: 0.17414120662274157\\n        Else (feature 21 not in {1.0})\\n         Predict: 0.1765122125616462\\n     Else (feature 309 > 59.0)\\n      If (feature 306 in {0.0})\\n       If (feature 308 <= 11.0)\\n        If (feature 308 <= 5.0)\\n         Predict: 0.20919850725753922\\n        Else (feature 308 > 5.0)\\n         Predict: 0.21247779817687681\\n       Else (feature 308 > 11.0)\\n        If (feature 184 in {0.0})\\n         Predict: 0.2182278358219676\\n        Else (feature 184 not in {0.0})\\n         Predict: 0.2544323266219332\\n      Else (feature 306 not in {0.0})\\n       If (feature 8 in {1.0})\\n        If (feature 0 in {4.0,5.0,6.0,8.0,9.0,11.0,13.0,14.0,18.0})\\n         Predict: 0.20794778032955027\\n        Else (feature 0 not in {4.0,5.0,6.0,8.0,9.0,11.0,13.0,14.0,18.0})\\n         Predict: 0.24474668884005468\\n       Else (feature 8 not in {1.0})\\n        If (feature 309 <= 93.0)\\n         Predict: 0.19755966634065178\\n        Else (feature 309 > 93.0)\\n         Predict: 0.24320529730349705\\n    Else (feature 307 > 35.0)\\n     If (feature 0 in {4.0,5.0,8.0,9.0,10.0,12.0,13.0,14.0,15.0,16.0,19.0})\\n      If (feature 309 <= 59.0)\\n       If (feature 18 in {1.0})\\n        If (feature 309 <= 12.0)\\n         Predict: 0.17815307089332796\\n        Else (feature 309 > 12.0)\\n         Predict: 0.18999897606791474\\n       Else (feature 18 not in {1.0})\\n        If (feature 309 <= 15.0)\\n         Predict: 0.18173056940392351\\n        Else (feature 309 > 15.0)\\n         Predict: 0.1943360890970341\\n      Else (feature 309 > 59.0)\\n       If (feature 309 <= 93.0)\\n        If (feature 308 <= 21.0)\\n         Predict: 0.2083600191111859\\n        Else (feature 308 > 21.0)\\n         Predict: 0.22160768761439983\\n       Else (feature 309 > 93.0)\\n        If (feature 306 in {0.0})\\n         Predict: 0.23760788624637547\\n        Else (feature 306 not in {0.0})\\n         Predict: 0.2558855573956242\\n     Else (feature 0 not in {4.0,5.0,8.0,9.0,10.0,12.0,13.0,14.0,15.0,16.0,19.0})\\n      If (feature 308 <= 19.0)\\n       If (feature 303 in {1.0})\\n        If (feature 309 <= 41.0)\\n         Predict: 0.18496989436177522\\n        Else (feature 309 > 41.0)\\n         Predict: 0.2164167205033351\\n       Else (feature 303 not in {1.0})\\n        If (feature 305 in {0.0})\\n         Predict: 0.19518056551402185\\n        Else (feature 305 not in {0.0})\\n         Predict: 0.19964948399283\\n      Else (feature 308 > 19.0)\\n       If (feature 309 <= 93.0)\\n        If (feature 309 <= 14.0)\\n         Predict: 0.19185472496473907\\n        Else (feature 309 > 14.0)\\n         Predict: 0.2114774961327738\\n       Else (feature 309 > 93.0)\\n        If (feature 306 in {0.0})\\n         Predict: 0.2576350211238122\\n        Else (feature 306 not in {0.0})\\n         Predict: 0.39463087248321926\\n  Tree 3 (weight 1.0):\\n    If (feature 307 <= 35.0)\\n     If (feature 308 <= 17.0)\\n      If (feature 305 in {0.0})\\n       If (feature 308 <= 8.0)\\n        If (feature 309 <= 59.0)\\n         Predict: 0.17339476033164664\\n        Else (feature 309 > 59.0)\\n         Predict: 0.21043989945814065\\n       Else (feature 308 > 8.0)\\n        If (feature 304 in {0.0})\\n         Predict: 0.17500257212053458\\n        Else (feature 304 not in {0.0})\\n         Predict: 0.1775619457443535\\n      Else (feature 305 not in {0.0})\\n       If (feature 309 <= 59.0)\\n        If (feature 309 <= 15.0)\\n         Predict: 0.17245632965667432\\n        Else (feature 309 > 15.0)\\n         Predict: 0.18360139612404777\\n       Else (feature 309 > 59.0)\\n        If (feature 309 <= 93.0)\\n         Predict: 0.19753967557330618\\n        Else (feature 309 > 93.0)\\n         Predict: 0.22466981518479132\\n     Else (feature 308 > 17.0)\\n      If (feature 303 in {1.0})\\n       If (feature 308 <= 32.0)\\n        If (feature 307 <= 18.0)\\n         Predict: 0.1767119448324931\\n        Else (feature 307 > 18.0)\\n         Predict: 0.18050936407178278\\n       Else (feature 308 > 32.0)\\n        If (feature 144 in {0.0})\\n         Predict: 0.1840085125176642\\n        Else (feature 144 not in {0.0})\\n         Predict: 0.21759348034515824\\n      Else (feature 303 not in {1.0})\\n       If (feature 309 <= 59.0)\\n        If (feature 307 <= 19.0)\\n         Predict: 0.17783761312474697\\n        Else (feature 307 > 19.0)\\n         Predict: 0.18219748177768655\\n       Else (feature 309 > 59.0)\\n        If (feature 0 in {1.0,2.0,4.0,5.0,9.0,12.0,15.0})\\n         Predict: 0.21956091991724278\\n        Else (feature 0 not in {1.0,2.0,4.0,5.0,9.0,12.0,15.0})\\n         Predict: 0.22571334810845103\\n    Else (feature 307 > 35.0)\\n     If (feature 307 <= 42.0)\\n      If (feature 305 in {0.0})\\n       If (feature 308 <= 19.0)\\n        If (feature 304 in {0.0})\\n         Predict: 0.1814123040215789\\n        Else (feature 304 not in {0.0})\\n         Predict: 0.18564324328180318\\n       Else (feature 308 > 19.0)\\n        If (feature 0 in {1.0,4.0,5.0,6.0,7.0,8.0,9.0,10.0,11.0,12.0,13.0,14.0,15.0,16.0,17.0})\\n         Predict: 0.19269565178197165\\n        Else (feature 0 not in {1.0,4.0,5.0,6.0,7.0,8.0,9.0,10.0,11.0,12.0,13.0,14.0,15.0,16.0,17.0})\\n         Predict: 0.2077248659404403\\n      Else (feature 305 not in {0.0})\\n       If (feature 309 <= 93.0)\\n        If (feature 309 <= 30.0)\\n         Predict: 0.17864924185791553\\n        Else (feature 309 > 30.0)\\n         Predict: 0.19681812057306006\\n       Else (feature 309 > 93.0)\\n        If (feature 308 <= 15.0)\\n         Predict: 0.23022210465077061\\n        Else (feature 308 > 15.0)\\n         Predict: 0.24586638194020854\\n     Else (feature 307 > 42.0)\\n      If (feature 309 <= 59.0)\\n       If (feature 0 in {4.0,5.0,7.0,9.0,12.0,13.0,14.0,15.0,18.0})\\n        If (feature 309 <= 15.0)\\n         Predict: 0.1838089665406541\\n        Else (feature 309 > 15.0)\\n         Predict: 0.1971172232510024\\n       Else (feature 0 not in {4.0,5.0,7.0,9.0,12.0,13.0,14.0,15.0,18.0})\\n        If (feature 309 <= 13.0)\\n         Predict: 0.18705230581474086\\n        Else (feature 309 > 13.0)\\n         Predict: 0.20001519905185597\\n      Else (feature 309 > 59.0)\\n       If (feature 165 in {0.0})\\n        If (feature 0 in {4.0,5.0,7.0,9.0,15.0,17.0,18.0})\\n         Predict: 0.22586883345833503\\n        Else (feature 0 not in {4.0,5.0,7.0,9.0,15.0,17.0,18.0})\\n         Predict: 0.23145528293989837\\n       Else (feature 165 not in {0.0})\\n        If (feature 0 in {2.0,12.0,13.0,15.0})\\n         Predict: 0.26052471018913975\\n        Else (feature 0 not in {2.0,12.0,13.0,15.0})\\n         Predict: 0.31812080536912757\\n  Tree 4 (weight 1.0):\\n    If (feature 309 <= 59.0)\\n     If (feature 309 <= 14.0)\\n      If (feature 309 <= -1.0)\\n       If (feature 307 <= 29.0)\\n        If (feature 307 <= 16.0)\\n         Predict: 0.17089084556802744\\n        Else (feature 307 > 16.0)\\n         Predict: 0.17291635602720326\\n       Else (feature 307 > 29.0)\\n        If (feature 308 <= 10.0)\\n         Predict: 0.17787263597971453\\n        Else (feature 308 > 10.0)\\n         Predict: 0.18090293054829248\\n      Else (feature 309 > -1.0)\\n       If (feature 309 <= 5.0)\\n        If (feature 307 <= 35.0)\\n         Predict: 0.17359067632961434\\n        Else (feature 307 > 35.0)\\n         Predict: 0.1830656680428894\\n       Else (feature 309 > 5.0)\\n        If (feature 308 <= 12.0)\\n         Predict: 0.17649431517363448\\n        Else (feature 308 > 12.0)\\n         Predict: 0.17983845374320695\\n     Else (feature 309 > 14.0)\\n      If (feature 308 <= 14.0)\\n       If (feature 308 <= 7.0)\\n        If (feature 309 <= 30.0)\\n         Predict: 0.18035485312053737\\n        Else (feature 309 > 30.0)\\n         Predict: 0.1876295216467517\\n       Else (feature 308 > 7.0)\\n        If (feature 311 <= 0.23793173096344172)\\n         Predict: 0.185378576574878\\n        Else (feature 311 > 0.23793173096344172)\\n         Predict: 0.1838661366234627\\n      Else (feature 308 > 14.0)\\n       If (feature 307 <= 42.0)\\n        If (feature 308 <= 32.0)\\n         Predict: 0.18711334363565546\\n        Else (feature 308 > 32.0)\\n         Predict: 0.1958637117151918\\n       Else (feature 307 > 42.0)\\n        If (feature 162 in {0.0})\\n         Predict: 0.20427259029494882\\n        Else (feature 162 not in {0.0})\\n         Predict: 0.23674496644295573\\n    Else (feature 309 > 59.0)\\n     If (feature 304 in {1.0})\\n      If (feature 308 <= 8.0)\\n       If (feature 307 <= 32.0)\\n        If (feature 85 in {0.0})\\n         Predict: 0.20866224741397013\\n        Else (feature 85 not in {0.0})\\n         Predict: 0.22034777303234118\\n       Else (feature 307 > 32.0)\\n        If (feature 307 <= 42.0)\\n         Predict: 0.2174679930065023\\n        Else (feature 307 > 42.0)\\n         Predict: 0.22673998716668867\\n      Else (feature 308 > 8.0)\\n       If (feature 307 <= 42.0)\\n        If (feature 309 <= 93.0)\\n         Predict: 0.20037258865301105\\n        Else (feature 309 > 93.0)\\n         Predict: 0.2287052540122218\\n       Else (feature 307 > 42.0)\\n        If (feature 309 <= 93.0)\\n         Predict: 0.21589192728495388\\n        Else (feature 309 > 93.0)\\n         Predict: 0.24718730223218827\\n     Else (feature 304 not in {1.0})\\n      If (feature 307 <= 42.0)\\n       If (feature 309 <= 93.0)\\n        If (feature 16 in {1.0})\\n         Predict: 0.19402272944034776\\n        Else (feature 16 not in {1.0})\\n         Predict: 0.1981447542323171\\n       Else (feature 309 > 93.0)\\n        If (feature 281 in {0.0})\\n         Predict: 0.22674338039407874\\n        Else (feature 281 not in {0.0})\\n         Predict: 0.5063758389260329\\n      Else (feature 307 > 42.0)\\n       If (feature 0 in {4.0,7.0,9.0,10.0,15.0,16.0})\\n        If (feature 12 in {1.0})\\n         Predict: 0.21994600399860273\\n        Else (feature 12 not in {1.0})\\n         Predict: 0.2284973391587296\\n       Else (feature 0 not in {4.0,7.0,9.0,10.0,15.0,16.0})\\n        If (feature 25 in {0.0})\\n         Predict: 0.23236422996733905\\n        Else (feature 25 not in {0.0})\\n         Predict: 0.25167500853145397\\n  Tree 5 (weight 1.0):\\n    If (feature 305 in {0.0})\\n     If (feature 308 <= 14.0)\\n      If (feature 307 <= 33.0)\\n       If (feature 308 <= 8.0)\\n        If (feature 309 <= 59.0)\\n         Predict: 0.17335509638099114\\n        Else (feature 309 > 59.0)\\n         Predict: 0.2103377912925283\\n       Else (feature 308 > 8.0)\\n        If (feature 307 <= 19.0)\\n         Predict: 0.17518618019298474\\n        Else (feature 307 > 19.0)\\n         Predict: 0.17911987294486104\\n      Else (feature 307 > 33.0)\\n       If (feature 307 <= 42.0)\\n        If (feature 0 in {4.0,5.0,9.0,14.0,15.0,16.0,19.0})\\n         Predict: 0.18052632509730165\\n        Else (feature 0 not in {4.0,5.0,9.0,14.0,15.0,16.0,19.0})\\n         Predict: 0.18422207393940182\\n       Else (feature 307 > 42.0)\\n        If (feature 0 in {4.0,5.0,8.0,9.0,10.0,12.0,13.0,14.0,15.0})\\n         Predict: 0.1900653282091542\\n        Else (feature 0 not in {4.0,5.0,8.0,9.0,10.0,12.0,13.0,14.0,15.0})\\n         Predict: 0.1954470021491757\\n     Else (feature 308 > 14.0)\\n      If (feature 307 <= 34.0)\\n       If (feature 311 <= 0.1815794788931529)\\n        If (feature 0 in {4.0,8.0,9.0,12.0,19.0})\\n         Predict: 0.1767748204904478\\n        Else (feature 0 not in {4.0,8.0,9.0,12.0,19.0})\\n         Predict: 0.17925630313562982\\n       Else (feature 311 > 0.1815794788931529)\\n        If (feature 304 in {0.0})\\n         Predict: 0.17757586841300857\\n        Else (feature 304 not in {0.0})\\n         Predict: 0.18139001683267336\\n      Else (feature 307 > 34.0)\\n       If (feature 307 <= 42.0)\\n        If (feature 309 <= 93.0)\\n         Predict: 0.18604985618408437\\n        Else (feature 309 > 93.0)\\n         Predict: 0.24245835085858503\\n       Else (feature 307 > 42.0)\\n        If (feature 303 in {1.0})\\n         Predict: 0.19762472792513164\\n        Else (feature 303 not in {1.0})\\n         Predict: 0.20608267283711465\\n    Else (feature 305 not in {0.0})\\n     If (feature 309 <= 59.0)\\n      If (feature 2 in {0.0})\\n       If (feature 0 in {2.0,4.0,12.0,13.0,14.0,16.0,18.0,19.0})\\n        If (feature 309 <= 14.0)\\n         Predict: 0.1724987878395312\\n        Else (feature 309 > 14.0)\\n         Predict: 0.18454309053086465\\n       Else (feature 0 not in {2.0,4.0,12.0,13.0,14.0,16.0,18.0,19.0})\\n        If (feature 307 <= 42.0)\\n         Predict: 0.17537722231015143\\n        Else (feature 307 > 42.0)\\n         Predict: 0.18831862754417858\\n      Else (feature 2 not in {0.0})\\n       If (feature 309 <= 15.0)\\n        If (feature 0 in {9.0})\\n         Predict: 0.16755656360965993\\n        Else (feature 0 not in {9.0})\\n         Predict: 0.17320624692289177\\n       Else (feature 309 > 15.0)\\n        If (feature 310 <= 5.0)\\n         Predict: 0.1860450000179226\\n        Else (feature 310 > 5.0)\\n         Predict: 0.1850715195577418\\n     Else (feature 309 > 59.0)\\n      If (feature 309 <= 93.0)\\n       If (feature 307 <= 42.0)\\n        If (feature 12 in {1.0})\\n         Predict: 0.19507377250110977\\n        Else (feature 12 not in {1.0})\\n         Predict: 0.19806270599197173\\n       Else (feature 307 > 42.0)\\n        If (feature 12 in {1.0})\\n         Predict: 0.20598109419942476\\n        Else (feature 12 not in {1.0})\\n         Predict: 0.2127461740818674\\n      Else (feature 309 > 93.0)\\n       If (feature 0 in {0.0,4.0,19.0})\\n        If (feature 24 in {0.0})\\n         Predict: 0.2228929995380092\\n        Else (feature 24 not in {0.0})\\n         Predict: 0.2272108591402326\\n       Else (feature 0 not in {0.0,4.0,19.0})\\n        If (feature 284 in {0.0})\\n         Predict: 0.22744059298909164\\n        Else (feature 284 not in {0.0})\\n         Predict: 0.42516778523531684\\n  Tree 6 (weight 1.0):\\n    If (feature 309 <= 59.0)\\n     If (feature 308 <= 17.0)\\n      If (feature 307 <= 34.0)\\n       If (feature 309 <= 14.0)\\n        If (feature 307 <= 18.0)\\n         Predict: 0.1718121488863848\\n        Else (feature 307 > 18.0)\\n         Predict: 0.17444039354869673\\n       Else (feature 309 > 14.0)\\n        If (feature 307 <= 19.0)\\n         Predict: 0.18230962337046025\\n        Else (feature 307 > 19.0)\\n         Predict: 0.18536994906718549\\n      Else (feature 307 > 34.0)\\n       If (feature 18 in {1.0})\\n        If (feature 307 <= 42.0)\\n         Predict: 0.17702186363417124\\n        Else (feature 307 > 42.0)\\n         Predict: 0.18355817576087907\\n       Else (feature 18 not in {1.0})\\n        If (feature 16 in {1.0})\\n         Predict: 0.18068962704014022\\n        Else (feature 16 not in {1.0})\\n         Predict: 0.1857562063006926\\n     Else (feature 308 > 17.0)\\n      If (feature 309 <= 13.0)\\n       If (feature 307 <= 35.0)\\n        If (feature 309 <= -2.0)\\n         Predict: 0.17543008614916508\\n        Else (feature 309 > -2.0)\\n         Predict: 0.17866752412470602\\n       Else (feature 307 > 35.0)\\n        If (feature 307 <= 42.0)\\n         Predict: 0.1835705766115394\\n        Else (feature 307 > 42.0)\\n         Predict: 0.19250064889317364\\n      Else (feature 309 > 13.0)\\n       If (feature 307 <= 42.0)\\n        If (feature 16 in {1.0})\\n         Predict: 0.18402730219604618\\n        Else (feature 16 not in {1.0})\\n         Predict: 0.18904373681375183\\n       Else (feature 307 > 42.0)\\n        If (feature 33 in {0.0})\\n         Predict: 0.20627802174533466\\n        Else (feature 33 not in {0.0})\\n         Predict: 0.22560660815694378\\n    Else (feature 309 > 59.0)\\n     If (feature 308 <= 13.0)\\n      If (feature 306 in {0.0})\\n       If (feature 309 <= 93.0)\\n        If (feature 307 <= 42.0)\\n         Predict: 0.19781034688772553\\n        Else (feature 307 > 42.0)\\n         Predict: 0.21245262780059465\\n       Else (feature 309 > 93.0)\\n        If (feature 308 <= 6.0)\\n         Predict: 0.22403378561649728\\n        Else (feature 308 > 6.0)\\n         Predict: 0.2280664479103498\\n      Else (feature 306 not in {0.0})\\n       If (feature 309 <= 93.0)\\n        If (feature 8 in {1.0})\\n         Predict: 0.19504101416853095\\n        Else (feature 8 not in {1.0})\\n         Predict: 0.1980375046109971\\n       Else (feature 309 > 93.0)\\n        If (feature 5 in {1.0})\\n         Predict: 0.22530375664603852\\n        Else (feature 5 not in {1.0})\\n         Predict: 0.2439713045290486\\n     Else (feature 308 > 13.0)\\n      If (feature 309 <= 93.0)\\n       If (feature 307 <= 42.0)\\n        If (feature 311 <= 0.23793173096344172)\\n         Predict: 0.20280099408430946\\n        Else (feature 311 > 0.23793173096344172)\\n         Predict: 0.20122522241298593\\n       Else (feature 307 > 42.0)\\n        If (feature 46 in {0.0})\\n         Predict: 0.21881788106699387\\n        Else (feature 46 not in {0.0})\\n         Predict: 0.2328020134228197\\n      Else (feature 309 > 93.0)\\n       If (feature 307 <= 42.0)\\n        If (feature 308 <= 32.0)\\n         Predict: 0.23156066981799306\\n        Else (feature 308 > 32.0)\\n         Predict: 0.24535932178074765\\n       Else (feature 307 > 42.0)\\n        If (feature 308 <= 30.0)\\n         Predict: 0.2483744637598839\\n        Else (feature 308 > 30.0)\\n         Predict: 0.2625805810667609\\n  Tree 7 (weight 1.0):\\n    If (feature 309 <= 59.0)\\n     If (feature 308 <= 17.0)\\n      If (feature 309 <= 14.0)\\n       If (feature 309 <= -1.0)\\n        If (feature 309 <= -5.0)\\n         Predict: 0.17101748341157638\\n        Else (feature 309 > -5.0)\\n         Predict: 0.17235284380779098\\n       Else (feature 309 > -1.0)\\n        If (feature 309 <= 5.0)\\n         Predict: 0.1738839177212113\\n        Else (feature 309 > 5.0)\\n         Predict: 0.17658437360842658\\n      Else (feature 309 > 14.0)\\n       If (feature 309 <= 30.0)\\n        If (feature 309 <= 21.0)\\n         Predict: 0.17950014892900665\\n        Else (feature 309 > 21.0)\\n         Predict: 0.18226574890297945\\n       Else (feature 309 > 30.0)\\n        If (feature 307 <= 42.0)\\n         Predict: 0.18727960701218138\\n        Else (feature 307 > 42.0)\\n         Predict: 0.20190548666931687\\n     Else (feature 308 > 17.0)\\n      If (feature 309 <= 13.0)\\n       If (feature 0 in {9.0,12.0,19.0})\\n        If (feature 307 <= 29.0)\\n         Predict: 0.17468883839791152\\n        Else (feature 307 > 29.0)\\n         Predict: 0.1838113038096051\\n       Else (feature 0 not in {9.0,12.0,19.0})\\n        If (feature 309 <= -1.0)\\n         Predict: 0.1761611875241743\\n        Else (feature 309 > -1.0)\\n         Predict: 0.1798220284148099\\n      Else (feature 309 > 13.0)\\n       If (feature 9 in {0.0})\\n        If (feature 311 <= 0.27307614623308424)\\n         Predict: 0.19043042045074404\\n        Else (feature 311 > 0.27307614623308424)\\n         Predict: 0.1881138963169177\\n       Else (feature 9 not in {0.0})\\n        If (feature 309 <= 30.0)\\n         Predict: 0.18796161203514572\\n        Else (feature 309 > 30.0)\\n         Predict: 0.19821702919058784\\n    Else (feature 309 > 59.0)\\n     If (feature 309 <= 93.0)\\n      If (feature 307 <= 42.0)\\n       If (feature 307 <= 20.0)\\n        If (feature 308 <= 15.0)\\n         Predict: 0.19696121438311026\\n        Else (feature 308 > 15.0)\\n         Predict: 0.2026648208419\\n       Else (feature 307 > 20.0)\\n        If (feature 12 in {1.0})\\n         Predict: 0.19746269196829971\\n        Else (feature 12 not in {1.0})\\n         Predict: 0.20142127569375134\\n      Else (feature 307 > 42.0)\\n       If (feature 12 in {1.0})\\n        Predict: 0.20754812593173094\\n       Else (feature 12 not in {1.0})\\n        If (feature 16 in {1.0})\\n         Predict: 0.2087240029631923\\n        Else (feature 16 not in {1.0})\\n         Predict: 0.21457397840117165\\n     Else (feature 309 > 93.0)\\n      If (feature 308 <= 7.0)\\n       If (feature 304 in {1.0})\\n        If (feature 311 <= 0.3098363966875379)\\n         Predict: 0.2231960632313797\\n        Else (feature 311 > 0.3098363966875379)\\n         Predict: 0.22618104304843634\\n       Else (feature 304 not in {1.0})\\n        If (feature 306 in {0.0})\\n         Predict: 0.22499019595909703\\n        Else (feature 306 not in {0.0})\\n         Predict: 0.24314999116223504\\n      Else (feature 308 > 7.0)\\n       If (feature 307 <= 42.0)\\n        If (feature 308 <= 32.0)\\n         Predict: 0.22867136695853685\\n        Else (feature 308 > 32.0)\\n         Predict: 0.24581428525111051\\n       Else (feature 307 > 42.0)\\n        If (feature 308 <= 21.0)\\n         Predict: 0.24366257541589748\\n        Else (feature 308 > 21.0)\\n         Predict: 0.25785888023062054\\n  Tree 8 (weight 1.0):\\n    If (feature 307 <= 33.0)\\n     If (feature 305 in {0.0})\\n      If (feature 309 <= 59.0)\\n       If (feature 308 <= 17.0)\\n        If (feature 307 <= 18.0)\\n         Predict: 0.17294085674210405\\n        Else (feature 307 > 18.0)\\n         Predict: 0.17586113686687008\\n       Else (feature 308 > 17.0)\\n        If (feature 304 in {0.0})\\n         Predict: 0.17722206648114455\\n        Else (feature 304 not in {0.0})\\n         Predict: 0.17838223172143658\\n      Else (feature 309 > 59.0)\\n       If (feature 0 in {0.0,1.0,2.0,3.0,4.0,5.0,6.0,7.0,9.0,10.0,11.0,12.0,13.0,15.0,16.0,17.0,19.0})\\n        If (feature 307 <= 20.0)\\n         Predict: 0.2105430484278443\\n        Else (feature 307 > 20.0)\\n         Predict: 0.21437234927620916\\n       Else (feature 0 not in {0.0,1.0,2.0,3.0,4.0,5.0,6.0,7.0,9.0,10.0,11.0,12.0,13.0,15.0,16.0,17.0,19.0})\\n        If (feature 45 in {0.0})\\n         Predict: 0.21772785691670635\\n        Else (feature 45 not in {0.0})\\n         Predict: 0.29314786750379546\\n     Else (feature 305 not in {0.0})\\n      If (feature 309 <= 59.0)\\n       If (feature 308 <= 16.0)\\n        If (feature 0 in {2.0,4.0,12.0,14.0,18.0,19.0})\\n         Predict: 0.1734235694475871\\n        Else (feature 0 not in {2.0,4.0,12.0,14.0,18.0,19.0})\\n         Predict: 0.17507395702253734\\n       Else (feature 308 > 16.0)\\n        If (feature 309 <= 13.0)\\n         Predict: 0.17616804962770105\\n        Else (feature 309 > 13.0)\\n         Predict: 0.18896534135173343\\n      Else (feature 309 > 59.0)\\n       If (feature 0 in {0.0,4.0,8.0,17.0})\\n        If (feature 309 <= 93.0)\\n         Predict: 0.1973203536276962\\n        Else (feature 309 > 93.0)\\n         Predict: 0.22244963653506075\\n       Else (feature 0 not in {0.0,4.0,8.0,17.0})\\n        If (feature 3 in {1.0})\\n         Predict: 0.209227128566353\\n        Else (feature 3 not in {1.0})\\n         Predict: 0.21420499792575193\\n    Else (feature 307 > 33.0)\\n     If (feature 307 <= 42.0)\\n      If (feature 303 in {1.0})\\n       If (feature 0 in {4.0,5.0,7.0,9.0,14.0,15.0,16.0,19.0})\\n        If (feature 309 <= 41.0)\\n         Predict: 0.17788550306948245\\n        Else (feature 309 > 41.0)\\n         Predict: 0.20577114248481887\\n       Else (feature 0 not in {4.0,5.0,7.0,9.0,14.0,15.0,16.0,19.0})\\n        If (feature 18 in {1.0})\\n         Predict: 0.1774543497060488\\n        Else (feature 18 not in {1.0})\\n         Predict: 0.1827784404866364\\n      Else (feature 303 not in {1.0})\\n       If (feature 0 in {4.0,5.0,7.0,8.0,9.0,12.0,14.0,15.0,16.0,18.0})\\n        If (feature 310 <= 4.0)\\n         Predict: 0.1839219139958596\\n        Else (feature 310 > 4.0)\\n         Predict: 0.18644491290924392\\n       Else (feature 0 not in {4.0,5.0,7.0,8.0,9.0,12.0,14.0,15.0,16.0,18.0})\\n        If (feature 18 in {1.0})\\n         Predict: 0.183500248294441\\n        Else (feature 18 not in {1.0})\\n         Predict: 0.19051146559706106\\n     Else (feature 307 > 42.0)\\n      If (feature 303 in {1.0})\\n       If (feature 308 <= 15.0)\\n        If (feature 12 in {1.0})\\n         Predict: 0.18318881346068233\\n        Else (feature 12 not in {1.0})\\n         Predict: 0.1896662129703114\\n       Else (feature 308 > 15.0)\\n        If (feature 0 in {0.0,1.0,2.0,4.0,5.0,6.0,7.0,8.0,9.0,10.0,11.0,12.0,13.0,14.0,15.0,16.0,17.0})\\n         Predict: 0.1973704254963606\\n        Else (feature 0 not in {0.0,1.0,2.0,4.0,5.0,6.0,7.0,8.0,9.0,10.0,11.0,12.0,13.0,14.0,15.0,16.0,17.0})\\n         Predict: 0.21554713828959882\\n      Else (feature 303 not in {1.0})\\n       If (feature 308 <= 20.0)\\n        If (feature 309 <= 59.0)\\n         Predict: 0.1892365627707957\\n        Else (feature 309 > 59.0)\\n         Predict: 0.2288562757168114\\n       Else (feature 308 > 20.0)\\n        If (feature 309 <= 93.0)\\n         Predict: 0.20326947451534486\\n        Else (feature 309 > 93.0)\\n         Predict: 0.25833473154362424\\n  Tree 9 (weight 1.0):\\n    If (feature 309 <= 59.0)\\n     If (feature 309 <= 14.0)\\n      If (feature 1 in {0.0})\\n       If (feature 309 <= -1.0)\\n        If (feature 8 in {1.0})\\n         Predict: 0.17114722290535078\\n        Else (feature 8 not in {1.0})\\n         Predict: 0.17185248503839098\\n       Else (feature 309 > -1.0)\\n        If (feature 307 <= 35.0)\\n         Predict: 0.17437700004340959\\n        Else (feature 307 > 35.0)\\n         Predict: 0.18433839445335282\\n      Else (feature 1 not in {0.0})\\n       If (feature 307 <= 26.0)\\n        If (feature 307 <= 17.0)\\n         Predict: 0.1715972083116407\\n        Else (feature 307 > 17.0)\\n         Predict: 0.1737332828808869\\n       Else (feature 307 > 26.0)\\n        If (feature 307 <= 42.0)\\n         Predict: 0.17679255070319883\\n        Else (feature 307 > 42.0)\\n         Predict: 0.1860466266336983\\n     Else (feature 309 > 14.0)\\n      If (feature 309 <= 30.0)\\n       If (feature 8 in {1.0})\\n        If (feature 305 in {0.0})\\n         Predict: 0.1793369214434663\\n        Else (feature 305 not in {0.0})\\n         Predict: 0.1795617387021729\\n       Else (feature 8 not in {1.0})\\n        If (feature 307 <= 42.0)\\n         Predict: 0.1803351863707415\\n        Else (feature 307 > 42.0)\\n         Predict: 0.19424382342444935\\n      Else (feature 309 > 30.0)\\n       If (feature 307 <= 42.0)\\n        If (feature 307 <= 23.0)\\n         Predict: 0.18678834553901294\\n        Else (feature 307 > 23.0)\\n         Predict: 0.19121721925300447\\n       Else (feature 307 > 42.0)\\n        If (feature 309 <= 41.0)\\n         Predict: 0.19953222141656482\\n        Else (feature 309 > 41.0)\\n         Predict: 0.2046696468553823\\n    Else (feature 309 > 59.0)\\n     If (feature 307 <= 42.0)\\n      If (feature 309 <= 93.0)\\n       If (feature 307 <= 20.0)\\n        If (feature 308 <= 14.0)\\n         Predict: 0.19688894661732048\\n        Else (feature 308 > 14.0)\\n         Predict: 0.20205456351610193\\n       Else (feature 307 > 20.0)\\n        If (feature 0 in {4.0,5.0,6.0,7.0,9.0,14.0,15.0})\\n         Predict: 0.2000707354900487\\n        Else (feature 0 not in {4.0,5.0,6.0,7.0,9.0,14.0,15.0})\\n         Predict: 0.20213728194747788\\n      Else (feature 309 > 93.0)\\n       If (feature 308 <= 13.0)\\n        If (feature 307 <= 25.0)\\n         Predict: 0.22448284275894734\\n        Else (feature 307 > 25.0)\\n         Predict: 0.22926354952160066\\n       Else (feature 308 > 13.0)\\n        If (feature 307 <= 21.0)\\n         Predict: 0.23226886449406983\\n        Else (feature 307 > 21.0)\\n         Predict: 0.23697757289369836\\n     Else (feature 307 > 42.0)\\n      If (feature 306 in {0.0})\\n       If (feature 249 in {0.0})\\n        If (feature 12 in {1.0})\\n         Predict: 0.22071097044835014\\n        Else (feature 12 not in {1.0})\\n         Predict: 0.23001175914895075\\n       Else (feature 249 not in {0.0})\\n        Predict: 0.5197986577181837\\n      Else (feature 306 not in {0.0})\\n       If (feature 3 in {1.0})\\n        If (feature 311 <= 0.03736618864875783)\\n         Predict: 0.20906040268456375\\n        Else (feature 311 > 0.03736618864875783)\\n         Predict: 0.24815436241610742\\n       Else (feature 3 not in {1.0})\\n        If (feature 308 <= 22.0)\\n         Predict: 0.2621115861377152\\n        Else (feature 308 > 22.0)\\n         Predict: 0.36490891658676866\\n  Tree 10 (weight 1.0):\\n    If (feature 309 <= 59.0)\\n     If (feature 303 in {1.0})\\n      If (feature 0 in {0.0,4.0,12.0,14.0,16.0,18.0,19.0})\\n       If (feature 311 <= 0.10098969905069682)\\n        If (feature 310 <= 5.0)\\n         Predict: 0.17345810221268126\\n        Else (feature 310 > 5.0)\\n         Predict: 0.1730575171342447\\n       Else (feature 311 > 0.10098969905069682)\\n        If (feature 307 <= 28.0)\\n         Predict: 0.17232888540557914\\n        Else (feature 307 > 28.0)\\n         Predict: 0.17943436409189126\\n      Else (feature 0 not in {0.0,4.0,12.0,14.0,16.0,18.0,19.0})\\n       If (feature 307 <= 33.0)\\n        If (feature 308 <= 14.0)\\n         Predict: 0.1733529657356258\\n        Else (feature 308 > 14.0)\\n         Predict: 0.17653832362646044\\n       Else (feature 307 > 33.0)\\n        If (feature 0 in {5.0,7.0,9.0,10.0,13.0,15.0})\\n         Predict: 0.18162235106989952\\n        Else (feature 0 not in {5.0,7.0,9.0,10.0,13.0,15.0})\\n         Predict: 0.1849515937572259\\n     Else (feature 303 not in {1.0})\\n      If (feature 306 in {1.0})\\n       If (feature 309 <= 12.0)\\n        If (feature 0 in {0.0,2.0,4.0,6.0,13.0,14.0,16.0,19.0})\\n         Predict: 0.1717505906846953\\n        Else (feature 0 not in {0.0,2.0,4.0,6.0,13.0,14.0,16.0,19.0})\\n         Predict: 0.17266589921774744\\n       Else (feature 309 > 12.0)\\n        If (feature 308 <= 11.0)\\n         Predict: 0.18138658817291906\\n        Else (feature 308 > 11.0)\\n         Predict: 0.186044777413593\\n      Else (feature 306 not in {1.0})\\n       If (feature 308 <= 17.0)\\n        If (feature 305 in {0.0})\\n         Predict: 0.17466800542229866\\n        Else (feature 305 not in {0.0})\\n         Predict: 0.17535044100466243\\n       Else (feature 308 > 17.0)\\n        If (feature 309 <= 14.0)\\n         Predict: 0.17708762133747538\\n        Else (feature 309 > 14.0)\\n         Predict: 0.19057235488727736\\n    Else (feature 309 > 59.0)\\n     If (feature 308 <= 16.0)\\n      If (feature 307 <= 42.0)\\n       If (feature 306 in {0.0})\\n        If (feature 309 <= 93.0)\\n         Predict: 0.19793031367107472\\n        Else (feature 309 > 93.0)\\n         Predict: 0.22448383619212942\\n       Else (feature 306 not in {0.0})\\n        If (feature 309 <= 93.0)\\n         Predict: 0.19705605054558134\\n        Else (feature 309 > 93.0)\\n         Predict: 0.24346923781322372\\n      Else (feature 307 > 42.0)\\n       If (feature 0 in {4.0,5.0,7.0,9.0,10.0,11.0,14.0,15.0,16.0,17.0})\\n        If (feature 309 <= 93.0)\\n         Predict: 0.21115112162840605\\n        Else (feature 309 > 93.0)\\n         Predict: 0.23868827312804308\\n       Else (feature 0 not in {4.0,5.0,7.0,9.0,10.0,11.0,14.0,15.0,16.0,17.0})\\n        If (feature 192 in {0.0})\\n         Predict: 0.23151678934155828\\n        Else (feature 192 not in {0.0})\\n         Predict: 0.3080536912751768\\n     Else (feature 308 > 16.0)\\n      If (feature 308 <= 32.0)\\n       If (feature 307 <= 35.0)\\n        If (feature 306 in {0.0})\\n         Predict: 0.21929936961727278\\n        Else (feature 306 not in {0.0})\\n         Predict: 0.24160505061995227\\n       Else (feature 307 > 35.0)\\n        If (feature 309 <= 93.0)\\n         Predict: 0.21704385828000627\\n        Else (feature 309 > 93.0)\\n         Predict: 0.24639380349043888\\n      Else (feature 308 > 32.0)\\n       If (feature 306 in {0.0})\\n        If (feature 307 <= 35.0)\\n         Predict: 0.2330997111099368\\n        Else (feature 307 > 35.0)\\n         Predict: 0.25250507257686916\\n       Else (feature 306 not in {0.0})\\n        If (feature 0 in {0.0,5.0,9.0,11.0,13.0})\\n         Predict: 0.262751677852349\\n        Else (feature 0 not in {0.0,5.0,9.0,11.0,13.0})\\n         Predict: 0.34899328859060397\\n  Tree 11 (weight 1.0):\\n    If (feature 309 <= 59.0)\\n     If (feature 309 <= 14.0)\\n      If (feature 307 <= 32.0)\\n       If (feature 308 <= 14.0)\\n        If (feature 307 <= 17.0)\\n         Predict: 0.1717049674012672\\n        Else (feature 307 > 17.0)\\n         Predict: 0.1740877441545136\\n       Else (feature 308 > 14.0)\\n        If (feature 1 in {0.0})\\n         Predict: 0.17547979014865753\\n        Else (feature 1 not in {0.0})\\n         Predict: 0.176517412691689\\n      Else (feature 307 > 32.0)\\n       If (feature 18 in {1.0})\\n        If (feature 0 in {3.0,4.0,5.0,7.0,8.0,9.0,10.0,12.0,13.0,14.0,15.0})\\n         Predict: 0.17753452894506244\\n        Else (feature 0 not in {3.0,4.0,5.0,7.0,8.0,9.0,10.0,12.0,13.0,14.0,15.0})\\n         Predict: 0.17953870376577838\\n       Else (feature 18 not in {1.0})\\n        If (feature 309 <= 1.0)\\n         Predict: 0.18009173975271936\\n        Else (feature 309 > 1.0)\\n         Predict: 0.18455326337169434\\n     Else (feature 309 > 14.0)\\n      If (feature 307 <= 42.0)\\n       If (feature 21 in {1.0})\\n        If (feature 307 <= 22.0)\\n         Predict: 0.179997849612136\\n        Else (feature 307 > 22.0)\\n         Predict: 0.18447427293064875\\n       Else (feature 21 not in {1.0})\\n        If (feature 0 in {0.0,4.0,5.0,6.0,9.0,14.0,17.0,19.0})\\n         Predict: 0.18278338797256813\\n        Else (feature 0 not in {0.0,4.0,5.0,6.0,9.0,14.0,17.0,19.0})\\n         Predict: 0.18391528880907343\\n      Else (feature 307 > 42.0)\\n       If (feature 3 in {0.0})\\n        If (feature 309 <= 30.0)\\n         Predict: 0.19404677325451902\\n        Else (feature 309 > 30.0)\\n         Predict: 0.20214421836345783\\n       Else (feature 3 not in {0.0})\\n        If (feature 309 <= 30.0)\\n         Predict: 0.20097968117509\\n        Else (feature 309 > 30.0)\\n         Predict: 0.20838431880842276\\n    Else (feature 309 > 59.0)\\n     If (feature 307 <= 42.0)\\n      If (feature 304 in {1.0})\\n       If (feature 309 <= 93.0)\\n        If (feature 0 in {0.0,4.0,6.0,7.0,9.0,12.0,16.0,19.0})\\n         Predict: 0.1975331606638267\\n        Else (feature 0 not in {0.0,4.0,6.0,7.0,9.0,12.0,16.0,19.0})\\n         Predict: 0.19888144791575035\\n       Else (feature 309 > 93.0)\\n        If (feature 307 <= 27.0)\\n         Predict: 0.22397121653510516\\n        Else (feature 307 > 27.0)\\n         Predict: 0.23003542049916703\\n      Else (feature 304 not in {1.0})\\n       If (feature 309 <= 93.0)\\n        If (feature 16 in {1.0})\\n         Predict: 0.1940020139116323\\n        Else (feature 16 not in {1.0})\\n         Predict: 0.19810919186877907\\n       Else (feature 309 > 93.0)\\n        If (feature 306 in {0.0})\\n         Predict: 0.2253671460774514\\n        Else (feature 306 not in {0.0})\\n         Predict: 0.24297666179718966\\n     Else (feature 307 > 42.0)\\n      If (feature 309 <= 93.0)\\n       If (feature 12 in {1.0})\\n        If (feature 304 in {0.0})\\n         Predict: 0.20636082831867852\\n        Else (feature 304 not in {0.0})\\n         Predict: 0.21344163582763595\\n       Else (feature 12 not in {1.0})\\n        If (feature 16 in {1.0})\\n         Predict: 0.20941664542802935\\n        Else (feature 16 not in {1.0})\\n         Predict: 0.21448330623874007\\n      Else (feature 309 > 93.0)\\n       If (feature 12 in {1.0})\\n        If (feature 306 in {0.0})\\n         Predict: 0.23312807997371754\\n        Else (feature 306 not in {0.0})\\n         Predict: 0.2829194630872479\\n       Else (feature 12 not in {1.0})\\n        If (feature 121 in {0.0})\\n         Predict: 0.24321752135167551\\n        Else (feature 121 not in {0.0})\\n         Predict: 0.3041706615532088\\n  Tree 12 (weight 1.0):\\n    If (feature 309 <= 59.0)\\n     If (feature 309 <= 14.0)\\n      If (feature 308 <= 13.0)\\n       If (feature 307 <= 32.0)\\n        If (feature 18 in {1.0})\\n         Predict: 0.1701136585991563\\n        Else (feature 18 not in {1.0})\\n         Predict: 0.1723069901519671\\n       Else (feature 307 > 32.0)\\n        If (feature 309 <= 1.0)\\n         Predict: 0.17951752882578798\\n        Else (feature 309 > 1.0)\\n         Predict: 0.18404213423560412\\n      Else (feature 308 > 13.0)\\n       If (feature 308 <= 31.0)\\n        If (feature 307 <= 42.0)\\n         Predict: 0.17485621528476147\\n        Else (feature 307 > 42.0)\\n         Predict: 0.18937584620536013\\n       Else (feature 308 > 31.0)\\n        If (feature 308 <= 32.0)\\n         Predict: 0.17891420864466975\\n        Else (feature 308 > 32.0)\\n         Predict: 0.1826091236011622\\n     Else (feature 309 > 14.0)\\n      If (feature 307 <= 42.0)\\n       If (feature 307 <= 21.0)\\n        If (feature 309 <= 30.0)\\n         Predict: 0.17959123822246298\\n        Else (feature 309 > 30.0)\\n         Predict: 0.18667081296330545\\n       Else (feature 307 > 21.0)\\n        If (feature 307 <= 29.0)\\n         Predict: 0.18557598075657536\\n        Else (feature 307 > 29.0)\\n         Predict: 0.18839233457094218\\n      Else (feature 307 > 42.0)\\n       If (feature 309 <= 30.0)\\n        If (feature 12 in {1.0})\\n         Predict: 0.18908492573592323\\n        Else (feature 12 not in {1.0})\\n         Predict: 0.19494244550943182\\n       Else (feature 309 > 30.0)\\n        If (feature 305 in {1.0})\\n         Predict: 0.20076012854300274\\n        Else (feature 305 not in {1.0})\\n         Predict: 0.20310334838361963\\n    Else (feature 309 > 59.0)\\n     If (feature 309 <= 93.0)\\n      If (feature 307 <= 42.0)\\n       If (feature 308 <= 14.0)\\n        If (feature 307 <= 20.0)\\n         Predict: 0.1969249327734903\\n        Else (feature 307 > 20.0)\\n         Predict: 0.20087040973284087\\n       Else (feature 308 > 14.0)\\n        If (feature 308 <= 31.0)\\n         Predict: 0.2020048236236443\\n        Else (feature 308 > 31.0)\\n         Predict: 0.21099846656373733\\n      Else (feature 307 > 42.0)\\n       If (feature 12 in {1.0})\\n        If (feature 0 in {3.0,5.0,7.0,9.0,10.0,12.0,13.0,14.0,15.0,16.0})\\n         Predict: 0.2064110934113284\\n        Else (feature 0 not in {3.0,5.0,7.0,9.0,10.0,12.0,13.0,14.0,15.0,16.0})\\n         Predict: 0.21118911351751954\\n       Else (feature 12 not in {1.0})\\n        If (feature 16 in {1.0})\\n         Predict: 0.20815441460436082\\n        Else (feature 16 not in {1.0})\\n         Predict: 0.21464764078213894\\n     Else (feature 309 > 93.0)\\n      If (feature 306 in {0.0})\\n       If (feature 307 <= 42.0)\\n        If (feature 0 in {0.0,1.0,2.0,3.0,4.0,5.0,6.0,7.0,9.0,10.0,11.0,12.0,13.0,14.0,15.0,16.0,17.0,19.0})\\n         Predict: 0.22477759643378034\\n        Else (feature 0 not in {0.0,1.0,2.0,3.0,4.0,5.0,6.0,7.0,9.0,10.0,11.0,12.0,13.0,14.0,15.0,16.0,17.0,19.0})\\n         Predict: 0.23666340788083717\\n       Else (feature 307 > 42.0)\\n        If (feature 12 in {1.0})\\n         Predict: 0.2326512951674007\\n        Else (feature 12 not in {1.0})\\n         Predict: 0.24235524982769652\\n      Else (feature 306 not in {0.0})\\n       If (feature 307 <= 28.0)\\n        If (feature 15 in {1.0})\\n         Predict: 0.2249043208164624\\n        Else (feature 15 not in {1.0})\\n         Predict: 0.2425273307823643\\n       Else (feature 307 > 28.0)\\n        If (feature 307 <= 42.0)\\n         Predict: 0.2548619757660421\\n        Else (feature 307 > 42.0)\\n         Predict: 0.2708975869665453\\n  Tree 13 (weight 1.0):\\n    If (feature 303 in {1.0})\\n     If (feature 2 in {0.0})\\n      If (feature 309 <= 41.0)\\n       If (feature 309 <= 8.0)\\n        If (feature 307 <= 29.0)\\n         Predict: 0.17219697511833273\\n        Else (feature 307 > 29.0)\\n         Predict: 0.17894358565578927\\n       Else (feature 309 > 8.0)\\n        If (feature 309 <= 21.0)\\n         Predict: 0.17851175606835246\\n        Else (feature 309 > 21.0)\\n         Predict: 0.18407049506483092\\n      Else (feature 309 > 41.0)\\n       If (feature 309 <= 93.0)\\n        If (feature 307 <= 42.0)\\n         Predict: 0.19381325181352854\\n        Else (feature 307 > 42.0)\\n         Predict: 0.2095447507281008\\n       Else (feature 309 > 93.0)\\n        If (feature 69 in {0.0})\\n         Predict: 0.2273446102645809\\n        Else (feature 69 not in {0.0})\\n         Predict: 0.3693512304250492\\n     Else (feature 2 not in {0.0})\\n      If (feature 309 <= 30.0)\\n       If (feature 311 <= 0.190870531205817)\\n        If (feature 307 <= 29.0)\\n         Predict: 0.17281880722590393\\n        Else (feature 307 > 29.0)\\n         Predict: 0.18326233735954417\\n       Else (feature 311 > 0.190870531205817)\\n        If (feature 307 <= 28.0)\\n         Predict: 0.1733169055367249\\n        Else (feature 307 > 28.0)\\n         Predict: 0.18294441937848946\\n      Else (feature 309 > 30.0)\\n       If (feature 309 <= 93.0)\\n        If (feature 309 <= 59.0)\\n         Predict: 0.1892019247419597\\n        Else (feature 309 > 59.0)\\n         Predict: 0.19993208692873124\\n       Else (feature 309 > 93.0)\\n        If (feature 307 <= 35.0)\\n         Predict: 0.2182565417389337\\n        Else (feature 307 > 35.0)\\n         Predict: 0.23169434649072926\\n    Else (feature 303 not in {1.0})\\n     If (feature 309 <= 59.0)\\n      If (feature 308 <= 22.0)\\n       If (feature 309 <= 14.0)\\n        If (feature 307 <= 33.0)\\n         Predict: 0.17241975698719106\\n        Else (feature 307 > 33.0)\\n         Predict: 0.18140889192016688\\n       Else (feature 309 > 14.0)\\n        If (feature 5 in {1.0})\\n         Predict: 0.1827221356882943\\n        Else (feature 5 not in {1.0})\\n         Predict: 0.18409883928285042\\n      Else (feature 308 > 22.0)\\n       If (feature 0 in {2.0,4.0,5.0,7.0,8.0,9.0,10.0,12.0,13.0,17.0})\\n        If (feature 307 <= 35.0)\\n         Predict: 0.17948218260404755\\n        Else (feature 307 > 35.0)\\n         Predict: 0.19698345796238953\\n       Else (feature 0 not in {2.0,4.0,5.0,7.0,8.0,9.0,10.0,12.0,13.0,17.0})\\n        If (feature 309 <= 21.0)\\n         Predict: 0.18018902438787832\\n        Else (feature 309 > 21.0)\\n         Predict: 0.195952175023107\\n     Else (feature 309 > 59.0)\\n      If (feature 309 <= 93.0)\\n       If (feature 308 <= 13.0)\\n        If (feature 2 in {0.0})\\n         Predict: 0.1986406973836301\\n        Else (feature 2 not in {0.0})\\n         Predict: 0.19967946064741496\\n       Else (feature 308 > 13.0)\\n        If (feature 100 in {0.0})\\n         Predict: 0.20417823009289637\\n        Else (feature 100 not in {0.0})\\n         Predict: 0.21438623078588095\\n      Else (feature 309 > 93.0)\\n       If (feature 307 <= 42.0)\\n        If (feature 0 in {0.0,1.0,2.0,4.0,6.0,7.0,9.0,15.0,19.0})\\n         Predict: 0.22456601186822334\\n        Else (feature 0 not in {0.0,1.0,2.0,4.0,6.0,7.0,9.0,15.0,19.0})\\n         Predict: 0.22812541224410088\\n       Else (feature 307 > 42.0)\\n        If (feature 306 in {0.0})\\n         Predict: 0.241554641835669\\n        Else (feature 306 not in {0.0})\\n         Predict: 0.26697797903021403\\n  Tree 14 (weight 1.0):\\n    If (feature 307 <= 35.0)\\n     If (feature 308 <= 16.0)\\n      If (feature 303 in {1.0})\\n       If (feature 309 <= 41.0)\\n        If (feature 310 <= 5.0)\\n         Predict: 0.17305334178022316\\n        Else (feature 310 > 5.0)\\n         Predict: 0.17270234181454971\\n       Else (feature 309 > 41.0)\\n        If (feature 308 <= 6.0)\\n         Predict: 0.19946082440413893\\n        Else (feature 308 > 6.0)\\n         Predict: 0.20410874136923884\\n      Else (feature 303 not in {1.0})\\n       If (feature 309 <= 59.0)\\n        If (feature 16 in {1.0})\\n         Predict: 0.1711081926698096\\n        Else (feature 16 not in {1.0})\\n         Predict: 0.17428552345795195\\n       Else (feature 309 > 59.0)\\n        If (feature 304 in {1.0})\\n         Predict: 0.20998794636619278\\n        Else (feature 304 not in {1.0})\\n         Predict: 0.21403077794840702\\n     Else (feature 308 > 16.0)\\n      If (feature 308 <= 32.0)\\n       If (feature 303 in {1.0})\\n        If (feature 308 <= 24.0)\\n         Predict: 0.17682213474152955\\n        Else (feature 308 > 24.0)\\n         Predict: 0.1788889484761008\\n       Else (feature 303 not in {1.0})\\n        If (feature 307 <= 17.0)\\n         Predict: 0.1803030271348091\\n        Else (feature 307 > 17.0)\\n         Predict: 0.18588102642925028\\n      Else (feature 308 > 32.0)\\n       If (feature 0 in {1.0,2.0,4.0,5.0,6.0,8.0,9.0,10.0,12.0,13.0,15.0,17.0,19.0})\\n        If (feature 196 in {0.0})\\n         Predict: 0.1877668334834708\\n        Else (feature 196 not in {0.0})\\n         Predict: 0.22104026845636326\\n       Else (feature 0 not in {1.0,2.0,4.0,5.0,6.0,8.0,9.0,10.0,12.0,13.0,15.0,17.0,19.0})\\n        If (feature 309 <= 93.0)\\n         Predict: 0.18809797744601192\\n        Else (feature 309 > 93.0)\\n         Predict: 0.24976248329960699\\n    Else (feature 307 > 35.0)\\n     If (feature 309 <= 59.0)\\n      If (feature 307 <= 42.0)\\n       If (feature 12 in {1.0})\\n        If (feature 305 in {1.0})\\n         Predict: 0.17679092361776924\\n        Else (feature 305 not in {1.0})\\n         Predict: 0.17774186995950475\\n       Else (feature 12 not in {1.0})\\n        If (feature 309 <= 15.0)\\n         Predict: 0.1786632132313596\\n        Else (feature 309 > 15.0)\\n         Predict: 0.19035259640331795\\n      Else (feature 307 > 42.0)\\n       If (feature 309 <= 15.0)\\n        If (feature 309 <= 0.0)\\n         Predict: 0.18356452517153202\\n        Else (feature 309 > 0.0)\\n         Predict: 0.18858002601740187\\n       Else (feature 309 > 15.0)\\n        If (feature 3 in {0.0})\\n         Predict: 0.1983397608842004\\n        Else (feature 3 not in {0.0})\\n         Predict: 0.20604345526045753\\n     Else (feature 309 > 59.0)\\n      If (feature 307 <= 42.0)\\n       If (feature 249 in {0.0})\\n        If (feature 0 in {3.0,4.0,5.0,6.0,7.0,9.0,10.0,14.0,15.0,18.0})\\n         Predict: 0.21796813718607544\\n        Else (feature 0 not in {3.0,4.0,5.0,6.0,7.0,9.0,10.0,14.0,15.0,18.0})\\n         Predict: 0.22248154780833157\\n       Else (feature 249 not in {0.0})\\n        If (feature 0 in {2.0})\\n         Predict: 0.32181208053691274\\n        Else (feature 0 not in {2.0})\\n         Predict: 0.5161073825503356\\n      Else (feature 307 > 42.0)\\n       If (feature 309 <= 93.0)\\n        If (feature 308 <= 14.0)\\n         Predict: 0.21234526397850623\\n        Else (feature 308 > 14.0)\\n         Predict: 0.21989765612731887\\n       Else (feature 309 > 93.0)\\n        If (feature 308 <= 32.0)\\n         Predict: 0.2418979159565067\\n        Else (feature 308 > 32.0)\\n         Predict: 0.27229707483854654\\n  Tree 15 (weight 1.0):\\n    If (feature 307 <= 35.0)\\n     If (feature 305 in {0.0})\\n      If (feature 303 in {1.0})\\n       If (feature 307 <= 18.0)\\n        If (feature 307 <= 13.0)\\n         Predict: 0.17289527668588242\\n        Else (feature 307 > 13.0)\\n         Predict: 0.17420774297363575\\n       Else (feature 307 > 18.0)\\n        If (feature 307 <= 26.0)\\n         Predict: 0.1758320044431124\\n        Else (feature 307 > 26.0)\\n         Predict: 0.17840839553804502\\n      Else (feature 303 not in {1.0})\\n       If (feature 0 in {0.0,2.0,3.0,4.0,5.0,7.0,8.0,12.0,16.0,17.0,18.0,19.0})\\n        If (feature 309 <= 59.0)\\n         Predict: 0.17406364671307537\\n        Else (feature 309 > 59.0)\\n         Predict: 0.2117609822944965\\n       Else (feature 0 not in {0.0,2.0,3.0,4.0,5.0,7.0,8.0,12.0,16.0,17.0,18.0,19.0})\\n        If (feature 11 in {0.0})\\n         Predict: 0.17716722527117218\\n        Else (feature 11 not in {0.0})\\n         Predict: 0.18010547034020102\\n     Else (feature 305 not in {0.0})\\n      If (feature 6 in {1.0})\\n       If (feature 309 <= 59.0)\\n        If (feature 311 <= 0.3098363966875379)\\n         Predict: 0.17483124298140526\\n        Else (feature 311 > 0.3098363966875379)\\n         Predict: 0.17132088644655644\\n       Else (feature 309 > 59.0)\\n        If (feature 311 <= 0.356089678852757)\\n         Predict: 0.20802302085588512\\n        Else (feature 311 > 0.356089678852757)\\n         Predict: 0.22736791643538345\\n      Else (feature 6 not in {1.0})\\n       If (feature 2 in {0.0})\\n        If (feature 308 <= 9.0)\\n         Predict: 0.1789162139856162\\n        Else (feature 308 > 9.0)\\n         Predict: 0.1835265019476082\\n       Else (feature 2 not in {0.0})\\n        If (feature 310 <= 5.0)\\n         Predict: 0.1840028244314926\\n        Else (feature 310 > 5.0)\\n         Predict: 0.18173290049778473\\n    Else (feature 307 > 35.0)\\n     If (feature 309 <= 59.0)\\n      If (feature 307 <= 42.0)\\n       If (feature 309 <= 15.0)\\n        If (feature 309 <= 1.0)\\n         Predict: 0.1773854914081251\\n        Else (feature 309 > 1.0)\\n         Predict: 0.1813631179541166\\n       Else (feature 309 > 15.0)\\n        If (feature 309 <= 30.0)\\n         Predict: 0.18629202644930604\\n        Else (feature 309 > 30.0)\\n         Predict: 0.19338330929216355\\n      Else (feature 307 > 42.0)\\n       If (feature 309 <= 15.0)\\n        If (feature 18 in {1.0})\\n         Predict: 0.18140663274919921\\n        Else (feature 18 not in {1.0})\\n         Predict: 0.18564077954603742\\n       Else (feature 309 > 15.0)\\n        If (feature 309 <= 30.0)\\n         Predict: 0.19448234935394082\\n        Else (feature 309 > 30.0)\\n         Predict: 0.2023916759101769\\n     Else (feature 309 > 59.0)\\n      If (feature 306 in {0.0})\\n       If (feature 308 <= 19.0)\\n        If (feature 309 <= 93.0)\\n         Predict: 0.20973222872401015\\n        Else (feature 309 > 93.0)\\n         Predict: 0.23760876363602448\\n       Else (feature 308 > 19.0)\\n        If (feature 309 <= 93.0)\\n         Predict: 0.21944106543624162\\n        Else (feature 309 > 93.0)\\n         Predict: 0.25320186056276106\\n      Else (feature 306 not in {0.0})\\n       If (feature 311 <= 0.07372248030700869)\\n        If (feature 60 in {0.0})\\n         Predict: 0.24062870114488746\\n        Else (feature 60 not in {0.0})\\n         Predict: 0.3099328859060407\\n       Else (feature 311 > 0.07372248030700869)\\n        If (feature 0 in {1.0,4.0,5.0,6.0,7.0,8.0,10.0,12.0,13.0,14.0,15.0})\\n         Predict: 0.25148449984020455\\n        Else (feature 0 not in {1.0,4.0,5.0,6.0,7.0,8.0,10.0,12.0,13.0,14.0,15.0})\\n         Predict: 0.2840307935254638\\n  Tree 16 (weight 1.0):\\n    If (feature 309 <= 59.0)\\n     If (feature 309 <= 14.0)\\n      If (feature 307 <= 31.0)\\n       If (feature 0 in {4.0,6.0,12.0,14.0})\\n        If (feature 308 <= 17.0)\\n         Predict: 0.17163019487952588\\n        Else (feature 308 > 17.0)\\n         Predict: 0.17589675124856083\\n       Else (feature 0 not in {4.0,6.0,12.0,14.0})\\n        If (feature 307 <= 17.0)\\n         Predict: 0.17207543233543127\\n        Else (feature 307 > 17.0)\\n         Predict: 0.17444151197939858\\n      Else (feature 307 > 31.0)\\n       If (feature 18 in {1.0})\\n        If (feature 309 <= 0.0)\\n         Predict: 0.17685271486167414\\n        Else (feature 309 > 0.0)\\n         Predict: 0.18112925512270303\\n       Else (feature 18 not in {1.0})\\n        If (feature 3 in {0.0})\\n         Predict: 0.18073438418999005\\n        Else (feature 3 not in {0.0})\\n         Predict: 0.18626815516251324\\n     Else (feature 309 > 14.0)\\n      If (feature 309 <= 30.0)\\n       If (feature 307 <= 42.0)\\n        If (feature 307 <= 21.0)\\n         Predict: 0.1795724603043445\\n        Else (feature 307 > 21.0)\\n         Predict: 0.1833555663911015\\n       Else (feature 307 > 42.0)\\n        If (feature 0 in {5.0,7.0,9.0,12.0,14.0,15.0})\\n         Predict: 0.19231398674561428\\n        Else (feature 0 not in {5.0,7.0,9.0,12.0,14.0,15.0})\\n         Predict: 0.1959211467524137\\n      Else (feature 309 > 30.0)\\n       If (feature 0 in {0.0,4.0,6.0,9.0,16.0,19.0})\\n        If (feature 0 in {0.0,19.0})\\n         Predict: 0.18698027671414139\\n        Else (feature 0 not in {0.0,19.0})\\n         Predict: 0.1878411512484887\\n       Else (feature 0 not in {0.0,4.0,6.0,9.0,16.0,19.0})\\n        If (feature 311 <= 0.23793173096344172)\\n         Predict: 0.1889815231269078\\n        Else (feature 311 > 0.23793173096344172)\\n         Predict: 0.18813980907790298\\n    Else (feature 309 > 59.0)\\n     If (feature 307 <= 42.0)\\n      If (feature 304 in {1.0})\\n       If (feature 307 <= 20.0)\\n        If (feature 0 in {0.0,4.0,19.0})\\n         Predict: 0.20567583685782542\\n        Else (feature 0 not in {0.0,4.0,19.0})\\n         Predict: 0.21053508997137216\\n       Else (feature 307 > 20.0)\\n        If (feature 309 <= 93.0)\\n         Predict: 0.20173033407552224\\n        Else (feature 309 > 93.0)\\n         Predict: 0.22787034370337306\\n      Else (feature 304 not in {1.0})\\n       If (feature 308 <= 7.0)\\n        If (feature 306 in {0.0})\\n         Predict: 0.2108148895791104\\n        Else (feature 306 not in {0.0})\\n         Predict: 0.23586746412465276\\n       Else (feature 308 > 7.0)\\n        If (feature 306 in {0.0})\\n         Predict: 0.2162756996842601\\n        Else (feature 306 not in {0.0})\\n         Predict: 0.23354737171403814\\n     Else (feature 307 > 42.0)\\n      If (feature 306 in {0.0})\\n       If (feature 309 <= 93.0)\\n        If (feature 311 <= 0.1276509796000808)\\n         Predict: 0.21384343692247834\\n        Else (feature 311 > 0.1276509796000808)\\n         Predict: 0.21210465890284635\\n       Else (feature 309 > 93.0)\\n        If (feature 12 in {1.0})\\n         Predict: 0.2335907474330293\\n        Else (feature 12 not in {1.0})\\n         Predict: 0.24300761625615505\\n      Else (feature 306 not in {0.0})\\n       If (feature 21 in {0.0})\\n        If (feature 5 in {1.0})\\n         Predict: 0.22208663819402077\\n        Else (feature 5 not in {1.0})\\n         Predict: 0.26528283796740165\\n       Else (feature 21 not in {0.0})\\n        If (feature 308 <= 5.0)\\n         Predict: 0.2674496644295302\\n        Else (feature 308 > 5.0)\\n         Predict: 0.35402684563758396\\n  Tree 17 (weight 1.0):\\n    If (feature 309 <= 59.0)\\n     If (feature 309 <= 14.0)\\n      If (feature 307 <= 31.0)\\n       If (feature 309 <= 1.0)\\n        If (feature 307 <= 17.0)\\n         Predict: 0.17122292575450307\\n        Else (feature 307 > 17.0)\\n         Predict: 0.17349436381657224\\n       Else (feature 309 > 1.0)\\n        If (feature 309 <= 7.0)\\n         Predict: 0.17428752608288828\\n        Else (feature 309 > 7.0)\\n         Predict: 0.17648729172828823\\n      Else (feature 307 > 31.0)\\n       If (feature 307 <= 42.0)\\n        If (feature 0 in {4.0,5.0,7.0,9.0,13.0,14.0,15.0})\\n         Predict: 0.1767098963108981\\n        Else (feature 0 not in {4.0,5.0,7.0,9.0,13.0,14.0,15.0})\\n         Predict: 0.17858709516347185\\n       Else (feature 307 > 42.0)\\n        If (feature 16 in {1.0})\\n         Predict: 0.18076967552336629\\n        Else (feature 16 not in {1.0})\\n         Predict: 0.18579773469476524\\n     Else (feature 309 > 14.0)\\n      If (feature 309 <= 30.0)\\n       If (feature 308 <= 14.0)\\n        If (feature 5 in {1.0})\\n         Predict: 0.17958758796837215\\n        Else (feature 5 not in {1.0})\\n         Predict: 0.1807334521300298\\n       Else (feature 308 > 14.0)\\n        If (feature 308 <= 31.0)\\n         Predict: 0.18451914819173643\\n        Else (feature 308 > 31.0)\\n         Predict: 0.1924631605606393\\n      Else (feature 309 > 30.0)\\n       If (feature 309 <= 41.0)\\n        If (feature 307 <= 42.0)\\n         Predict: 0.1850755509077983\\n        Else (feature 307 > 42.0)\\n         Predict: 0.1994440469140678\\n       Else (feature 309 > 41.0)\\n        If (feature 311 <= 0.23793173096344172)\\n         Predict: 0.1908497138199749\\n        Else (feature 311 > 0.23793173096344172)\\n         Predict: 0.18974401191989768\\n    Else (feature 309 > 59.0)\\n     If (feature 304 in {1.0})\\n      If (feature 309 <= 93.0)\\n       If (feature 311 <= 0.23793173096344172)\\n        If (feature 0 in {0.0,4.0,6.0,12.0,13.0,16.0,17.0,18.0,19.0})\\n         Predict: 0.1985786866941135\\n        Else (feature 0 not in {0.0,4.0,6.0,12.0,13.0,16.0,17.0,18.0,19.0})\\n         Predict: 0.2002137330246824\\n       Else (feature 311 > 0.23793173096344172)\\n        If (feature 308 <= 27.0)\\n         Predict: 0.198044195825878\\n        Else (feature 308 > 27.0)\\n         Predict: 0.21027049013626475\\n      Else (feature 309 > 93.0)\\n       If (feature 282 in {0.0})\\n        If (feature 307 <= 42.0)\\n         Predict: 0.2245430802146994\\n        Else (feature 307 > 42.0)\\n         Predict: 0.24235159951821564\\n       Else (feature 282 not in {0.0})\\n        If (feature 307 <= 9.0)\\n         Predict: 0.3605145413870246\\n        Else (feature 307 > 9.0)\\n         Predict: 0.3278523489932885\\n     Else (feature 304 not in {1.0})\\n      If (feature 308 <= 6.0)\\n       If (feature 309 <= 93.0)\\n        If (feature 311 <= 0.11593617451019995)\\n         Predict: 0.19857523445370737\\n        Else (feature 311 > 0.11593617451019995)\\n         Predict: 0.19768119766743592\\n       Else (feature 309 > 93.0)\\n        If (feature 0 in {0.0,1.0,2.0,3.0,4.0,5.0,6.0,7.0,9.0,10.0,11.0,12.0,13.0,14.0,15.0,16.0,17.0,19.0})\\n         Predict: 0.2255045111984933\\n        Else (feature 0 not in {0.0,1.0,2.0,3.0,4.0,5.0,6.0,7.0,9.0,10.0,11.0,12.0,13.0,14.0,15.0,16.0,17.0,19.0})\\n         Predict: 0.24187140866746226\\n      Else (feature 308 > 6.0)\\n       If (feature 39 in {0.0})\\n        If (feature 307 <= 42.0)\\n         Predict: 0.21633982498270937\\n        Else (feature 307 > 42.0)\\n         Predict: 0.23078482546908635\\n       Else (feature 39 not in {0.0})\\n        If (feature 0 in {4.0,5.0,6.0,9.0,13.0,16.0})\\n         Predict: 0.2332242964299814\\n        Else (feature 0 not in {4.0,5.0,6.0,9.0,13.0,16.0})\\n         Predict: 0.2746379371246909\\n  Tree 18 (weight 1.0):\\n    If (feature 309 <= 59.0)\\n     If (feature 308 <= 19.0)\\n      If (feature 304 in {0.0})\\n       If (feature 309 <= 14.0)\\n        If (feature 307 <= 30.0)\\n         Predict: 0.17228741367662428\\n        Else (feature 307 > 30.0)\\n         Predict: 0.1796217367800472\\n       Else (feature 309 > 14.0)\\n        If (feature 309 <= 30.0)\\n         Predict: 0.18082559225256695\\n        Else (feature 309 > 30.0)\\n         Predict: 0.18811680313436452\\n      Else (feature 304 not in {0.0})\\n       If (feature 309 <= 14.0)\\n        If (feature 308 <= 9.0)\\n         Predict: 0.172638385382757\\n        Else (feature 308 > 9.0)\\n         Predict: 0.1739161962894086\\n       Else (feature 309 > 14.0)\\n        If (feature 307 <= 42.0)\\n         Predict: 0.1831373556079913\\n        Else (feature 307 > 42.0)\\n         Predict: 0.19917239036286594\\n     Else (feature 308 > 19.0)\\n      If (feature 0 in {2.0,4.0,7.0,8.0,10.0,12.0,13.0,19.0})\\n       If (feature 309 <= 13.0)\\n        If (feature 307 <= 35.0)\\n         Predict: 0.17652805557578063\\n        Else (feature 307 > 35.0)\\n         Predict: 0.19047925134700777\\n       Else (feature 309 > 13.0)\\n        If (feature 307 <= 42.0)\\n         Predict: 0.18974568430693634\\n        Else (feature 307 > 42.0)\\n         Predict: 0.20811569886197842\\n      Else (feature 0 not in {2.0,4.0,7.0,8.0,10.0,12.0,13.0,19.0})\\n       If (feature 308 <= 32.0)\\n        If (feature 2 in {0.0})\\n         Predict: 0.17860894517239162\\n        Else (feature 2 not in {0.0})\\n         Predict: 0.18008830053463787\\n       Else (feature 308 > 32.0)\\n        If (feature 311 <= 0.1593617451019996)\\n         Predict: 0.18697492341305177\\n        Else (feature 311 > 0.1593617451019996)\\n         Predict: 0.18507636782045464\\n    Else (feature 309 > 59.0)\\n     If (feature 309 <= 93.0)\\n      If (feature 311 <= 0.23793173096344172)\\n       If (feature 307 <= 42.0)\\n        If (feature 0 in {0.0,4.0,6.0,7.0,9.0,12.0,15.0})\\n         Predict: 0.19770588461098204\\n        Else (feature 0 not in {0.0,4.0,6.0,7.0,9.0,12.0,15.0})\\n         Predict: 0.19894828471821144\\n       Else (feature 307 > 42.0)\\n        If (feature 305 in {1.0})\\n         Predict: 0.2117885256952667\\n        Else (feature 305 not in {1.0})\\n         Predict: 0.21448633413601287\\n      Else (feature 311 > 0.23793173096344172)\\n       If (feature 3 in {0.0})\\n        If (feature 308 <= 10.0)\\n         Predict: 0.1975306084663391\\n        Else (feature 308 > 10.0)\\n         Predict: 0.20112945772090818\\n       Else (feature 3 not in {0.0})\\n        If (feature 311 <= 0.4518279135528176)\\n         Predict: 0.19972905256849502\\n        Else (feature 311 > 0.4518279135528176)\\n         Predict: 0.19532015236713224\\n     Else (feature 309 > 93.0)\\n      If (feature 39 in {0.0})\\n       If (feature 307 <= 42.0)\\n        If (feature 306 in {0.0})\\n         Predict: 0.22510844961067497\\n        Else (feature 306 not in {0.0})\\n         Predict: 0.24324532632507156\\n       Else (feature 307 > 42.0)\\n        If (feature 306 in {0.0})\\n         Predict: 0.24167701614419554\\n        Else (feature 306 not in {0.0})\\n         Predict: 0.26610738255033617\\n      Else (feature 39 not in {0.0})\\n       If (feature 305 in {1.0})\\n        If (feature 0 in {1.0,5.0,6.0,9.0,13.0,16.0,19.0})\\n         Predict: 0.23376924595341492\\n        Else (feature 0 not in {1.0,5.0,6.0,9.0,13.0,16.0,19.0})\\n         Predict: 0.2644100202903075\\n       Else (feature 305 not in {1.0})\\n        If (feature 303 in {0.0})\\n         Predict: 0.23745299633490408\\n        Else (feature 303 not in {0.0})\\n         Predict: 0.352916881775942\\n  Tree 19 (weight 1.0):\\n    If (feature 307 <= 34.0)\\n     If (feature 309 <= 59.0)\\n      If (feature 309 <= 14.0)\\n       If (feature 308 <= 13.0)\\n        If (feature 308 <= 7.0)\\n         Predict: 0.17212698313148161\\n        Else (feature 308 > 7.0)\\n         Predict: 0.1729220006617645\\n       Else (feature 308 > 13.0)\\n        If (feature 309 <= -1.0)\\n         Predict: 0.17434521492266314\\n        Else (feature 309 > -1.0)\\n         Predict: 0.17760840647448708\\n      Else (feature 309 > 14.0)\\n       If (feature 309 <= 30.0)\\n        If (feature 309 <= 21.0)\\n         Predict: 0.17889571959414546\\n        Else (feature 309 > 21.0)\\n         Predict: 0.1815689266374075\\n       Else (feature 309 > 30.0)\\n        If (feature 308 <= 14.0)\\n         Predict: 0.18699746931099737\\n        Else (feature 308 > 14.0)\\n         Predict: 0.19186810759319933\\n     Else (feature 309 > 59.0)\\n      If (feature 306 in {0.0})\\n       If (feature 304 in {1.0})\\n        If (feature 309 <= 93.0)\\n         Predict: 0.19805164928271687\\n        Else (feature 309 > 93.0)\\n         Predict: 0.22438422153605975\\n       Else (feature 304 not in {1.0})\\n        If (feature 311 <= 0.4518279135528176)\\n         Predict: 0.21217467486259806\\n        Else (feature 311 > 0.4518279135528176)\\n         Predict: 0.2166675220423734\\n      Else (feature 306 not in {0.0})\\n       If (feature 2 in {0.0})\\n        If (feature 0 in {1.0,2.0,4.0,5.0,6.0,9.0,11.0,12.0,13.0,14.0,16.0,17.0,19.0})\\n         Predict: 0.22812835423031105\\n        Else (feature 0 not in {1.0,2.0,4.0,5.0,6.0,9.0,11.0,12.0,13.0,14.0,16.0,17.0,19.0})\\n         Predict: 0.2508601492381227\\n       Else (feature 2 not in {0.0})\\n        If (feature 0 in {1.0,2.0,3.0,4.0,6.0,13.0})\\n         Predict: 0.2481489704520369\\n        Else (feature 0 not in {1.0,2.0,3.0,4.0,6.0,13.0})\\n         Predict: 0.2845513298533433\\n    Else (feature 307 > 34.0)\\n     If (feature 305 in {0.0})\\n      If (feature 303 in {1.0})\\n       If (feature 307 <= 42.0)\\n        If (feature 0 in {4.0,5.0,7.0,9.0,14.0,15.0,19.0})\\n         Predict: 0.1794710321915374\\n        Else (feature 0 not in {4.0,5.0,7.0,9.0,14.0,15.0,19.0})\\n         Predict: 0.1825408287441329\\n       Else (feature 307 > 42.0)\\n        If (feature 309 <= 41.0)\\n         Predict: 0.1864867794223394\\n        Else (feature 309 > 41.0)\\n         Predict: 0.21832747914445208\\n      Else (feature 303 not in {1.0})\\n       If (feature 16 in {1.0})\\n        If (feature 307 <= 42.0)\\n         Predict: 0.17883864115584283\\n        Else (feature 307 > 42.0)\\n         Predict: 0.1878390407011933\\n       Else (feature 16 not in {1.0})\\n        If (feature 0 in {4.0,5.0,8.0,9.0,12.0,13.0,15.0,16.0,17.0,18.0})\\n         Predict: 0.19027379876813277\\n        Else (feature 0 not in {4.0,5.0,8.0,9.0,12.0,13.0,15.0,16.0,17.0,18.0})\\n         Predict: 0.19564910146649714\\n     Else (feature 305 not in {0.0})\\n      If (feature 307 <= 42.0)\\n       If (feature 0 in {4.0,5.0,7.0,8.0,9.0,10.0,12.0,13.0,14.0,15.0,16.0,18.0})\\n        If (feature 108 in {0.0})\\n         Predict: 0.18658540860162423\\n        Else (feature 108 not in {0.0})\\n         Predict: 0.35318791946315287\\n       Else (feature 0 not in {4.0,5.0,7.0,8.0,9.0,10.0,12.0,13.0,14.0,15.0,16.0,18.0})\\n        If (feature 309 <= 93.0)\\n         Predict: 0.18591354999436768\\n        Else (feature 309 > 93.0)\\n         Predict: 0.23351873138294582\\n      Else (feature 307 > 42.0)\\n       If (feature 2 in {0.0})\\n        If (feature 16 in {1.0})\\n         Predict: 0.19309566219693758\\n        Else (feature 16 not in {1.0})\\n         Predict: 0.19952337371401788\\n       Else (feature 2 not in {0.0})\\n        If (feature 0 in {1.0,2.0,3.0,4.0,5.0,6.0,8.0,9.0,13.0,16.0})\\n         Predict: 0.21046568473717034\\n        Else (feature 0 not in {1.0,2.0,3.0,4.0,5.0,6.0,8.0,9.0,13.0,16.0})\\n         Predict: 0.22951761744966462\\n'"
      ]
     },
     "execution_count": 54,
     "metadata": {},
     "output_type": "execute_result"
    }
   ],
   "source": [
    "tree.toDebugString"
   ]
  },
  {
   "cell_type": "markdown",
   "metadata": {},
   "source": [
    "### 5. Evaluation"
   ]
  },
  {
   "cell_type": "markdown",
   "metadata": {},
   "source": [
    "#### นำโมเดลมาทำ Prediction ด้วยข้อมูล testing set ที่ไม่มีค่า Null"
   ]
  },
  {
   "cell_type": "code",
   "execution_count": 55,
   "metadata": {},
   "outputs": [],
   "source": [
    "result_df = dtModel.transform(test_df.dropna())"
   ]
  },
  {
   "cell_type": "markdown",
   "metadata": {},
   "source": [
    "#### แสดงผลลัพธ์เปรียบเทียบระหว่าง Arrival Delay จริง กับ Prediction of Arrival Delay"
   ]
  },
  {
   "cell_type": "code",
   "execution_count": 56,
   "metadata": {},
   "outputs": [
    {
     "name": "stdout",
     "output_type": "stream",
     "text": [
      "+-------------------+-------------------+\n",
      "|           ArrDelay|         Prediction|\n",
      "+-------------------+-------------------+\n",
      "| 0.1644295302013423|0.17239341950842427|\n",
      "|0.17718120805369128|0.17508616174218433|\n",
      "|0.18053691275167785|0.17550853889513396|\n",
      "|0.20536912751677852| 0.2005353986963721|\n",
      "| 0.1761744966442953| 0.1734195841518387|\n",
      "|0.17885906040268457|   0.17376119642618|\n",
      "|0.18053691275167785|0.18073241665422352|\n",
      "|0.16778523489932887|0.17279448915942427|\n",
      "|  0.174496644295302|0.17405270984681262|\n",
      "|0.16946308724832215|0.17279448915942427|\n",
      "|0.16946308724832215|0.17326128428135162|\n",
      "|0.17718120805369128| 0.1827435645448029|\n",
      "|0.17583892617449665|0.18007876934004308|\n",
      "|0.16644295302013423|0.17279448915942427|\n",
      "|0.18825503355704698|0.18043422451104046|\n",
      "| 0.1738255033557047|0.17467737777416575|\n",
      "|0.17181208053691274|0.17279448915942427|\n",
      "| 0.1714765100671141|0.17279448915942427|\n",
      "|0.17751677852348993|0.17488506907497267|\n",
      "|0.17651006711409395|0.17279448915942427|\n",
      "+-------------------+-------------------+\n",
      "only showing top 20 rows\n",
      "\n"
     ]
    }
   ],
   "source": [
    "result_df.select(['ArrDelay','Prediction']).show()"
   ]
  },
  {
   "cell_type": "markdown",
   "metadata": {},
   "source": [
    "#### Plot a Graph"
   ]
  },
  {
   "cell_type": "code",
   "execution_count": 57,
   "metadata": {},
   "outputs": [
    {
     "name": "stdout",
     "output_type": "stream",
     "text": [
      "Requirement already satisfied: pandas in /opt/conda/lib/python3.6/site-packages (0.23.4)\n",
      "Requirement already satisfied: numpy>=1.9.0 in /opt/conda/lib/python3.6/site-packages (from pandas) (1.15.2)\n",
      "Requirement already satisfied: pytz>=2011k in /opt/conda/lib/python3.6/site-packages (from pandas) (2018.5)\n",
      "Requirement already satisfied: python-dateutil>=2.5.0 in /opt/conda/lib/python3.6/site-packages (from pandas) (2.7.3)\n",
      "Requirement already satisfied: six>=1.5 in /opt/conda/lib/python3.6/site-packages (from python-dateutil>=2.5.0->pandas) (1.11.0)\n",
      "\u001b[31mmkl-random 1.0.1 requires cython, which is not installed.\u001b[0m\n",
      "\u001b[33mYou are using pip version 10.0.1, however version 18.1 is available.\n",
      "You should consider upgrading via the 'pip install --upgrade pip' command.\u001b[0m\n"
     ]
    }
   ],
   "source": [
    "! pip install pandas"
   ]
  },
  {
   "cell_type": "code",
   "execution_count": 58,
   "metadata": {},
   "outputs": [],
   "source": [
    "#sample for 7000 row from 1361937 millions\n",
    "lr_prediction_sample = result_df.select(\"prediction\",\"ArrDelay\")\n",
    "lr_prediction_sample1 = lr_prediction_sample.limit(3500)\n",
    "lr_prediction_sample2 = lr_prediction_sample1.sort(\"ArrDelay\", ascending=True)\n",
    "#convert to pandas\n",
    "lr_prediction_sample_pd = lr_prediction_sample1.toPandas()"
   ]
  },
  {
   "cell_type": "code",
   "execution_count": 59,
   "metadata": {},
   "outputs": [
    {
     "name": "stdout",
     "output_type": "stream",
     "text": [
      "<class 'pandas.core.frame.DataFrame'>\n",
      "RangeIndex: 3500 entries, 0 to 3499\n",
      "Data columns (total 2 columns):\n",
      "prediction    3500 non-null float64\n",
      "ArrDelay      3500 non-null float64\n",
      "dtypes: float64(2)\n",
      "memory usage: 54.8 KB\n",
      "None\n"
     ]
    },
    {
     "data": {
      "text/html": [
       "<div>\n",
       "<style scoped>\n",
       "    .dataframe tbody tr th:only-of-type {\n",
       "        vertical-align: middle;\n",
       "    }\n",
       "\n",
       "    .dataframe tbody tr th {\n",
       "        vertical-align: top;\n",
       "    }\n",
       "\n",
       "    .dataframe thead th {\n",
       "        text-align: right;\n",
       "    }\n",
       "</style>\n",
       "<table border=\"1\" class=\"dataframe\">\n",
       "  <thead>\n",
       "    <tr style=\"text-align: right;\">\n",
       "      <th></th>\n",
       "      <th>prediction</th>\n",
       "      <th>ArrDelay</th>\n",
       "    </tr>\n",
       "  </thead>\n",
       "  <tbody>\n",
       "    <tr>\n",
       "      <th>0</th>\n",
       "      <td>0.172393</td>\n",
       "      <td>0.164430</td>\n",
       "    </tr>\n",
       "    <tr>\n",
       "      <th>1</th>\n",
       "      <td>0.175086</td>\n",
       "      <td>0.177181</td>\n",
       "    </tr>\n",
       "    <tr>\n",
       "      <th>2</th>\n",
       "      <td>0.175509</td>\n",
       "      <td>0.180537</td>\n",
       "    </tr>\n",
       "    <tr>\n",
       "      <th>3</th>\n",
       "      <td>0.200535</td>\n",
       "      <td>0.205369</td>\n",
       "    </tr>\n",
       "    <tr>\n",
       "      <th>4</th>\n",
       "      <td>0.173420</td>\n",
       "      <td>0.176174</td>\n",
       "    </tr>\n",
       "  </tbody>\n",
       "</table>\n",
       "</div>"
      ],
      "text/plain": [
       "   prediction  ArrDelay\n",
       "0    0.172393  0.164430\n",
       "1    0.175086  0.177181\n",
       "2    0.175509  0.180537\n",
       "3    0.200535  0.205369\n",
       "4    0.173420  0.176174"
      ]
     },
     "execution_count": 59,
     "metadata": {},
     "output_type": "execute_result"
    }
   ],
   "source": [
    "print(lr_prediction_sample_pd.info())\n",
    "lr_prediction_sample_pd.head(5)"
   ]
  },
  {
   "cell_type": "code",
   "execution_count": 60,
   "metadata": {},
   "outputs": [],
   "source": [
    "lr_prediction_sample_pd['id'] = lr_prediction_sample_pd.index"
   ]
  },
  {
   "cell_type": "code",
   "execution_count": 61,
   "metadata": {},
   "outputs": [
    {
     "name": "stdout",
     "output_type": "stream",
     "text": [
      "Requirement already satisfied: seaborn in /opt/conda/lib/python3.6/site-packages (0.9.0)\n",
      "Requirement already satisfied: pandas>=0.15.2 in /opt/conda/lib/python3.6/site-packages (from seaborn) (0.23.4)\n",
      "Requirement already satisfied: numpy>=1.9.3 in /opt/conda/lib/python3.6/site-packages (from seaborn) (1.15.2)\n",
      "Requirement already satisfied: matplotlib>=1.4.3 in /opt/conda/lib/python3.6/site-packages (from seaborn) (3.0.0)\n",
      "Requirement already satisfied: scipy>=0.14.0 in /opt/conda/lib/python3.6/site-packages (from seaborn) (1.1.0)\n",
      "Requirement already satisfied: pytz>=2011k in /opt/conda/lib/python3.6/site-packages (from pandas>=0.15.2->seaborn) (2018.5)\n",
      "Requirement already satisfied: python-dateutil>=2.5.0 in /opt/conda/lib/python3.6/site-packages (from pandas>=0.15.2->seaborn) (2.7.3)\n",
      "Requirement already satisfied: cycler>=0.10 in /opt/conda/lib/python3.6/site-packages (from matplotlib>=1.4.3->seaborn) (0.10.0)\n",
      "Requirement already satisfied: kiwisolver>=1.0.1 in /opt/conda/lib/python3.6/site-packages (from matplotlib>=1.4.3->seaborn) (1.0.1)\n",
      "Requirement already satisfied: pyparsing!=2.0.4,!=2.1.2,!=2.1.6,>=2.0.1 in /opt/conda/lib/python3.6/site-packages (from matplotlib>=1.4.3->seaborn) (2.2.2)\n",
      "Requirement already satisfied: six>=1.5 in /opt/conda/lib/python3.6/site-packages (from python-dateutil>=2.5.0->pandas>=0.15.2->seaborn) (1.11.0)\n",
      "Requirement already satisfied: setuptools in /opt/conda/lib/python3.6/site-packages (from kiwisolver>=1.0.1->matplotlib>=1.4.3->seaborn) (39.2.0)\n",
      "\u001b[31mmkl-random 1.0.1 requires cython, which is not installed.\u001b[0m\n",
      "\u001b[33mYou are using pip version 10.0.1, however version 18.1 is available.\n",
      "You should consider upgrading via the 'pip install --upgrade pip' command.\u001b[0m\n"
     ]
    }
   ],
   "source": [
    "! pip install seaborn"
   ]
  },
  {
   "cell_type": "code",
   "execution_count": 62,
   "metadata": {},
   "outputs": [],
   "source": [
    "import seaborn as sns\n",
    "import pandas as pd\n",
    "import numpy as np\n",
    "import matplotlib.pyplot as plt"
   ]
  },
  {
   "cell_type": "code",
   "execution_count": 63,
   "metadata": {},
   "outputs": [
    {
     "data": {
      "image/png": "[encoded data removed]",
      "text/plain": [
       "<Figure size 432x288 with 1 Axes>"
      ]
     },
     "metadata": {
      "needs_background": "light"
     },
     "output_type": "display_data"
    }
   ],
   "source": [
    "plt.plot(lr_prediction_sample_pd['id'] , lr_prediction_sample_pd['ArrDelay'],label='Actual')\n",
    "#plt.plot(cv_prediction_sample_pd['id'] , cv_prediction_sample_pd['prediction'],label='CV_Prediction')\n",
    "plt.plot(lr_prediction_sample_pd['id'] , lr_prediction_sample_pd['prediction'],label='Prediction')\n",
    "plt.legend(bbox_to_anchor=(1.05, 1), loc=2, borderaxespad=0.001)\n",
    "plt.show()"
   ]
  },
  {
   "cell_type": "code",
   "execution_count": 64,
   "metadata": {},
   "outputs": [
    {
     "data": {
      "text/plain": [
       "5482630"
      ]
     },
     "execution_count": 64,
     "metadata": {},
     "output_type": "execute_result"
    }
   ],
   "source": [
    "training_df.count()"
   ]
  },
  {
   "cell_type": "markdown",
   "metadata": {},
   "source": [
    "#### กรองบาง Tuples (Records) ทิ้งไปจาก testing set"
   ]
  },
  {
   "cell_type": "code",
   "execution_count": 65,
   "metadata": {},
   "outputs": [],
   "source": [
    "from pyspark.ml.evaluation import RegressionEvaluator"
   ]
  },
  {
   "cell_type": "code",
   "execution_count": 66,
   "metadata": {},
   "outputs": [],
   "source": [
    "new_test_df1 = test_df.filter(test_df.Origin != 'TUP')\\\n",
    ".filter(test_df.Origin != 'PIR')\\\n",
    ".filter(test_df.Dest != 'TUP')\\\n",
    ".filter(test_df.Dest != 'PIR')\\\n",
    ".filter(test_df.Origin != 'PUB')\\\n",
    ".filter(test_df.DepTime != '425')\\\n",
    ".filter(test_df.DepTime != '328')\\\n",
    ".filter(test_df.DepTime != '437')\\\n",
    ".filter(test_df.DepTime != '400')\\\n",
    ".filter(test_df.DepTime != '414')\\\n",
    ".filter(test_df.DepTime != '424')\\\n",
    ".filter(test_df.DepTime != '439')\\\n",
    ".filter(test_df.DepTime != '338')\\\n",
    ".filter(test_df.DepTime != '359')\\\n",
    ".filter(test_df.DepTime != '412')\\\n",
    ".filter(test_df.DepTime != '430')"
   ]
  },
  {
   "cell_type": "markdown",
   "metadata": {},
   "source": [
    "#### นำโมเดลมาทำ Prediction ด้วยข้อมูล testing set ที่ไม่มีค่า Null และผ่านการกรองฯ แล้ว"
   ]
  },
  {
   "cell_type": "code",
   "execution_count": 67,
   "metadata": {},
   "outputs": [],
   "source": [
    "everesult_df = dtModel.transform(new_test_df1.dropna())"
   ]
  },
  {
   "cell_type": "code",
   "execution_count": 68,
   "metadata": {},
   "outputs": [
    {
     "name": "stdout",
     "output_type": "stream",
     "text": [
      "R Squared (R2) on test data = 0.735446\n"
     ]
    }
   ],
   "source": [
    "lr_evaluator_r2 = RegressionEvaluator\\\n",
    "(predictionCol=\"prediction\",labelCol=\"ArrDelay\",metricName=\"r2\")\n",
    "print(\"R Squared (R2) on test data = %g\" \\\n",
    "      % lr_evaluator_r2.evaluate(everesult_df))"
   ]
  },
  {
   "cell_type": "code",
   "execution_count": 69,
   "metadata": {},
   "outputs": [
    {
     "name": "stdout",
     "output_type": "stream",
     "text": [
      "Root Mean Squared Error (RMSE) on test data = 0.0066312\n"
     ]
    }
   ],
   "source": [
    "lr_evaluator_rmse = RegressionEvaluator\\\n",
    "(predictionCol=\"prediction\",labelCol=\"ArrDelay\",metricName=\"rmse\")\n",
    "print(\"Root Mean Squared Error (RMSE) on test data = %g\" \\\n",
    "      % lr_evaluator_rmse.evaluate(everesult_df))"
   ]
  },
  {
   "cell_type": "code",
   "execution_count": null,
   "metadata": {},
   "outputs": [],
   "source": []
  },
  {
   "cell_type": "code",
   "execution_count": null,
   "metadata": {},
   "outputs": [],
   "source": []
  },
  {
   "cell_type": "code",
   "execution_count": null,
   "metadata": {},
   "outputs": [],
   "source": []
  },
  {
   "cell_type": "code",
   "execution_count": null,
   "metadata": {},
   "outputs": [],
   "source": []
  },
  {
   "cell_type": "code",
   "execution_count": null,
   "metadata": {},
   "outputs": [],
   "source": []
  },
  {
   "cell_type": "code",
   "execution_count": null,
   "metadata": {},
   "outputs": [],
   "source": []
  },
  {
   "cell_type": "code",
   "execution_count": null,
   "metadata": {},
   "outputs": [],
   "source": []
  },
  {
   "cell_type": "code",
   "execution_count": null,
   "metadata": {},
   "outputs": [],
   "source": []
  },
  {
   "cell_type": "code",
   "execution_count": null,
   "metadata": {},
   "outputs": [],
   "source": []
  }
 ],
 "metadata": {
  "kernelspec": {
   "display_name": "PySpark",
   "language": "python",
   "name": "pyspark"
  },
  "language_info": {
   "codemirror_mode": {
    "name": "ipython",
    "version": 3
   },
   "file_extension": ".py",
   "mimetype": "text/x-python",
   "name": "python",
   "nbconvert_exporter": "python",
   "pygments_lexer": "ipython3",
   "version": "3.6.5"
  }
 },
 "nbformat": 4,
 "nbformat_minor": 2
}